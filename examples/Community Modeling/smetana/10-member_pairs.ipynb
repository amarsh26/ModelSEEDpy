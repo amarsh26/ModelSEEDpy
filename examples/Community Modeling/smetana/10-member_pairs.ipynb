{
 "cells": [
  {
   "cell_type": "markdown",
   "id": "be17384b-a284-468c-a0b0-f0628d0802e6",
   "metadata": {},
   "source": [
    "# Load KBase"
   ]
  },
  {
   "cell_type": "code",
   "execution_count": 1,
   "id": "68a7047b-5da4-479d-85a1-87497aeeb978",
   "metadata": {},
   "outputs": [
    {
     "name": "stdout",
     "output_type": "stream",
     "text": [
      "cobrakbase 0.3.1\n"
     ]
    }
   ],
   "source": [
    "# define the environment path \n",
    "import os\n",
    "local_cobrakbase_path = os.path.join('C:', 'Users', 'Andrew Freiburger','Documents','Argonne','cobrakbase')\n",
    "os.environ[\"HOME\"] = local_cobrakbase_path\n",
    "\n",
    "# import the KBase\n",
    "import cobrakbase\n",
    "# with open(\"/Users/afreiburger/Documents/kbase_token.txt\") as token_file:\n",
    "with open(\"C:/Users/Andrew Freiburger/Documents/Argonne/kbase_token.txt\") as token_file:\n",
    "    kbase_api = cobrakbase.KBaseAPI(token_file.readline())\n",
    "\n",
    "# prevent excessive warnings\n",
    "from time import process_time\n",
    "import warnings\n",
    "warnings.filterwarnings(action='once')\n",
    "%run ../../../modelseedpy/community/mssmetana.py"
   ]
  },
  {
   "cell_type": "code",
   "execution_count": 2,
   "id": "b283a504-0495-4365-8bb0-49ef2ceee010",
   "metadata": {},
   "outputs": [
    {
     "name": "stderr",
     "output_type": "stream",
     "text": [
      "ic| mssmetana.py:42 in _get_media()\n",
      "    media: None\n",
      "    com_model: <FBAModel AP49-BC15 at 0x1ec0d9296a0>\n",
      "    model_s_: [<FBAModel Sphingobium_AP49_pacbio_v2.RAST.fbamodel at 0x1ec23b0ee50>,\n",
      "               <FBAModel Bacillus_sp._bc15.RAST.fbamodel at 0x1ec0df09fa0>]\n",
      "C:\\Users\\Andrew Freiburger\\AppData\\Local\\Programs\\Python\\Python39\\lib\\site-packages\\cobra\\medium\\minimal_medium.py:112: FutureWarning: The default dtype for empty Series will be 'object' instead of 'float64' in a future version. Specify a dtype explicitly to silence this warning.\n",
      "  medium = pd.Series()\n",
      "C:\\Users\\Andrew Freiburger\\AppData\\Local\\Programs\\Python\\Python39\\lib\\site-packages\\cobra\\medium\\minimal_medium.py:112: FutureWarning: The default dtype for empty Series will be 'object' instead of 'float64' in a future version. Specify a dtype explicitly to silence this warning.\n",
      "  medium = pd.Series()\n",
      "C:\\Users\\Andrew Freiburger\\AppData\\Local\\Programs\\Python\\Python39\\lib\\site-packages\\cobra\\medium\\minimal_medium.py:112: FutureWarning: The default dtype for empty Series will be 'object' instead of 'float64' in a future version. Specify a dtype explicitly to silence this warning.\n",
      "  medium = pd.Series()\n"
     ]
    }
   ],
   "source": [
    "AP49 = kbase_api.get_from_ws(\"Sphingobium_AP49_pacbio_v2.RAST.fbamodel\", 114731)\n",
    "BC15 = kbase_api.get_from_ws(\"Bacillus_sp._bc15.RAST.fbamodel\", 114731)\n",
    "AP49_BC15_model = kbase_api.get_from_ws(\"AP49-BC15\",114731)\n",
    "community_media = _get_media(None, AP49_BC15_model, [AP49, BC15])"
   ]
  },
  {
   "cell_type": "code",
   "execution_count": 3,
   "id": "b9dc1d9c-1350-4e62-96b8-0f6987ee4761",
   "metadata": {},
   "outputs": [
    {
     "name": "stderr",
     "output_type": "stream",
     "text": [
      "ic| mssmetana.py:42 in _get_media()\n",
      "    media: None\n",
      "    com_model: <FBAModel AP49-BC15 at 0x1ec0d9296a0>\n",
      "    model_s_: [<FBAModel Sphingobium_AP49_pacbio_v2.RAST.fbamodel at 0x1ec0e4e8d30>,\n",
      "               <FBAModel Bacillus_sp._bc15.RAST.fbamodel at 0x1ecb5e935e0>]\n"
     ]
    },
    {
     "name": "stdout",
     "output_type": "stream",
     "text": [
      "The exchange  metabolite ID's of the model Sphingobium_AP49_pacbio_v2.RAST.fbamodel,Bacillus_sp._bc15.RAST.fbamodel are completely standardized to ModelSEED.\n"
     ]
    },
    {
     "name": "stderr",
     "output_type": "stream",
     "text": [
      "C:\\Users\\Andrew Freiburger\\AppData\\Local\\Programs\\Python\\Python39\\lib\\site-packages\\cobra\\medium\\minimal_medium.py:112: FutureWarning: The default dtype for empty Series will be 'object' instead of 'float64' in a future version. Specify a dtype explicitly to silence this warning.\n",
      "  medium = pd.Series()\n",
      "C:\\Users\\Andrew Freiburger\\AppData\\Local\\Programs\\Python\\Python39\\lib\\site-packages\\cobra\\medium\\minimal_medium.py:112: FutureWarning: The default dtype for empty Series will be 'object' instead of 'float64' in a future version. Specify a dtype explicitly to silence this warning.\n",
      "  medium = pd.Series()\n",
      "C:\\Users\\Andrew Freiburger\\AppData\\Local\\Programs\\Python\\Python39\\lib\\site-packages\\cobra\\medium\\minimal_medium.py:112: FutureWarning: The default dtype for empty Series will be 'object' instead of 'float64' in a future version. Specify a dtype explicitly to silence this warning.\n",
      "  medium = pd.Series()\n"
     ]
    }
   ],
   "source": [
    "%run ../../../modelseedpy/community/mssmetana.py\n",
    "comm = MSSmetana([AP49, BC15], AP49_BC15_model)"
   ]
  },
  {
   "cell_type": "code",
   "execution_count": 4,
   "id": "ff3bd424-95d2-4a4c-893a-74d1b25d5b57",
   "metadata": {
    "scrolled": true,
    "tags": []
   },
   "outputs": [
    {
     "name": "stdout",
     "output_type": "stream",
     "text": [
      "The exchange  metabolite ID's of the model AP49-BC15 are completely standardized to ModelSEED.\n",
      "The minimal flux media consists of 40 compounds and a 2387.771426877356 total influx, with a growth value of 59.661439174858856\n",
      "\n",
      "\n",
      "\n",
      "Standardize exchange reactions in Sphingobium_AP49_pacbio_v2.RAST.fbamodel \n",
      " =============================================================================\n",
      "The exchange  metabolite ID's of the model Sphingobium_AP49_pacbio_v2.RAST.fbamodel are completely standardized to ModelSEED.\n"
     ]
    },
    {
     "name": "stderr",
     "output_type": "stream",
     "text": [
      "ic| mssmetana.py:294 in mp()\n",
      "    org_possible_contributions: [<Reaction EX_cpd00214_e0 at 0x27b95242190>,\n",
      "                                 <Reaction EX_cpd00116_e0 at 0x27b952422e0>,\n",
      "                                 <Reaction EX_cpd00129_e0 at 0x27b95242370>,\n",
      "                                 <Reaction EX_cpd00041_e0 at 0x27b95242400>,\n",
      "                                 <Reaction EX_cpd00412_e0 at 0x27b95242520>,\n",
      "                                 <Reaction EX_cpd00054_e0 at 0x27b952425b0>,\n",
      "                                 <Reaction EX_cpd00001_e0 at 0x27b95242640>,\n",
      "                                 <Reaction EX_cpd00395_e0 at 0x27b95242760>,\n",
      "                                 <Reaction EX_cpd00797_e0 at 0x27b95242880>,\n",
      "                                 <Reaction EX_cpd00154_e0 at 0x27b95242910>,\n",
      "                                 <Reaction EX_cpd11575_e0 at 0x27b95242ac0>,\n",
      "                                 <Reaction EX_cpd00138_e0 at 0x27b95242b50>,\n",
      "                                 <Reaction EX_cpd09878_e0 at 0x27b95242be0>,\n",
      "                                 <Reaction EX_cpd11579_e0 at 0x27b95242c70>,\n",
      "                                 <Reaction EX_cpd00122_e0 at 0x27b95242d90>,\n",
      "                                 <Reaction EX_cpd00184_e0 at 0x27b95242f40>,\n",
      "                                 <Reaction EX_cpd00179_e0 at 0x27b95242fd0>,\n",
      "                                 <Reaction EX_cpd00210_e0 at 0x27b9ce0c130>,\n",
      "                                 <Reaction EX_cpd00314_e0 at 0x27b9ce0c250>,\n",
      "                                 <Reaction EX_cpd11578_e0 at 0x27b9ce0c2e0>,\n",
      "                                 <Reaction EX_cpd00971_e0 at 0x27b9ce0c370>,\n",
      "                                 <Reaction EX_cpd00012_e0 at 0x27b9ce0c520>,\n",
      "                                 <Reaction EX_cpd00011_e0 at 0x27b9ce0c5b0>,\n",
      "                                 <Reaction EX_cpd00635_e0 at 0x27b9ce0c640>,\n",
      "                                 <Reaction EX_cpd10516_e0 at 0x27b9ce0c760>,\n",
      "                                 <Reaction EX_cpd03424_e0 at 0x27b9ce0c7f0>,\n",
      "                                 <Reaction EX_cpd03724_e0 at 0x27b9ce0c880>,\n",
      "                                 <Reaction EX_cpd00305_e0 at 0x27b9ce0c910>,\n",
      "                                 <Reaction EX_cpd01080_e0 at 0x27b9ce0c9a0>,\n",
      "                                 <Reaction EX_cpd00182_e0 at 0x27b9ce0cac0>,\n",
      "                                 <Reaction EX_cpd03453_e0 at 0x27b9ce0cb50>,\n",
      "                                 <Reaction EX_cpd00137_e0 at 0x27b9ce0cbe0>,\n",
      "                                 <Reaction EX_cpd03696_e0 at 0x27b9ce0cd00>,\n",
      "                                 <Reaction EX_cpd00027_e0 at 0x27b9ce0cd90>,\n",
      "                                 <Reaction EX_cpd03048_e0 at 0x27b9ce0ce20>,\n",
      "                                 <Reaction EX_cpd00588_e0 at 0x27b9ce0cf40>,\n",
      "                                 <Reaction EX_cpd00438_e0 at 0x27b9ce0cfd0>,\n",
      "                                 <Reaction EX_cpd00060_e0 at 0x27b9ce0c0a0>,\n",
      "                                 <Reaction EX_cpd00036_e0 at 0x27b9ce13130>,\n",
      "                                 <Reaction EX_cpd00033_e0 at 0x27b9ce131c0>,\n",
      "                                 <Reaction EX_cpd00035_e0 at 0x27b9ce13370>,\n",
      "                                 <Reaction EX_cpd00386_e0 at 0x27b9ce13490>,\n",
      "                                 <Reaction EX_cpd00166_e0 at 0x27b9ce13520>,\n",
      "                                 <Reaction EX_cpd00076_e0 at 0x27b9ce135b0>,\n",
      "                                 <Reaction EX_cpd00751_e0 at 0x27b9ce136d0>,\n",
      "                                 <Reaction EX_cpd00023_e0 at 0x27b9ce13760>,\n",
      "                                 <Reaction EX_cpd00276_e0 at 0x27b9ce13880>,\n",
      "                                 <Reaction EX_cpd00280_e0 at 0x27b9ce13910>,\n",
      "                                 <Reaction EX_cpd00067_e0 at 0x27b9ce139a0>,\n",
      "                                 <Reaction EX_cpd00249_e0 at 0x27b9ce130a0>,\n",
      "                                 <Reaction EX_cpd11596_e0 at 0x27b9ce13af0>,\n",
      "                                 <Reaction EX_cpd00075_e0 at 0x27b9ce13b80>,\n",
      "                                 <Reaction EX_cpd00246_e0 at 0x27b9ce13c10>,\n",
      "                                 <Reaction EX_cpd08023_e0 at 0x27b9ce13d30>,\n",
      "                                 <Reaction EX_cpd00053_e0 at 0x27b9ce13e50>,\n",
      "                                 <Reaction EX_cpd03279_e0 at 0x27b9ce13ee0>,\n",
      "                                 <Reaction EX_cpd01171_e0 at 0x27b9ce13a60>,\n",
      "                                 <Reaction EX_cpd00013_e0 at 0x27b9ce0a0d0>,\n",
      "                                 <Reaction EX_cpd00084_e0 at 0x27b9ce0a280>,\n",
      "                                 <Reaction EX_cpd00039_e0 at 0x27b9ce0a310>,\n",
      "                                 <Reaction EX_cpd00009_e0 at 0x27b9ce0a430>,\n",
      "                                 <Reaction EX_cpd03726_e0 at 0x27b9ce0a5e0>,\n",
      "                                 <Reaction EX_cpd00106_e0 at 0x27b9ce0a670>,\n",
      "                                 <Reaction EX_cpd00218_e0 at 0x27b9ce0a700>,\n",
      "                                 <Reaction EX_cpd00731_e0 at 0x27b9ce0a790>,\n",
      "                                 <Reaction EX_cpd01030_e0 at 0x27b9ce0a8b0>,\n",
      "                                 <Reaction EX_cpd01017_e0 at 0x27b9ce0a9d0>,\n",
      "                                 <Reaction EX_cpd00108_e0 at 0x27b9ce0aa60>,\n",
      "                                 <Reaction EX_cpd01012_e0 at 0x27b9ce0aaf0>,\n",
      "                                 <Reaction EX_cpd00244_e0 at 0x27b9ce0ac10>,\n",
      "                                 <Reaction EX_cpd00161_e0 at 0x27b9ce0ad30>,\n",
      "                                 <Reaction EX_cpd00082_e0 at 0x27b9ce0adc0>,\n",
      "                                 <Reaction EX_cpd00540_e0 at 0x27b9ce0ae50>,\n",
      "                                 <Reaction EX_cpd00132_e0 at 0x27b9ce0af70>]\n",
      "    len(model_util.exchange_list()): 111\n",
      "    len(community.medium): 40\n",
      "C:\\Users\\Andrew Freiburger\\AppData\\Local\\Programs\\Python\\Python39\\lib\\site-packages\\cobra\\core\\reaction.py:761: DeprecationWarning: Please use reaction.flux instead.\n",
      "  warn(\"Please use reaction.flux instead.\", DeprecationWarning)\n",
      "C:\\Users\\Andrew Freiburger\\AppData\\Local\\Programs\\Python\\Python39\\lib\\site-packages\\cobra\\core\\reaction.py:779: DeprecationWarning: Please use reaction.reduced_cost instead.\n",
      "  warn(\"Please use reaction.reduced_cost instead.\", DeprecationWarning)\n",
      "C:\\Users\\Andrew Freiburger\\AppData\\Local\\Programs\\Python\\Python39\\lib\\site-packages\\cobra\\core\\metabolite.py:207: DeprecationWarning: Please use metabolite.shadow_price instead.\n",
      "  warn(\"Please use metabolite.shadow_price instead.\", DeprecationWarning)\n",
      "C:\\Users\\Andrew Freiburger\\AppData\\Local\\Programs\\Python\\Python39\\lib\\site-packages\\cobra\\core\\metabolite.py:191: UserWarning: The element 'R' does not appear in the periodic table\n",
      "  warn(f\"The element {e} does not appear in the periodic table\")\n"
     ]
    },
    {
     "name": "stdout",
     "output_type": "stream",
     "text": [
      "remaining possible_contributions 54\r"
     ]
    },
    {
     "name": "stderr",
     "output_type": "stream",
     "text": [
      "C:\\Users\\Andrew Freiburger\\AppData\\Local\\Programs\\Python\\Python39\\lib\\site-packages\\cobra\\core\\reaction.py:761: DeprecationWarning: Please use reaction.flux instead.\n",
      "  warn(\"Please use reaction.flux instead.\", DeprecationWarning)\n",
      "C:\\Users\\Andrew Freiburger\\AppData\\Local\\Programs\\Python\\Python39\\lib\\site-packages\\cobra\\core\\reaction.py:779: DeprecationWarning: Please use reaction.reduced_cost instead.\n",
      "  warn(\"Please use reaction.reduced_cost instead.\", DeprecationWarning)\n",
      "C:\\Users\\Andrew Freiburger\\AppData\\Local\\Programs\\Python\\Python39\\lib\\site-packages\\cobra\\core\\metabolite.py:207: DeprecationWarning: Please use metabolite.shadow_price instead.\n",
      "  warn(\"Please use metabolite.shadow_price instead.\", DeprecationWarning)\n",
      "C:\\Users\\Andrew Freiburger\\AppData\\Local\\Programs\\Python\\Python39\\lib\\site-packages\\cobra\\core\\metabolite.py:191: UserWarning: The element 'R' does not appear in the periodic table\n",
      "  warn(f\"The element {e} does not appear in the periodic table\")\n"
     ]
    },
    {
     "name": "stdout",
     "output_type": "stream",
     "text": [
      "remaining possible_contributions 47\r"
     ]
    },
    {
     "name": "stderr",
     "output_type": "stream",
     "text": [
      "C:\\Users\\Andrew Freiburger\\AppData\\Local\\Programs\\Python\\Python39\\lib\\site-packages\\cobra\\core\\reaction.py:761: DeprecationWarning: Please use reaction.flux instead.\n",
      "  warn(\"Please use reaction.flux instead.\", DeprecationWarning)\n",
      "C:\\Users\\Andrew Freiburger\\AppData\\Local\\Programs\\Python\\Python39\\lib\\site-packages\\cobra\\core\\reaction.py:779: DeprecationWarning: Please use reaction.reduced_cost instead.\n",
      "  warn(\"Please use reaction.reduced_cost instead.\", DeprecationWarning)\n",
      "C:\\Users\\Andrew Freiburger\\AppData\\Local\\Programs\\Python\\Python39\\lib\\site-packages\\cobra\\core\\metabolite.py:207: DeprecationWarning: Please use metabolite.shadow_price instead.\n",
      "  warn(\"Please use metabolite.shadow_price instead.\", DeprecationWarning)\n",
      "C:\\Users\\Andrew Freiburger\\AppData\\Local\\Programs\\Python\\Python39\\lib\\site-packages\\cobra\\core\\metabolite.py:191: UserWarning: The element 'R' does not appear in the periodic table\n",
      "  warn(f\"The element {e} does not appear in the periodic table\")\n"
     ]
    },
    {
     "name": "stdout",
     "output_type": "stream",
     "text": [
      "remaining possible_contributions 44\r"
     ]
    },
    {
     "name": "stderr",
     "output_type": "stream",
     "text": [
      "C:\\Users\\Andrew Freiburger\\AppData\\Local\\Programs\\Python\\Python39\\lib\\site-packages\\cobra\\core\\reaction.py:761: DeprecationWarning: Please use reaction.flux instead.\n",
      "  warn(\"Please use reaction.flux instead.\", DeprecationWarning)\n",
      "C:\\Users\\Andrew Freiburger\\AppData\\Local\\Programs\\Python\\Python39\\lib\\site-packages\\cobra\\core\\reaction.py:779: DeprecationWarning: Please use reaction.reduced_cost instead.\n",
      "  warn(\"Please use reaction.reduced_cost instead.\", DeprecationWarning)\n",
      "C:\\Users\\Andrew Freiburger\\AppData\\Local\\Programs\\Python\\Python39\\lib\\site-packages\\cobra\\core\\metabolite.py:207: DeprecationWarning: Please use metabolite.shadow_price instead.\n",
      "  warn(\"Please use metabolite.shadow_price instead.\", DeprecationWarning)\n"
     ]
    },
    {
     "name": "stdout",
     "output_type": "stream",
     "text": [
      "remaining possible_contributions 43\r"
     ]
    },
    {
     "name": "stderr",
     "output_type": "stream",
     "text": [
      "C:\\Users\\Andrew Freiburger\\AppData\\Local\\Programs\\Python\\Python39\\lib\\site-packages\\cobra\\core\\reaction.py:761: DeprecationWarning: Please use reaction.flux instead.\n",
      "  warn(\"Please use reaction.flux instead.\", DeprecationWarning)\n",
      "C:\\Users\\Andrew Freiburger\\AppData\\Local\\Programs\\Python\\Python39\\lib\\site-packages\\cobra\\core\\reaction.py:779: DeprecationWarning: Please use reaction.reduced_cost instead.\n",
      "  warn(\"Please use reaction.reduced_cost instead.\", DeprecationWarning)\n",
      "C:\\Users\\Andrew Freiburger\\AppData\\Local\\Programs\\Python\\Python39\\lib\\site-packages\\cobra\\core\\metabolite.py:207: DeprecationWarning: Please use metabolite.shadow_price instead.\n",
      "  warn(\"Please use metabolite.shadow_price instead.\", DeprecationWarning)\n"
     ]
    },
    {
     "name": "stdout",
     "output_type": "stream",
     "text": [
      "remaining possible_contributions 42\n",
      "\n",
      "\n",
      "Standardize exchange reactions in Bacillus_sp._bc15.RAST.fbamodel \n",
      " ====================================================================\n",
      "The exchange  metabolite ID's of the model Bacillus_sp._bc15.RAST.fbamodel are completely standardized to ModelSEED.\n"
     ]
    },
    {
     "name": "stderr",
     "output_type": "stream",
     "text": [
      "ic| mssmetana.py:294 in mp()\n",
      "    org_possible_contributions: [<Reaction EX_cpd00116_e0 at 0x27b3a18ffa0>,\n",
      "                                 <Reaction EX_cpd00129_e0 at 0x27b3a18ff40>,\n",
      "                                 <Reaction EX_cpd00092_e0 at 0x27b3a198100>,\n",
      "                                 <Reaction EX_cpd00073_e0 at 0x27b3a198190>,\n",
      "                                 <Reaction EX_cpd00041_e0 at 0x27b3a198220>,\n",
      "                                 <Reaction EX_cpd00531_e0 at 0x27b3a198340>,\n",
      "                                 <Reaction EX_cpd00412_e0 at 0x27b3a1983d0>,\n",
      "                                 <Reaction EX_cpd00381_e0 at 0x27b3a198460>,\n",
      "                                 <Reaction EX_cpd00117_e0 at 0x27b3a1984f0>,\n",
      "                                 <Reaction EX_cpd00001_e0 at 0x27b3a198580>,\n",
      "                                 <Reaction EX_cpd00054_e0 at 0x27b3a198610>,\n",
      "                                 <Reaction EX_cpd00797_e0 at 0x27b3a1987c0>,\n",
      "                                 <Reaction EX_cpd00138_e0 at 0x27b3a198970>,\n",
      "                                 <Reaction EX_cpd00064_e0 at 0x27b3a198a00>,\n",
      "                                 <Reaction EX_cpd01914_e0 at 0x27b3a198a90>,\n",
      "                                 <Reaction EX_cpd09878_e0 at 0x27b3a198b20>,\n",
      "                                 <Reaction EX_cpd11579_e0 at 0x27b3a198bb0>,\n",
      "                                 <Reaction EX_cpd00122_e0 at 0x27b3a198cd0>,\n",
      "                                 <Reaction EX_cpd00184_e0 at 0x27b3a198e80>,\n",
      "                                 <Reaction EX_cpd00179_e0 at 0x27b3a198f10>,\n",
      "                                 <Reaction EX_cpd00314_e0 at 0x27b3a19a100>,\n",
      "                                 <Reaction EX_cpd11578_e0 at 0x27b3a19a190>,\n",
      "                                 <Reaction EX_cpd00971_e0 at 0x27b3a19a220>,\n",
      "                                 <Reaction EX_cpd00012_e0 at 0x27b3a19a3d0>,\n",
      "                                 <Reaction EX_cpd15603_e0 at 0x27b3a19a460>,\n",
      "                                 <Reaction EX_cpd00011_e0 at 0x27b3a19a4f0>,\n",
      "                                 <Reaction EX_cpd00635_e0 at 0x27b3a19a610>,\n",
      "                                 <Reaction EX_cpd11576_e0 at 0x27b3a19a6a0>,\n",
      "                                 <Reaction EX_cpd00080_e0 at 0x27b3a19a730>,\n",
      "                                 <Reaction EX_cpd10516_e0 at 0x27b3a19a7c0>,\n",
      "                                 <Reaction EX_cpd00222_e0 at 0x27b3a19a850>,\n",
      "                                 <Reaction EX_cpd03724_e0 at 0x27b3a19a8e0>,\n",
      "                                 <Reaction EX_cpd00309_e0 at 0x27b3a19a970>,\n",
      "                                 <Reaction EX_cpd00305_e0 at 0x27b3a19aa00>,\n",
      "                                 <Reaction EX_cpd00281_e0 at 0x27b3a19aa90>,\n",
      "                                 <Reaction EX_cpd00182_e0 at 0x27b3a19abb0>,\n",
      "                                 <Reaction EX_cpd03453_e0 at 0x27b3a19ac40>,\n",
      "                                 <Reaction EX_cpd00137_e0 at 0x27b3a19acd0>,\n",
      "                                 <Reaction EX_cpd00142_e0 at 0x27b3a19adf0>,\n",
      "                                 <Reaction EX_cpd03696_e0 at 0x27b3a19ae80>,\n",
      "                                 <Reaction EX_cpd00105_e0 at 0x27b3a19af10>,\n",
      "                                 <Reaction EX_cpd00027_e0 at 0x27b3a19afa0>,\n",
      "                                 <Reaction EX_cpd03048_e0 at 0x27b3a19a070>,\n",
      "                                 <Reaction EX_cpd00588_e0 at 0x27b3a1a7190>,\n",
      "                                 <Reaction EX_cpd00100_e0 at 0x27b3a1a7220>,\n",
      "                                 <Reaction EX_cpd01757_e0 at 0x27b3a1a72b0>,\n",
      "                                 <Reaction EX_cpd00438_e0 at 0x27b3a1a7340>,\n",
      "                                 <Reaction EX_cpd00266_e0 at 0x27b3a1a73d0>,\n",
      "                                 <Reaction EX_cpd00060_e0 at 0x27b3a1a7460>,\n",
      "                                 <Reaction EX_cpd00033_e0 at 0x27b3a1a74f0>,\n",
      "                                 <Reaction EX_cpd00159_e0 at 0x27b3a1a76a0>,\n",
      "                                 <Reaction EX_cpd00035_e0 at 0x27b3a1a77c0>,\n",
      "                                 <Reaction EX_cpd00076_e0 at 0x27b3a1a7850>,\n",
      "                                 <Reaction EX_cpd08306_e0 at 0x27b3a1a78e0>,\n",
      "                                 <Reaction EX_cpd00023_e0 at 0x27b3a1a7a00>,\n",
      "                                 <Reaction EX_cpd00276_e0 at 0x27b3a1a7b20>,\n",
      "                                 <Reaction EX_cpd00067_e0 at 0x27b3a1a7bb0>,\n",
      "                                 <Reaction EX_cpd08305_e0 at 0x27b3a1a7c40>,\n",
      "                                 <Reaction EX_cpd00249_e0 at 0x27b3a1a7cd0>,\n",
      "                                 <Reaction EX_cpd04099_e0 at 0x27b3a1a7d60>,\n",
      "                                 <Reaction EX_cpd11596_e0 at 0x27b3a1a7df0>,\n",
      "                                 <Reaction EX_cpd00268_e0 at 0x27b3a1a7e80>,\n",
      "                                 <Reaction EX_cpd00075_e0 at 0x27b3a1a7f10>,\n",
      "                                 <Reaction EX_cpd00246_e0 at 0x27b3a1a7fa0>,\n",
      "                                 <Reaction EX_cpd00637_e0 at 0x27b3a1a7070>,\n",
      "                                 <Reaction EX_cpd00211_e0 at 0x27b3a1ac190>,\n",
      "                                 <Reaction EX_cpd08023_e0 at 0x27b3a1ac220>,\n",
      "                                 <Reaction EX_cpd11597_e0 at 0x27b3a1ac340>,\n",
      "                                 <Reaction EX_cpd00226_e0 at 0x27b3a1ac3d0>,\n",
      "                                 <Reaction EX_cpd00053_e0 at 0x27b3a1ac460>,\n",
      "                                 <Reaction EX_cpd00047_e0 at 0x27b3a1ac4f0>,\n",
      "                                 <Reaction EX_cpd03279_e0 at 0x27b3a1ac580>,\n",
      "                                 <Reaction EX_cpd00180_e0 at 0x27b3a1ac6a0>,\n",
      "                                 <Reaction EX_cpd01171_e0 at 0x27b3a1ac730>,\n",
      "                                 <Reaction EX_cpd00013_e0 at 0x27b3a1ac7c0>,\n",
      "                                 <Reaction EX_cpd04097_e0 at 0x27b3a1ac8e0>,\n",
      "                                 <Reaction EX_cpd00084_e0 at 0x27b3a1aca00>,\n",
      "                                 <Reaction EX_cpd00039_e0 at 0x27b3a1aca90>,\n",
      "                                 <Reaction EX_cpd00009_e0 at 0x27b3a1acbb0>,\n",
      "                                 <Reaction EX_cpd02233_e0 at 0x27b3a1accd0>,\n",
      "                                 <Reaction EX_cpd03726_e0 at 0x27b3a1ace80>,\n",
      "                                 <Reaction EX_cpd00218_e0 at 0x27b3a1acf10>,\n",
      "                                 <Reaction EX_cpd01030_e0 at 0x27b3a1ac070>,\n",
      "                                 <Reaction EX_cpd01012_e0 at 0x27b3a1af100>,\n",
      "                                 <Reaction EX_cpd00244_e0 at 0x27b3a1af2b0>,\n",
      "                                 <Reaction EX_cpd00161_e0 at 0x27b3a1af340>,\n",
      "                                 <Reaction EX_cpd00082_e0 at 0x27b3a1af3d0>,\n",
      "                                 <Reaction EX_cpd00540_e0 at 0x27b3a1af460>,\n",
      "                                 <Reaction EX_cpd00098_e0 at 0x27b3a1af580>,\n",
      "                                 <Reaction EX_cpd00132_e0 at 0x27b3a1af610>,\n",
      "                                 <Reaction EX_cpd01329_e0 at 0x27b3a1af730>,\n",
      "                                 <Reaction EX_cpd01262_e0 at 0x27b3a1af7c0>,\n",
      "                                 <Reaction EX_cpd00130_e0 at 0x27b3a1af850>,\n",
      "                                 <Reaction EX_cpd03725_e0 at 0x27b3a1af970>]\n",
      "    len(model_util.exchange_list()): 131\n",
      "    len(community.medium): 40\n",
      "C:\\Users\\Andrew Freiburger\\AppData\\Local\\Programs\\Python\\Python39\\lib\\site-packages\\cobra\\core\\reaction.py:761: DeprecationWarning: Please use reaction.flux instead.\n",
      "  warn(\"Please use reaction.flux instead.\", DeprecationWarning)\n",
      "C:\\Users\\Andrew Freiburger\\AppData\\Local\\Programs\\Python\\Python39\\lib\\site-packages\\cobra\\core\\reaction.py:779: DeprecationWarning: Please use reaction.reduced_cost instead.\n",
      "  warn(\"Please use reaction.reduced_cost instead.\", DeprecationWarning)\n",
      "C:\\Users\\Andrew Freiburger\\AppData\\Local\\Programs\\Python\\Python39\\lib\\site-packages\\cobra\\core\\metabolite.py:207: DeprecationWarning: Please use metabolite.shadow_price instead.\n",
      "  warn(\"Please use metabolite.shadow_price instead.\", DeprecationWarning)\n"
     ]
    },
    {
     "name": "stdout",
     "output_type": "stream",
     "text": [
      "remaining possible_contributions 64\r"
     ]
    },
    {
     "name": "stderr",
     "output_type": "stream",
     "text": [
      "C:\\Users\\Andrew Freiburger\\AppData\\Local\\Programs\\Python\\Python39\\lib\\site-packages\\cobra\\core\\reaction.py:761: DeprecationWarning: Please use reaction.flux instead.\n",
      "  warn(\"Please use reaction.flux instead.\", DeprecationWarning)\n",
      "C:\\Users\\Andrew Freiburger\\AppData\\Local\\Programs\\Python\\Python39\\lib\\site-packages\\cobra\\core\\reaction.py:779: DeprecationWarning: Please use reaction.reduced_cost instead.\n",
      "  warn(\"Please use reaction.reduced_cost instead.\", DeprecationWarning)\n",
      "C:\\Users\\Andrew Freiburger\\AppData\\Local\\Programs\\Python\\Python39\\lib\\site-packages\\cobra\\core\\metabolite.py:207: DeprecationWarning: Please use metabolite.shadow_price instead.\n",
      "  warn(\"Please use metabolite.shadow_price instead.\", DeprecationWarning)\n"
     ]
    },
    {
     "name": "stdout",
     "output_type": "stream",
     "text": [
      "remaining possible_contributions 50\r"
     ]
    },
    {
     "name": "stderr",
     "output_type": "stream",
     "text": [
      "C:\\Users\\Andrew Freiburger\\AppData\\Local\\Programs\\Python\\Python39\\lib\\site-packages\\cobra\\core\\reaction.py:761: DeprecationWarning: Please use reaction.flux instead.\n",
      "  warn(\"Please use reaction.flux instead.\", DeprecationWarning)\n",
      "C:\\Users\\Andrew Freiburger\\AppData\\Local\\Programs\\Python\\Python39\\lib\\site-packages\\cobra\\core\\reaction.py:779: DeprecationWarning: Please use reaction.reduced_cost instead.\n",
      "  warn(\"Please use reaction.reduced_cost instead.\", DeprecationWarning)\n",
      "C:\\Users\\Andrew Freiburger\\AppData\\Local\\Programs\\Python\\Python39\\lib\\site-packages\\cobra\\core\\metabolite.py:207: DeprecationWarning: Please use metabolite.shadow_price instead.\n",
      "  warn(\"Please use metabolite.shadow_price instead.\", DeprecationWarning)\n"
     ]
    },
    {
     "name": "stdout",
     "output_type": "stream",
     "text": [
      "remaining possible_contributions 47\n",
      "MP score:\t\t\tEach member can possibly contribute the following to the community:\n",
      "\n",
      "Sphingobium_AP49_pacbio_v2.RAST.fbamodel \t 32\n",
      "Bacillus_sp._bc15.RAST.fbamodel \t 47\n"
     ]
    },
    {
     "data": {
      "text/plain": [
       "{'Sphingobium_AP49_pacbio_v2.RAST.fbamodel': {'cpd00001_e0',\n",
       "  'cpd00011_e0',\n",
       "  'cpd00013_e0',\n",
       "  'cpd00023_e0',\n",
       "  'cpd00033_e0',\n",
       "  'cpd00035_e0',\n",
       "  'cpd00036_e0',\n",
       "  'cpd00039_e0',\n",
       "  'cpd00041_e0',\n",
       "  'cpd00053_e0',\n",
       "  'cpd00054_e0',\n",
       "  'cpd00060_e0',\n",
       "  'cpd00067_e0',\n",
       "  'cpd00075_e0',\n",
       "  'cpd00084_e0',\n",
       "  'cpd00116_e0',\n",
       "  'cpd00122_e0',\n",
       "  'cpd00129_e0',\n",
       "  'cpd00132_e0',\n",
       "  'cpd00137_e0',\n",
       "  'cpd00138_e0',\n",
       "  'cpd00161_e0',\n",
       "  'cpd00182_e0',\n",
       "  'cpd00184_e0',\n",
       "  'cpd00246_e0',\n",
       "  'cpd00249_e0',\n",
       "  'cpd00276_e0',\n",
       "  'cpd00412_e0',\n",
       "  'cpd00438_e0',\n",
       "  'cpd00588_e0',\n",
       "  'cpd00797_e0',\n",
       "  'cpd03279_e0'},\n",
       " 'Bacillus_sp._bc15.RAST.fbamodel': {'cpd00001_e0',\n",
       "  'cpd00009_e0',\n",
       "  'cpd00011_e0',\n",
       "  'cpd00012_e0',\n",
       "  'cpd00013_e0',\n",
       "  'cpd00023_e0',\n",
       "  'cpd00033_e0',\n",
       "  'cpd00035_e0',\n",
       "  'cpd00039_e0',\n",
       "  'cpd00041_e0',\n",
       "  'cpd00047_e0',\n",
       "  'cpd00053_e0',\n",
       "  'cpd00054_e0',\n",
       "  'cpd00060_e0',\n",
       "  'cpd00064_e0',\n",
       "  'cpd00067_e0',\n",
       "  'cpd00073_e0',\n",
       "  'cpd00075_e0',\n",
       "  'cpd00080_e0',\n",
       "  'cpd00082_e0',\n",
       "  'cpd00084_e0',\n",
       "  'cpd00092_e0',\n",
       "  'cpd00100_e0',\n",
       "  'cpd00116_e0',\n",
       "  'cpd00117_e0',\n",
       "  'cpd00122_e0',\n",
       "  'cpd00129_e0',\n",
       "  'cpd00130_e0',\n",
       "  'cpd00132_e0',\n",
       "  'cpd00137_e0',\n",
       "  'cpd00138_e0',\n",
       "  'cpd00142_e0',\n",
       "  'cpd00159_e0',\n",
       "  'cpd00161_e0',\n",
       "  'cpd00180_e0',\n",
       "  'cpd00182_e0',\n",
       "  'cpd00184_e0',\n",
       "  'cpd00218_e0',\n",
       "  'cpd00226_e0',\n",
       "  'cpd00246_e0',\n",
       "  'cpd00249_e0',\n",
       "  'cpd00276_e0',\n",
       "  'cpd00309_e0',\n",
       "  'cpd00412_e0',\n",
       "  'cpd00438_e0',\n",
       "  'cpd00797_e0',\n",
       "  'cpd03279_e0'}}"
      ]
     },
     "execution_count": 4,
     "metadata": {},
     "output_type": "execute_result"
    }
   ],
   "source": [
    "comm.mp_score()"
   ]
  },
  {
   "cell_type": "code",
   "execution_count": 9,
   "id": "f791472f-4459-4fd3-ad28-66e33ef565e9",
   "metadata": {},
   "outputs": [
    {
     "ename": "AttributeError",
     "evalue": "'NoneType' object has no attribute 'copy'",
     "output_type": "error",
     "traceback": [
      "\u001b[1;31m---------------------------------------------------------------------------\u001b[0m",
      "\u001b[1;31mAttributeError\u001b[0m                            Traceback (most recent call last)",
      "Cell \u001b[1;32mIn[9], line 2\u001b[0m\n\u001b[0;32m      1\u001b[0m get_ipython()\u001b[38;5;241m.\u001b[39mrun_line_magic(\u001b[38;5;124m'\u001b[39m\u001b[38;5;124mrun\u001b[39m\u001b[38;5;124m'\u001b[39m, \u001b[38;5;124m'\u001b[39m\u001b[38;5;124m../../../modelseedpy/community/mssmetana.py\u001b[39m\u001b[38;5;124m'\u001b[39m)\n\u001b[1;32m----> 2\u001b[0m \u001b[43mcomm\u001b[49m\u001b[38;5;241;43m.\u001b[39;49m\u001b[43mmu_score\u001b[49m\u001b[43m(\u001b[49m\u001b[43m)\u001b[49m\n",
      "File \u001b[1;32m~\\Documents\\Argonne\\ModelSEED\\ModelSEEDpy\\modelseedpy\\community\\mssmetana.py:151\u001b[0m, in \u001b[0;36mMSSmetana.mu_score\u001b[1;34m(self)\u001b[0m\n\u001b[0;32m    149\u001b[0m \u001b[38;5;28;01mdef\u001b[39;00m \u001b[38;5;21mmu_score\u001b[39m(\u001b[38;5;28mself\u001b[39m):\n\u001b[0;32m    150\u001b[0m     member_excreta \u001b[38;5;241m=\u001b[39m \u001b[38;5;28mself\u001b[39m\u001b[38;5;241m.\u001b[39mmp_score() \u001b[38;5;28;01mif\u001b[39;00m \u001b[38;5;129;01mnot\u001b[39;00m \u001b[38;5;28mhasattr\u001b[39m(\u001b[38;5;28mself\u001b[39m, \u001b[38;5;124m\"\u001b[39m\u001b[38;5;124mmp\u001b[39m\u001b[38;5;124m\"\u001b[39m) \u001b[38;5;28;01melse\u001b[39;00m \u001b[38;5;28mself\u001b[39m\u001b[38;5;241m.\u001b[39mmp\n\u001b[1;32m--> 151\u001b[0m     \u001b[38;5;28mself\u001b[39m\u001b[38;5;241m.\u001b[39mmu \u001b[38;5;241m=\u001b[39m \u001b[43mMSSmetana\u001b[49m\u001b[38;5;241;43m.\u001b[39;49m\u001b[43mmu\u001b[49m\u001b[43m(\u001b[49m\u001b[38;5;28;43mself\u001b[39;49m\u001b[38;5;241;43m.\u001b[39;49m\u001b[43mmodels\u001b[49m\u001b[43m,\u001b[49m\u001b[43m \u001b[49m\u001b[38;5;28;43mself\u001b[39;49m\u001b[38;5;241;43m.\u001b[39;49m\u001b[43menvironment\u001b[49m\u001b[43m,\u001b[49m\u001b[43m \u001b[49m\u001b[43mmember_excreta\u001b[49m\u001b[43m,\u001b[49m\u001b[43m \u001b[49m\u001b[38;5;28;43mself\u001b[39;49m\u001b[38;5;241;43m.\u001b[39;49m\u001b[43mn_solutions\u001b[49m\u001b[43m,\u001b[49m\n\u001b[0;32m    152\u001b[0m \u001b[43m                           \u001b[49m\u001b[38;5;28;43mself\u001b[39;49m\u001b[38;5;241;43m.\u001b[39;49m\u001b[43mabstol\u001b[49m\u001b[43m,\u001b[49m\u001b[43m \u001b[49m\u001b[38;5;28;43;01mTrue\u001b[39;49;00m\u001b[43m,\u001b[49m\u001b[43m \u001b[49m\u001b[38;5;28;43mself\u001b[39;49m\u001b[38;5;241;43m.\u001b[39;49m\u001b[43mprinting\u001b[49m\u001b[43m)\u001b[49m\n\u001b[0;32m    153\u001b[0m     \u001b[38;5;28;01mif\u001b[39;00m \u001b[38;5;129;01mnot\u001b[39;00m \u001b[38;5;28mself\u001b[39m\u001b[38;5;241m.\u001b[39mprinting:\n\u001b[0;32m    154\u001b[0m         \u001b[38;5;28;01mreturn\u001b[39;00m \u001b[38;5;28mself\u001b[39m\u001b[38;5;241m.\u001b[39mmu\n",
      "File \u001b[1;32m~\\Documents\\Argonne\\ModelSEED\\ModelSEEDpy\\modelseedpy\\community\\mssmetana.py:323\u001b[0m, in \u001b[0;36mMSSmetana.mu\u001b[1;34m(member_models, environment, member_excreta, n_solutions, abstol, compatibilized, printing)\u001b[0m\n\u001b[0;32m    321\u001b[0m scores \u001b[38;5;241m=\u001b[39m {}\n\u001b[0;32m    322\u001b[0m member_models \u001b[38;5;241m=\u001b[39m member_models \u001b[38;5;28;01mif\u001b[39;00m compatibilized \u001b[38;5;28;01melse\u001b[39;00m _compatibilize(member_models, printing)\n\u001b[1;32m--> 323\u001b[0m member_excreta \u001b[38;5;241m=\u001b[39m \u001b[43mMSSmetana\u001b[49m\u001b[38;5;241;43m.\u001b[39;49m\u001b[43mmp\u001b[49m\u001b[43m(\u001b[49m\u001b[43mmember_models\u001b[49m\u001b[43m,\u001b[49m\u001b[43m \u001b[49m\u001b[43menvironment\u001b[49m\u001b[43m,\u001b[49m\u001b[43m \u001b[49m\u001b[38;5;28;43;01mNone\u001b[39;49;00m\u001b[43m,\u001b[49m\u001b[43m \u001b[49m\u001b[43mabstol\u001b[49m\u001b[43m,\u001b[49m\u001b[43m \u001b[49m\u001b[43mprinting\u001b[49m\u001b[43m)\u001b[49m\n\u001b[0;32m    324\u001b[0m \u001b[38;5;28mprint\u001b[39m(\u001b[38;5;28mtype\u001b[39m(member_excreta), member_excreta)\n\u001b[0;32m    325\u001b[0m missing_members \u001b[38;5;241m=\u001b[39m [model \u001b[38;5;28;01mfor\u001b[39;00m model \u001b[38;5;129;01min\u001b[39;00m member_models \u001b[38;5;28;01mif\u001b[39;00m model\u001b[38;5;241m.\u001b[39mid \u001b[38;5;129;01mnot\u001b[39;00m \u001b[38;5;129;01min\u001b[39;00m member_excreta]\n",
      "File \u001b[1;32m~\\Documents\\Argonne\\ModelSEED\\ModelSEEDpy\\modelseedpy\\community\\mssmetana.py:281\u001b[0m, in \u001b[0;36mMSSmetana.mp\u001b[1;34m(member_models, environment, com_model, minimal_media, abstol, printing)\u001b[0m\n\u001b[0;32m    278\u001b[0m \u001b[38;5;129m@staticmethod\u001b[39m\n\u001b[0;32m    279\u001b[0m \u001b[38;5;28;01mdef\u001b[39;00m \u001b[38;5;21mmp\u001b[39m(member_models:Iterable, environment, com_model\u001b[38;5;241m=\u001b[39m\u001b[38;5;28;01mNone\u001b[39;00m, minimal_media\u001b[38;5;241m=\u001b[39m\u001b[38;5;28;01mNone\u001b[39;00m, abstol\u001b[38;5;241m=\u001b[39m\u001b[38;5;241m1e-3\u001b[39m, printing\u001b[38;5;241m=\u001b[39m\u001b[38;5;28;01mFalse\u001b[39;00m):\n\u001b[0;32m    280\u001b[0m     \u001b[38;5;124;03m\"\"\"Discover the metabolites that each species can contribute to a community\"\"\"\u001b[39;00m\n\u001b[1;32m--> 281\u001b[0m     community \u001b[38;5;241m=\u001b[39m \u001b[43m_compatibilize\u001b[49m\u001b[43m(\u001b[49m\u001b[43mcom_model\u001b[49m\u001b[43m)\u001b[49m \u001b[38;5;129;01mor\u001b[39;00m build_from_species_models(member_models, cobra_model\u001b[38;5;241m=\u001b[39m\u001b[38;5;28;01mTrue\u001b[39;00m, standardize\u001b[38;5;241m=\u001b[39m\u001b[38;5;28;01mTrue\u001b[39;00m)\n\u001b[0;32m    282\u001b[0m     \u001b[38;5;66;03m# TODO support parsing the individual members through the MSCommunity object\u001b[39;00m\n\u001b[0;32m    283\u001b[0m     community\u001b[38;5;241m.\u001b[39mmedium \u001b[38;5;241m=\u001b[39m minimal_media \u001b[38;5;129;01mor\u001b[39;00m MSMinimalMedia\u001b[38;5;241m.\u001b[39mminimize_flux(community)\n",
      "File \u001b[1;32m~\\Documents\\Argonne\\ModelSEED\\ModelSEEDpy\\modelseedpy\\community\\mssmetana.py:24\u001b[0m, in \u001b[0;36m_compatibilize\u001b[1;34m(member_models, printing)\u001b[0m\n\u001b[0;32m     22\u001b[0m \u001b[38;5;28;01mdef\u001b[39;00m \u001b[38;5;21m_compatibilize\u001b[39m(member_models: Iterable, printing\u001b[38;5;241m=\u001b[39m\u001b[38;5;28;01mFalse\u001b[39;00m):\n\u001b[0;32m     23\u001b[0m     \u001b[38;5;66;03m# return member_models\u001b[39;00m\n\u001b[1;32m---> 24\u001b[0m     models \u001b[38;5;241m=\u001b[39m \u001b[43mMSCompatibility\u001b[49m\u001b[38;5;241;43m.\u001b[39;49m\u001b[43mstandardize\u001b[49m\u001b[43m(\u001b[49m\u001b[43mmember_models\u001b[49m\u001b[43m,\u001b[49m\u001b[43m \u001b[49m\u001b[43mconflicts_file_name\u001b[49m\u001b[38;5;241;43m=\u001b[39;49m\u001b[38;5;124;43m'\u001b[39;49m\u001b[38;5;124;43mexchanges_conflicts.json\u001b[39;49m\u001b[38;5;124;43m'\u001b[39;49m\u001b[43m,\u001b[49m\u001b[43m \u001b[49m\u001b[43mprinting\u001b[49m\u001b[38;5;241;43m=\u001b[39;49m\u001b[43mprinting\u001b[49m\u001b[43m)\u001b[49m\n\u001b[0;32m     25\u001b[0m     \u001b[38;5;28;01mif\u001b[39;00m \u001b[38;5;129;01mnot\u001b[39;00m \u001b[38;5;28misinstance\u001b[39m(member_models, (\u001b[38;5;28mset\u001b[39m, \u001b[38;5;28mlist\u001b[39m, \u001b[38;5;28mtuple\u001b[39m)):\n\u001b[0;32m     26\u001b[0m         \u001b[38;5;28;01mreturn\u001b[39;00m models[\u001b[38;5;241m0\u001b[39m]\n",
      "File \u001b[1;32m~\\AppData\\Local\\Programs\\Python\\Python39\\lib\\site-packages\\modelseedpy\\community\\mscompatibility.py:70\u001b[0m, in \u001b[0;36mMSCompatibility.standardize\u001b[1;34m(models, metabolites, exchanges, conflicts_file_name, model_names, export_directory, view_unknown_mets, printing, unknown_mets, changed_mets, changed_rxns)\u001b[0m\n\u001b[0;32m     68\u001b[0m models \u001b[38;5;241m=\u001b[39m [models] \u001b[38;5;28;01mif\u001b[39;00m \u001b[38;5;129;01mnot\u001b[39;00m \u001b[38;5;28misinstance\u001b[39m(models, (\u001b[38;5;28mlist\u001b[39m, \u001b[38;5;28mtuple\u001b[39m, \u001b[38;5;28mset\u001b[39m)) \u001b[38;5;28;01melse\u001b[39;00m models\n\u001b[0;32m     69\u001b[0m \u001b[38;5;28;01mfor\u001b[39;00m org_model \u001b[38;5;129;01min\u001b[39;00m models:  \u001b[38;5;66;03m# Develop a singular model function and then an abstracted version for multiple models\u001b[39;00m\n\u001b[1;32m---> 70\u001b[0m     model \u001b[38;5;241m=\u001b[39m \u001b[43morg_model\u001b[49m\u001b[38;5;241;43m.\u001b[39;49m\u001b[43mcopy\u001b[49m()  \u001b[38;5;66;03m# model_util cannot be used for a circular import\u001b[39;00m\n\u001b[0;32m     71\u001b[0m     model_exchanges \u001b[38;5;241m=\u001b[39m [rxn \u001b[38;5;28;01mfor\u001b[39;00m rxn \u001b[38;5;129;01min\u001b[39;00m model\u001b[38;5;241m.\u001b[39mreactions \u001b[38;5;28;01mif\u001b[39;00m \u001b[38;5;124m\"\u001b[39m\u001b[38;5;124mEX_\u001b[39m\u001b[38;5;124m\"\u001b[39m \u001b[38;5;129;01min\u001b[39;00m rxn\u001b[38;5;241m.\u001b[39mid]\n\u001b[0;32m     72\u001b[0m     reactions \u001b[38;5;241m=\u001b[39m {}\n",
      "\u001b[1;31mAttributeError\u001b[0m: 'NoneType' object has no attribute 'copy'"
     ]
    }
   ],
   "source": [
    "%run ../../../modelseedpy/community/mssmetana.py\n",
    "comm.mu_score()"
   ]
  },
  {
   "cell_type": "code",
   "execution_count": null,
   "id": "50c765dd-fd77-41ed-ab78-7e8d76661577",
   "metadata": {},
   "outputs": [],
   "source": [
    "from modelseedpy.core.exceptions import ModelError\n",
    "def test_pair(member1, member2, community):\n",
    "    try:\n",
    "        start_time = process_time()\n",
    "        comm = MSSmetana([member1, member2], community)\n",
    "        comm.all_scores()\n",
    "        end_time = process_time()\n",
    "\n",
    "        print(f\"The {member1.id}_{member2.id} pair has been examined after {(end_time-start_time)/60} minutes.\")\n",
    "    except (ObjectiveError, ModelError, NameError) as e:\n",
    "        print(f\"\\n\\nERROR:{e}\")"
   ]
  },
  {
   "cell_type": "markdown",
   "id": "e6fe1266-fc52-4456-8ba7-4a11946f7d93",
   "metadata": {},
   "source": [
    "# test community pairs"
   ]
  },
  {
   "cell_type": "markdown",
   "id": "8360ebf9-06bc-4e89-92ee-e959abf06e5e",
   "metadata": {},
   "source": [
    "# \"+\" interactions"
   ]
  },
  {
   "cell_type": "markdown",
   "id": "8ab7c386-e429-4e48-9b0a-c245398d0298",
   "metadata": {},
   "source": [
    "## YR343 on CF142"
   ]
  },
  {
   "cell_type": "code",
   "execution_count": null,
   "id": "64338cc5-8d9e-4de0-a7e8-f50b6b0697b0",
   "metadata": {
    "tags": []
   },
   "outputs": [],
   "source": [
    "# from cobra.medium import minimal_medium\n",
    "# media = minimal_medium(YR343, minimize_components=True).to_dict()"
   ]
  },
  {
   "cell_type": "code",
   "execution_count": null,
   "id": "e89faf27-d147-489e-b76a-29c12aced5d1",
   "metadata": {
    "tags": []
   },
   "outputs": [],
   "source": [
    "# print(media)\n",
    "# for cpd in media:\n",
    "#     print(cpd)"
   ]
  },
  {
   "cell_type": "code",
   "execution_count": null,
   "id": "0799cf60-f276-49d9-bd4e-c966bc1d4464",
   "metadata": {},
   "outputs": [],
   "source": [
    "%%time\n",
    "\n",
    "# load the pair\n",
    "YR343 = kbase_api.get_from_ws(\"Pantoea_YR343_pacbio_v2.RAST.fbamodel\", 114731)\n",
    "print(YR343.optimize())\n",
    "CF142 = kbase_api.get_from_ws(\"Rhizobium_CF142_pacbio_v2.RAST.fbamodel\", 114731)\n",
    "YR343_CF142_model = kbase_api.get_from_ws(\"YR343-CF142\", 114731)\n",
    "test_pair(YR343, CF142, YR343_CF142_model)"
   ]
  },
  {
   "cell_type": "markdown",
   "id": "faf8cc78-5a42-4de5-94d3-19f9197099f9",
   "metadata": {},
   "source": [
    "## YR343 on CF313"
   ]
  },
  {
   "cell_type": "code",
   "execution_count": null,
   "id": "6134aeb7-da5b-4f63-9db6-905594ed016d",
   "metadata": {
    "tags": []
   },
   "outputs": [],
   "source": [
    "# load the pair\n",
    "CF313 = kbase_api.get_from_ws(\"Variovorax_CF313_pacbio_v2.RAST.fbamodel\",114731)\n",
    "YR343_CF313_model = kbase_api.get_from_ws(\"YR343-CF313\",114731)"
   ]
  },
  {
   "cell_type": "code",
   "execution_count": null,
   "id": "000a750d-e228-4a54-b5b1-8183ccc85cfd",
   "metadata": {},
   "outputs": [],
   "source": [
    "%%time\n",
    "\n",
    "# %run ../../../modelseedpy/core/msminimalmedia.py\n",
    "# %time media = MSMinimalMedia.minimize_components(CF313)\n",
    "# print(len(media), media)\n",
    "test_pair(YR343, CF313, YR343_CF313_model)"
   ]
  },
  {
   "cell_type": "markdown",
   "id": "bec52dc1-3813-4dd2-b44e-b9ad1aab157b",
   "metadata": {},
   "source": [
    "## AP49 on BC15"
   ]
  },
  {
   "cell_type": "code",
   "execution_count": null,
   "id": "1d88e69f-0cc8-4499-bae9-fbe79a0a639d",
   "metadata": {
    "tags": []
   },
   "outputs": [],
   "source": [
    "AP49 = kbase_api.get_from_ws(\"Sphingobium_AP49_pacbio_v2.RAST.fbamodel\", 114731)\n",
    "BC15 = kbase_api.get_from_ws(\"Bacillus_sp._bc15.RAST.fbamodel\", 114731)\n",
    "AP49_BC15_model = kbase_api.get_from_ws(\"AP49-BC15\", 114731)\n",
    "test_pair(AP49, BC15, AP49_BC15_model)"
   ]
  },
  {
   "cell_type": "markdown",
   "id": "0f3bda29-76c0-41f3-889c-e2ed5bc5649b",
   "metadata": {},
   "source": [
    "## CF142 on BC15"
   ]
  },
  {
   "cell_type": "code",
   "execution_count": null,
   "id": "6dfbe8da-b8b8-404d-9669-48684ce56d6a",
   "metadata": {},
   "outputs": [],
   "source": [
    "CF142_BC15_model = kbase_api.get_from_ws(\"CF142-BC15\", 114731)\n",
    "test_pair(CF142, BC15, CF142_BC15_model)"
   ]
  },
  {
   "cell_type": "markdown",
   "id": "fa76d8df-8a9d-489f-95be-23a69c726e28",
   "metadata": {},
   "source": [
    "## CF402 on CF313"
   ]
  },
  {
   "cell_type": "code",
   "execution_count": null,
   "id": "cd6716bb-17d2-43cf-883c-a98346c6a97d",
   "metadata": {
    "tags": []
   },
   "outputs": [],
   "source": [
    "CF402 = kbase_api.get_from_ws(\"Duagnella_sp_CF402.RAST.fbamodel\", 114731)\n",
    "CF313 = kbase_api.get_from_ws(\"Variovorax_CF313_pacbio_v2.RAST.fbamodel\",114731)\n",
    "CF402_CF313_model = kbase_api.get_from_ws(\"CF402-CF313\", 114731)\n",
    "test_pair(CF402, CF313, CF402_CF313_model)"
   ]
  },
  {
   "cell_type": "markdown",
   "id": "0fa7156a-425e-4a79-9332-7836ee1fe0c4",
   "metadata": {},
   "source": [
    "## CF402 on BC15"
   ]
  },
  {
   "cell_type": "code",
   "execution_count": null,
   "id": "c0295b09-5487-41b2-a0e5-8a8183121c58",
   "metadata": {
    "tags": []
   },
   "outputs": [],
   "source": [
    "CF402 = kbase_api.get_from_ws(\"Duagnella_sp_CF402.RAST.fbamodel\", 114731)\n",
    "BC15 = kbase_api.get_from_ws(\"Bacillus_sp._bc15.RAST.fbamodel\", 114731)\n",
    "CF402_BC15_model = kbase_api.get_from_ws(\"CF402-BC15\", 114731)\n",
    "test_pair(CF402, BC15, CF402_BC15_model)"
   ]
  },
  {
   "cell_type": "code",
   "execution_count": null,
   "id": "5021d15b-a50d-40bd-8495-5a9b895e602e",
   "metadata": {
    "tags": []
   },
   "outputs": [],
   "source": [
    "from cobra.medium import minimal_medium\n",
    "display(sorted(list(minimal_medium(CF402, minimize_components=True).keys())))\n",
    "display(sorted(list(minimal_medium(BC15, minimize_components=True).keys())))\n",
    "display(set(list(minimal_medium(BC15, minimize_components=True).keys())) & set(list(minimal_medium(CF402, minimize_components=True).keys())))"
   ]
  },
  {
   "cell_type": "markdown",
   "id": "eaa471cb-ff01-4d27-acca-304dbbd51128",
   "metadata": {},
   "source": [
    "# \"-\" interactions"
   ]
  },
  {
   "cell_type": "markdown",
   "id": "1f84be73-f08d-4625-9c47-b6f0c96abc60",
   "metadata": {},
   "source": [
    "## GM17 on CF142"
   ]
  },
  {
   "cell_type": "code",
   "execution_count": null,
   "id": "d100cb74-4f4c-40b7-aea9-2a3c970b330f",
   "metadata": {
    "tags": []
   },
   "outputs": [],
   "source": [
    "GM17 = kbase_api.get_from_ws(\"Pseudomonas_GM17_pacbio_v2.RAST.fbamodel\", 114731)\n",
    "CF142 = kbase_api.get_from_ws(\"Rhizobium_CF142_pacbio_v2.RAST.fbamodel\", 114731)\n",
    "GM17_CF142_model = kbase_api.get_from_ws(\"GM17-CF142\", 114731)\n",
    "test_pair(GM17, CF142, GM17_CF142_model)"
   ]
  },
  {
   "cell_type": "markdown",
   "id": "565310a6-13c3-40ed-b5dd-d3183e987f3b",
   "metadata": {},
   "source": [
    "## GM17 on BC15"
   ]
  },
  {
   "cell_type": "code",
   "execution_count": null,
   "id": "34b9018e-43f6-43f6-9912-e248e84a52cf",
   "metadata": {
    "tags": []
   },
   "outputs": [],
   "source": [
    "GM17 = kbase_api.get_from_ws(\"Pseudomonas_GM17_pacbio_v2.RAST.fbamodel\", 114731)\n",
    "BC15 = kbase_api.get_from_ws(\"Bacillus_sp._bc15.RAST.fbamodel\", 114731)\n",
    "GM17_BC15_model = kbase_api.get_from_ws(\"GM17-BC15\", 114731)\n",
    "test_pair(GM17, BC15, GM17_BC15_model)"
   ]
  },
  {
   "cell_type": "markdown",
   "id": "e85748b6-7c01-4318-adb9-8ae1a70c5b35",
   "metadata": {},
   "source": [
    "## CF313 on CF142 "
   ]
  },
  {
   "cell_type": "code",
   "execution_count": null,
   "id": "4c9693e5-fe5a-439b-b6a7-d1b32e289142",
   "metadata": {},
   "outputs": [],
   "source": [
    "CF313_CF142_model = kbase_api.get_from_ws(\"CF313-CF142\", 114731)\n",
    "test_pair(CF313, CF142, CF313_CF142_model)"
   ]
  },
  {
   "cell_type": "markdown",
   "id": "b5d4bbf5-a383-486b-aa65-a8b34685f599",
   "metadata": {},
   "source": [
    "## AP07 on AP49"
   ]
  },
  {
   "cell_type": "code",
   "execution_count": null,
   "id": "65b961d3-97af-4b19-8d18-259fe28f3782",
   "metadata": {
    "tags": []
   },
   "outputs": [],
   "source": [
    "AP07 = kbase_api.get_from_ws(\"Caulobacter_AP07_pacbio_v2.RAST.fbamodel\", 114731)\n",
    "AP49 = kbase_api.get_from_ws(\"Sphingobium_AP49_pacbio_v2.RAST.fbamodel\", 114731)\n",
    "AP07_AP49_model = kbase_api.get_from_ws(\"AP07-AP49\", 114731)\n",
    "test_pair(AP07, AP49, AP07_AP49_model)"
   ]
  },
  {
   "cell_type": "markdown",
   "id": "8d3c5529-c99d-4dbf-bac9-340fdfa58471",
   "metadata": {},
   "source": [
    "## CF313 on BT03"
   ]
  },
  {
   "cell_type": "code",
   "execution_count": null,
   "id": "ee85ee54-d40e-4caf-9618-55f3531e600a",
   "metadata": {
    "tags": []
   },
   "outputs": [],
   "source": [
    "BT03 = kbase_api.get_from_ws(\"Burkholderia_sp._BT03.RAST.fbamodel\", 114731)\n",
    "CF313 = kbase_api.get_from_ws(\"Variovorax_CF313_pacbio_v2.RAST.fbamodel\",114731)\n",
    "CF313_BT03_model = kbase_api.get_from_ws(\"CF313-BT03\", 114731)\n",
    "test_pair(CF313, BT03, CF313_BT03_model)"
   ]
  },
  {
   "cell_type": "markdown",
   "id": "8edc8690-81eb-4463-b9ec-babfffbd0ded",
   "metadata": {},
   "source": [
    "## YR139 on CF142"
   ]
  },
  {
   "cell_type": "code",
   "execution_count": null,
   "id": "765f864b-469d-4d4c-a2a3-b7f8ad63276a",
   "metadata": {},
   "outputs": [],
   "source": [
    "YR139 = kbase_api.get_from_ws(\"Streptomyces_YR139_pacbio_v2.RAST.fbamodel\", 114731)\n",
    "YR139_CF142_model = kbase_api.get_from_ws(\"YR139-CF142\", 114731)\n",
    "test_pair(YR139, CF142, YR139_CF142_model)"
   ]
  },
  {
   "cell_type": "markdown",
   "id": "f3527c8d-f068-47b9-a27f-72619a3e9baa",
   "metadata": {},
   "source": [
    "## GM17 on AP49"
   ]
  },
  {
   "cell_type": "code",
   "execution_count": null,
   "id": "88e080a4-06ee-4c4a-85ff-7310f56182c2",
   "metadata": {
    "tags": []
   },
   "outputs": [],
   "source": [
    "GM17_AP49_model = kbase_api.get_from_ws(\"GM17-AP49\", 114731)\n",
    "test_pair(GM17, AP49, GM17_AP49_model)"
   ]
  },
  {
   "cell_type": "markdown",
   "id": "130448d1-0a89-4e32-84d4-9e64a03e46f6",
   "metadata": {},
   "source": [
    "## GM17 on CF313"
   ]
  },
  {
   "cell_type": "code",
   "execution_count": null,
   "id": "2840df27-3843-4d3c-beb9-662bf5c17d3d",
   "metadata": {
    "tags": []
   },
   "outputs": [],
   "source": [
    "GM17_CF313_model = kbase_api.get_from_ws(\"GM17-CF313\", 114731)\n",
    "test_pair(GM17, CF313, GM17_CF313_model)"
   ]
  },
  {
   "cell_type": "markdown",
   "id": "6a8831df-314e-40de-a1cf-d9ec4cf21278",
   "metadata": {},
   "source": [
    "## GM17 on AP07"
   ]
  },
  {
   "cell_type": "code",
   "execution_count": null,
   "id": "f27b805f-2f70-4eea-b352-4d5446e2320b",
   "metadata": {
    "tags": []
   },
   "outputs": [],
   "source": [
    "GM17_AP07_model = kbase_api.get_from_ws(\"GM17-AP07\", 114731)\n",
    "test_pair(GM17, AP07, GM17_AP07_model)"
   ]
  },
  {
   "cell_type": "markdown",
   "id": "09cfc12c-d84c-4a87-836c-5829809c45b4",
   "metadata": {},
   "source": [
    "## GM17 on CF402"
   ]
  },
  {
   "cell_type": "code",
   "execution_count": null,
   "id": "d918a46f-0136-49cd-b72d-5e9f024f977c",
   "metadata": {
    "tags": []
   },
   "outputs": [],
   "source": [
    "GM17_CF402_model = kbase_api.get_from_ws(\"GM17-CF402\", 114731)\n",
    "test_pair(GM17, CF402, GM17_CF402_model)"
   ]
  },
  {
   "cell_type": "markdown",
   "id": "bcfa9f2a-5365-4385-9146-7e0ff4e21c81",
   "metadata": {},
   "source": [
    "## GM17 on BT03"
   ]
  },
  {
   "cell_type": "code",
   "execution_count": null,
   "id": "0bd97df7-4d65-4db8-bd45-969b3c36baab",
   "metadata": {
    "tags": []
   },
   "outputs": [],
   "source": [
    "GM17_BT03_model = kbase_api.get_from_ws(\"GM17-BT03\", 114731)\n",
    "test_pair(GM17, BT03, GM17_BT03_model)"
   ]
  },
  {
   "cell_type": "code",
   "execution_count": null,
   "id": "d9f37d33-045f-4139-bf4c-5bea69b5015a",
   "metadata": {},
   "outputs": [],
   "source": [
    "from cobra.medium import minimal_medium\n",
    "len(minimal_medium(CF402, minimize_components=True))"
   ]
  },
  {
   "cell_type": "markdown",
   "id": "40fbe40e-4209-4052-9e38-27d7678c3cf2",
   "metadata": {},
   "source": [
    "# Statistically process the above results"
   ]
  },
  {
   "cell_type": "markdown",
   "id": "4aafb7df-6069-42e6-a679-8a7ef2f9bd74",
   "metadata": {},
   "source": [
    "## MRO scores"
   ]
  },
  {
   "cell_type": "markdown",
   "id": "ccf0667e-f707-464c-a06c-740e75f15c39",
   "metadata": {},
   "source": [
    "### Parsed MRO values"
   ]
  },
  {
   "cell_type": "code",
   "execution_count": null,
   "id": "2ae27ca9-933c-49e6-a9cb-4199adcf712f",
   "metadata": {},
   "outputs": [],
   "source": [
    "# from scipy import stats\n",
    "# posInteractions = [YR343_CF313.mro[0], AP49_BC15.mro[0], YR343_CF313.mro[0], YR343_CF313.mro[0]]\n",
    "# negInteractions = [0.8636363636363636, 0.9, 0.9473684210526315, 0.7727272727272727, 0.8636363636363636, 0.8181818181818182, 0.8181818181818182, 0.8181818181818182, 0.8]\n",
    "\n",
    "# ttest = stats.ttest_ind(posInteractions, negInteractions)\n",
    "# print(ttest.pvalue)"
   ]
  },
  {
   "cell_type": "code",
   "execution_count": null,
   "id": "421fddba-1c26-4f2c-b806-ed798cb02782",
   "metadata": {},
   "outputs": [],
   "source": [
    "from scipy import stats\n",
    "posInteractions = [1, 0.7619047619047619, 0.38636363636363635, 0.36363636363636365]\n",
    "negInteractions = [0.8636363636363636, 0.9, 0.9473684210526315, 0.7727272727272727, 0.8636363636363636, 0.8181818181818182, 0.8181818181818182, 0.8181818181818182, 0.8]\n",
    "\n",
    "ttest = stats.ttest_ind(posInteractions, negInteractions)\n",
    "print(ttest.pvalue)"
   ]
  },
  {
   "cell_type": "code",
   "execution_count": null,
   "id": "d1007e54-cefd-4d00-984a-ed572c7646fb",
   "metadata": {},
   "outputs": [],
   "source": [
    "from matplotlib import pyplot\n",
    "import sigfig\n",
    "\n",
    "pyplot.rc('axes', titlesize=20, labelsize=20)\n",
    "pyplot.rc('xtick', labelsize=20)\n",
    "pyplot.rc('ytick', labelsize=20)\n",
    "pyplot.rc('legend', fontsize=18)\n",
    "fig = pyplot.figure(figsize=(7,10))\n",
    "\n",
    "pyplot.boxplot([posInteractions, negInteractions], labels=[\"'+'\", \"'--'\"])\n",
    "pyplot.scatter([1]*len(posInteractions), posInteractions)\n",
    "pyplot.scatter([2]*len(negInteractions), negInteractions)\n",
    "pyplot.xlabel(\"Interaction type\")\n",
    "pyplot.ylabel(\"MRO score (overlap)\")\n",
    "pyplot.text(1.6,.7, f\"p-value: {sigfig.round(ttest.pvalue, sigfigs=3)}\", fontsize=\"x-large\")\n",
    "fig.savefig(\"parsed MRO comparion.jpg\")\n",
    "# display(fig)\n",
    "# pyplot.show()"
   ]
  },
  {
   "cell_type": "markdown",
   "id": "adad8cf4-d78d-4a1a-a505-258df73edf87",
   "metadata": {},
   "source": [
    "### Averaged MRO values"
   ]
  },
  {
   "cell_type": "code",
   "execution_count": null,
   "id": "b669ba31-e86c-4ed0-a742-c114a4510eaf",
   "metadata": {
    "tags": []
   },
   "outputs": [],
   "source": [
    "from scipy import stats\n",
    "posInteractions = [0.9444444444444444, 0.7804878048780488, 0.5396825396825397, 0.53125]\n",
    "negInteractions = [0.9047619047619048, 0.8780487804878049, 0.9473684210526315]\n",
    "negInteractions2 = [0.8095238095238095, 0.926829268292683, 0.9473684210526315, 0.926829268292683, 0.8095238095238095, 0.5757575757575758, 0.8780487804878049]\n",
    "posInteractions2 = [0.9444444444444444, 0.7804878048780488, 0.5396825396825397, 0.53125]\n",
    "\n",
    "ttest = stats.ttest_ind(posInteractions2, negInteractions2)\n",
    "print(ttest.pvalue)"
   ]
  },
  {
   "cell_type": "code",
   "execution_count": null,
   "id": "057d0fa1-c9b1-45b4-a976-5bbf9278dcec",
   "metadata": {
    "tags": []
   },
   "outputs": [],
   "source": [
    "from matplotlib import pyplot\n",
    "import sigfig\n",
    "\n",
    "pyplot.rc('axes', titlesize=20, labelsize=20)\n",
    "pyplot.rc('xtick', labelsize=20)\n",
    "pyplot.rc('ytick', labelsize=20)\n",
    "pyplot.rc('legend', fontsize=18)\n",
    "fig = pyplot.figure(figsize=(7,10))\n",
    "\n",
    "pyplot.boxplot([posInteractions2, negInteractions2], labels=[\"'+'\", \"'--'\"])\n",
    "pyplot.scatter([1]*len(posInteractions2), posInteractions2)\n",
    "pyplot.scatter([2]*len(negInteractions2), negInteractions2)\n",
    "pyplot.xlabel(\"Interaction type\")\n",
    "pyplot.ylabel(\"MRO score (overlap)\")\n",
    "pyplot.text(1.6,.7, f\"p-value: {sigfig.round(ttest.pvalue, sigfigs=3)}\", fontsize=\"x-large\")\n",
    "fig.savefig(\"MRO comparion.jpg\")\n",
    "# display(fig)\n",
    "# pyplot.show()"
   ]
  },
  {
   "cell_type": "markdown",
   "id": "9216f60c-71e5-4123-a026-415ad9a255f8",
   "metadata": {},
   "source": [
    "## MIP scores"
   ]
  },
  {
   "cell_type": "code",
   "execution_count": null,
   "id": "940c5d87-184a-4c71-a58a-f88277fc481b",
   "metadata": {},
   "outputs": [],
   "source": [
    "from scipy import stats\n",
    "# posInteractions =[YR343_CF313.mip, AP49_BC15.mip, CF402_CF313.mip, CF402_BC15.mip]\n",
    "# negInteractions = [GM17_BC15.mip, AP07_AP49.mip, CF313_BT03.mip, GM17_AP49.mip, GM17_CF313.mip, GM17_AP07.mip, GM17_CF402.mip, GM17_BT03.mip, CF402_BC15.mip]\n",
    "negInteractions = [0, 0, 0, 0, 1, 4, 0]\n",
    "posInteractions = [0, 1, 6, 7]\n",
    "\n",
    "ttest = stats.ttest_ind(posInteractions, negInteractions)\n",
    "print(ttest.pvalue)"
   ]
  },
  {
   "cell_type": "code",
   "execution_count": null,
   "id": "a68f5f50-ea3d-4d1a-b16b-9b0412c16e6c",
   "metadata": {},
   "outputs": [],
   "source": [
    "from matplotlib import pyplot\n",
    "import sigfig\n",
    "\n",
    "pyplot.rc('axes', titlesize=20, labelsize=20)\n",
    "pyplot.rc('xtick', labelsize=20)\n",
    "pyplot.rc('ytick', labelsize=20)\n",
    "pyplot.rc('legend', fontsize=18)\n",
    "fig = pyplot.figure(figsize=(7,10))\n",
    "\n",
    "pyplot.boxplot([posInteractions, negInteractions], labels=[\"'+'\", \"'--'\"])\n",
    "pyplot.scatter([1]*len(posInteractions), posInteractions)\n",
    "pyplot.scatter([2]*len(negInteractions), negInteractions)\n",
    "pyplot.xlabel(\"Interaction type\")\n",
    "pyplot.ylabel(\"MIP score (syntrophy)\")\n",
    "pyplot.text(1.6,2, f\"p-value: {sigfig.round(ttest.pvalue, sigfigs=3)}\", fontsize=\"x-large\")\n",
    "fig.savefig(\"MIP comparion.jpg\")\n",
    "# display(fig)\n",
    "# pyplot.show()"
   ]
  },
  {
   "cell_type": "markdown",
   "id": "a3f98436-281c-4672-b31b-ef5c72ba0876",
   "metadata": {},
   "source": [
    "## smetana score"
   ]
  },
  {
   "cell_type": "code",
   "execution_count": null,
   "id": "68c1c46f-8ae5-4cd6-b408-9d231207c3b3",
   "metadata": {},
   "outputs": [],
   "source": [
    "from scipy import stats\n",
    "posInteractions = [63.57, 47.18, 52.63, 46, 32, 38, 0, 0]\n",
    "negInteractions = [53, 48.1, 44.76, 45, 0, 0]\n",
    "\n",
    "ttest = stats.ttest_ind(posInteractions, negInteractions)\n",
    "print(ttest.pvalue)"
   ]
  },
  {
   "cell_type": "code",
   "execution_count": null,
   "id": "eefd1a1c-2193-4e88-a9e1-fc58d98cdec0",
   "metadata": {},
   "outputs": [],
   "source": [
    "from matplotlib import pyplot\n",
    "import sigfig\n",
    "\n",
    "pyplot.rc('axes', titlesize=20, labelsize=20)\n",
    "pyplot.rc('xtick', labelsize=20)\n",
    "pyplot.rc('ytick', labelsize=20)\n",
    "pyplot.rc('legend', fontsize=18)\n",
    "fig = pyplot.figure(figsize=(7,10))\n",
    "\n",
    "pyplot.boxplot([posInteractions, negInteractions], labels=[\"'+'\", \"'--'\"])\n",
    "pyplot.scatter([1]*len(posInteractions), posInteractions)\n",
    "pyplot.scatter([2]*len(negInteractions), negInteractions)\n",
    "pyplot.xlabel(\"Interaction type\")\n",
    "pyplot.ylabel(\"smetana score (syntrophy potential)\")\n",
    "pyplot.text(1.6,62, f\"p-value: {sigfig.round(ttest.pvalue, sigfigs=3)}\", fontsize=\"x-large\")\n",
    "fig.savefig(\"smetana comparion.jpg\")\n",
    "# display(fig)\n",
    "# pyplot.show()"
   ]
  },
  {
   "cell_type": "code",
   "execution_count": null,
   "id": "6f8c0fad-439e-410d-a2ba-8089b73fbc1d",
   "metadata": {},
   "outputs": [],
   "source": []
  }
 ],
 "metadata": {
  "kernelspec": {
   "display_name": "Python 3 (ipykernel)",
   "language": "python",
   "name": "python3"
  },
  "language_info": {
   "codemirror_mode": {
    "name": "ipython",
    "version": 3
   },
   "file_extension": ".py",
   "mimetype": "text/x-python",
   "name": "python",
   "nbconvert_exporter": "python",
   "pygments_lexer": "ipython3",
   "version": "3.9.12"
  }
 },
 "nbformat": 4,
 "nbformat_minor": 5
}
