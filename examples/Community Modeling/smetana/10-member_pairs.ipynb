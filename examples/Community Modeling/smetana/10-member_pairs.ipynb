{
 "cells": [
  {
   "cell_type": "markdown",
   "id": "be17384b-a284-468c-a0b0-f0628d0802e6",
   "metadata": {},
   "source": [
    "# Load KBase"
   ]
  },
  {
   "cell_type": "code",
   "execution_count": 1,
   "id": "68a7047b-5da4-479d-85a1-87497aeeb978",
   "metadata": {},
   "outputs": [
    {
     "name": "stdout",
     "output_type": "stream",
     "text": [
      "cobrakbase 0.3.1\n"
     ]
    }
   ],
   "source": [
    "# define the environment path \n",
    "import os\n",
    "local_cobrakbase_path = os.path.join('C:', 'Users', 'Andrew Freiburger','Documents','Argonne','cobrakbase')\n",
    "os.environ[\"HOME\"] = local_cobrakbase_path\n",
    "\n",
    "# import the KBase\n",
    "import cobrakbase\n",
    "# with open(\"/Users/afreiburger/Documents/kbase_token.txt\") as token_file:\n",
    "with open(\"C:/Users/Andrew Freiburger/Documents/Argonne/kbase_token.txt\") as token_file:\n",
    "    kbase_api = cobrakbase.KBaseAPI(token_file.readline())\n",
    "\n",
    "# prevent excessive warnings\n",
    "from time import process_time\n",
    "import warnings\n",
    "warnings.filterwarnings(action='once')\n",
    "%run ../../../modelseedpy/community/mssmetana.py"
   ]
  },
  {
   "cell_type": "code",
   "execution_count": 2,
   "id": "b283a504-0495-4365-8bb0-49ef2ceee010",
   "metadata": {},
   "outputs": [],
   "source": [
    "AP49 = kbase_api.get_from_ws(\"Sphingobium_AP49_pacbio_v2.RAST.fbamodel\", 114731)\n",
    "BC15 = kbase_api.get_from_ws(\"Bacillus_sp._bc15.RAST.fbamodel\", 114731)\n",
    "AP49_BC15_model = kbase_api.get_from_ws(\"AP49-BC15\",114731)\n",
    "# community_media = _get_media(None, AP49_BC15_model, [AP49, BC15])"
   ]
  },
  {
   "cell_type": "code",
   "execution_count": null,
   "id": "b9dc1d9c-1350-4e62-96b8-0f6987ee4761",
   "metadata": {},
   "outputs": [
    {
     "name": "stdout",
     "output_type": "stream",
     "text": [
      "The exchange  metabolite ID's of the model Sphingobium_AP49_pacbio_v2.RAST.fbamodel,Bacillus_sp._bc15.RAST.fbamodel are completely standardized to ModelSEED.\n"
     ]
    }
   ],
   "source": [
    "%run ../../../modelseedpy/community/mssmetana.py\n",
    "comm = MSSmetana([AP49, BC15], AP49_BC15_model)\n",
    "print(len(comm.media), comm.media)"
   ]
  },
  {
   "cell_type": "code",
   "execution_count": 4,
   "id": "ff3bd424-95d2-4a4c-893a-74d1b25d5b57",
   "metadata": {
    "scrolled": true,
    "tags": []
   },
   "outputs": [
    {
     "name": "stdout",
     "output_type": "stream",
     "text": [
      "The exchange  metabolite ID's of the model AP49-BC15 are completely standardized to ModelSEED.\n",
      "The minimal flux media consists of 40 compounds and a 2387.771426877356 total influx, with a growth value of 59.661439174858856\n",
      "\n",
      "\n",
      "\n",
      "Standardize exchange reactions in Sphingobium_AP49_pacbio_v2.RAST.fbamodel \n",
      " =============================================================================\n",
      "The exchange  metabolite ID's of the model Sphingobium_AP49_pacbio_v2.RAST.fbamodel are completely standardized to ModelSEED.\n"
     ]
    },
    {
     "name": "stderr",
     "output_type": "stream",
     "text": [
      "ic| mssmetana.py:294 in mp()\n",
      "    org_possible_contributions: [<Reaction EX_cpd00214_e0 at 0x27b95242190>,\n",
      "                                 <Reaction EX_cpd00116_e0 at 0x27b952422e0>,\n",
      "                                 <Reaction EX_cpd00129_e0 at 0x27b95242370>,\n",
      "                                 <Reaction EX_cpd00041_e0 at 0x27b95242400>,\n",
      "                                 <Reaction EX_cpd00412_e0 at 0x27b95242520>,\n",
      "                                 <Reaction EX_cpd00054_e0 at 0x27b952425b0>,\n",
      "                                 <Reaction EX_cpd00001_e0 at 0x27b95242640>,\n",
      "                                 <Reaction EX_cpd00395_e0 at 0x27b95242760>,\n",
      "                                 <Reaction EX_cpd00797_e0 at 0x27b95242880>,\n",
      "                                 <Reaction EX_cpd00154_e0 at 0x27b95242910>,\n",
      "                                 <Reaction EX_cpd11575_e0 at 0x27b95242ac0>,\n",
      "                                 <Reaction EX_cpd00138_e0 at 0x27b95242b50>,\n",
      "                                 <Reaction EX_cpd09878_e0 at 0x27b95242be0>,\n",
      "                                 <Reaction EX_cpd11579_e0 at 0x27b95242c70>,\n",
      "                                 <Reaction EX_cpd00122_e0 at 0x27b95242d90>,\n",
      "                                 <Reaction EX_cpd00184_e0 at 0x27b95242f40>,\n",
      "                                 <Reaction EX_cpd00179_e0 at 0x27b95242fd0>,\n",
      "                                 <Reaction EX_cpd00210_e0 at 0x27b9ce0c130>,\n",
      "                                 <Reaction EX_cpd00314_e0 at 0x27b9ce0c250>,\n",
      "                                 <Reaction EX_cpd11578_e0 at 0x27b9ce0c2e0>,\n",
      "                                 <Reaction EX_cpd00971_e0 at 0x27b9ce0c370>,\n",
      "                                 <Reaction EX_cpd00012_e0 at 0x27b9ce0c520>,\n",
      "                                 <Reaction EX_cpd00011_e0 at 0x27b9ce0c5b0>,\n",
      "                                 <Reaction EX_cpd00635_e0 at 0x27b9ce0c640>,\n",
      "                                 <Reaction EX_cpd10516_e0 at 0x27b9ce0c760>,\n",
      "                                 <Reaction EX_cpd03424_e0 at 0x27b9ce0c7f0>,\n",
      "                                 <Reaction EX_cpd03724_e0 at 0x27b9ce0c880>,\n",
      "                                 <Reaction EX_cpd00305_e0 at 0x27b9ce0c910>,\n",
      "                                 <Reaction EX_cpd01080_e0 at 0x27b9ce0c9a0>,\n",
      "                                 <Reaction EX_cpd00182_e0 at 0x27b9ce0cac0>,\n",
      "                                 <Reaction EX_cpd03453_e0 at 0x27b9ce0cb50>,\n",
      "                                 <Reaction EX_cpd00137_e0 at 0x27b9ce0cbe0>,\n",
      "                                 <Reaction EX_cpd03696_e0 at 0x27b9ce0cd00>,\n",
      "                                 <Reaction EX_cpd00027_e0 at 0x27b9ce0cd90>,\n",
      "                                 <Reaction EX_cpd03048_e0 at 0x27b9ce0ce20>,\n",
      "                                 <Reaction EX_cpd00588_e0 at 0x27b9ce0cf40>,\n",
      "                                 <Reaction EX_cpd00438_e0 at 0x27b9ce0cfd0>,\n",
      "                                 <Reaction EX_cpd00060_e0 at 0x27b9ce0c0a0>,\n",
      "                                 <Reaction EX_cpd00036_e0 at 0x27b9ce13130>,\n",
      "                                 <Reaction EX_cpd00033_e0 at 0x27b9ce131c0>,\n",
      "                                 <Reaction EX_cpd00035_e0 at 0x27b9ce13370>,\n",
      "                                 <Reaction EX_cpd00386_e0 at 0x27b9ce13490>,\n",
      "                                 <Reaction EX_cpd00166_e0 at 0x27b9ce13520>,\n",
      "                                 <Reaction EX_cpd00076_e0 at 0x27b9ce135b0>,\n",
      "                                 <Reaction EX_cpd00751_e0 at 0x27b9ce136d0>,\n",
      "                                 <Reaction EX_cpd00023_e0 at 0x27b9ce13760>,\n",
      "                                 <Reaction EX_cpd00276_e0 at 0x27b9ce13880>,\n",
      "                                 <Reaction EX_cpd00280_e0 at 0x27b9ce13910>,\n",
      "                                 <Reaction EX_cpd00067_e0 at 0x27b9ce139a0>,\n",
      "                                 <Reaction EX_cpd00249_e0 at 0x27b9ce130a0>,\n",
      "                                 <Reaction EX_cpd11596_e0 at 0x27b9ce13af0>,\n",
      "                                 <Reaction EX_cpd00075_e0 at 0x27b9ce13b80>,\n",
      "                                 <Reaction EX_cpd00246_e0 at 0x27b9ce13c10>,\n",
      "                                 <Reaction EX_cpd08023_e0 at 0x27b9ce13d30>,\n",
      "                                 <Reaction EX_cpd00053_e0 at 0x27b9ce13e50>,\n",
      "                                 <Reaction EX_cpd03279_e0 at 0x27b9ce13ee0>,\n",
      "                                 <Reaction EX_cpd01171_e0 at 0x27b9ce13a60>,\n",
      "                                 <Reaction EX_cpd00013_e0 at 0x27b9ce0a0d0>,\n",
      "                                 <Reaction EX_cpd00084_e0 at 0x27b9ce0a280>,\n",
      "                                 <Reaction EX_cpd00039_e0 at 0x27b9ce0a310>,\n",
      "                                 <Reaction EX_cpd00009_e0 at 0x27b9ce0a430>,\n",
      "                                 <Reaction EX_cpd03726_e0 at 0x27b9ce0a5e0>,\n",
      "                                 <Reaction EX_cpd00106_e0 at 0x27b9ce0a670>,\n",
      "                                 <Reaction EX_cpd00218_e0 at 0x27b9ce0a700>,\n",
      "                                 <Reaction EX_cpd00731_e0 at 0x27b9ce0a790>,\n",
      "                                 <Reaction EX_cpd01030_e0 at 0x27b9ce0a8b0>,\n",
      "                                 <Reaction EX_cpd01017_e0 at 0x27b9ce0a9d0>,\n",
      "                                 <Reaction EX_cpd00108_e0 at 0x27b9ce0aa60>,\n",
      "                                 <Reaction EX_cpd01012_e0 at 0x27b9ce0aaf0>,\n",
      "                                 <Reaction EX_cpd00244_e0 at 0x27b9ce0ac10>,\n",
      "                                 <Reaction EX_cpd00161_e0 at 0x27b9ce0ad30>,\n",
      "                                 <Reaction EX_cpd00082_e0 at 0x27b9ce0adc0>,\n",
      "                                 <Reaction EX_cpd00540_e0 at 0x27b9ce0ae50>,\n",
      "                                 <Reaction EX_cpd00132_e0 at 0x27b9ce0af70>]\n",
      "    len(model_util.exchange_list()): 111\n",
      "    len(community.medium): 40\n",
      "C:\\Users\\Andrew Freiburger\\AppData\\Local\\Programs\\Python\\Python39\\lib\\site-packages\\cobra\\core\\reaction.py:761: DeprecationWarning: Please use reaction.flux instead.\n",
      "  warn(\"Please use reaction.flux instead.\", DeprecationWarning)\n",
      "C:\\Users\\Andrew Freiburger\\AppData\\Local\\Programs\\Python\\Python39\\lib\\site-packages\\cobra\\core\\reaction.py:779: DeprecationWarning: Please use reaction.reduced_cost instead.\n",
      "  warn(\"Please use reaction.reduced_cost instead.\", DeprecationWarning)\n",
      "C:\\Users\\Andrew Freiburger\\AppData\\Local\\Programs\\Python\\Python39\\lib\\site-packages\\cobra\\core\\metabolite.py:207: DeprecationWarning: Please use metabolite.shadow_price instead.\n",
      "  warn(\"Please use metabolite.shadow_price instead.\", DeprecationWarning)\n",
      "C:\\Users\\Andrew Freiburger\\AppData\\Local\\Programs\\Python\\Python39\\lib\\site-packages\\cobra\\core\\metabolite.py:191: UserWarning: The element 'R' does not appear in the periodic table\n",
      "  warn(f\"The element {e} does not appear in the periodic table\")\n"
     ]
    },
    {
     "name": "stdout",
     "output_type": "stream",
     "text": [
      "remaining possible_contributions 54\r"
     ]
    },
    {
     "name": "stderr",
     "output_type": "stream",
     "text": [
      "C:\\Users\\Andrew Freiburger\\AppData\\Local\\Programs\\Python\\Python39\\lib\\site-packages\\cobra\\core\\reaction.py:761: DeprecationWarning: Please use reaction.flux instead.\n",
      "  warn(\"Please use reaction.flux instead.\", DeprecationWarning)\n",
      "C:\\Users\\Andrew Freiburger\\AppData\\Local\\Programs\\Python\\Python39\\lib\\site-packages\\cobra\\core\\reaction.py:779: DeprecationWarning: Please use reaction.reduced_cost instead.\n",
      "  warn(\"Please use reaction.reduced_cost instead.\", DeprecationWarning)\n",
      "C:\\Users\\Andrew Freiburger\\AppData\\Local\\Programs\\Python\\Python39\\lib\\site-packages\\cobra\\core\\metabolite.py:207: DeprecationWarning: Please use metabolite.shadow_price instead.\n",
      "  warn(\"Please use metabolite.shadow_price instead.\", DeprecationWarning)\n",
      "C:\\Users\\Andrew Freiburger\\AppData\\Local\\Programs\\Python\\Python39\\lib\\site-packages\\cobra\\core\\metabolite.py:191: UserWarning: The element 'R' does not appear in the periodic table\n",
      "  warn(f\"The element {e} does not appear in the periodic table\")\n"
     ]
    },
    {
     "name": "stdout",
     "output_type": "stream",
     "text": [
      "remaining possible_contributions 47\r"
     ]
    },
    {
     "name": "stderr",
     "output_type": "stream",
     "text": [
      "C:\\Users\\Andrew Freiburger\\AppData\\Local\\Programs\\Python\\Python39\\lib\\site-packages\\cobra\\core\\reaction.py:761: DeprecationWarning: Please use reaction.flux instead.\n",
      "  warn(\"Please use reaction.flux instead.\", DeprecationWarning)\n",
      "C:\\Users\\Andrew Freiburger\\AppData\\Local\\Programs\\Python\\Python39\\lib\\site-packages\\cobra\\core\\reaction.py:779: DeprecationWarning: Please use reaction.reduced_cost instead.\n",
      "  warn(\"Please use reaction.reduced_cost instead.\", DeprecationWarning)\n",
      "C:\\Users\\Andrew Freiburger\\AppData\\Local\\Programs\\Python\\Python39\\lib\\site-packages\\cobra\\core\\metabolite.py:207: DeprecationWarning: Please use metabolite.shadow_price instead.\n",
      "  warn(\"Please use metabolite.shadow_price instead.\", DeprecationWarning)\n",
      "C:\\Users\\Andrew Freiburger\\AppData\\Local\\Programs\\Python\\Python39\\lib\\site-packages\\cobra\\core\\metabolite.py:191: UserWarning: The element 'R' does not appear in the periodic table\n",
      "  warn(f\"The element {e} does not appear in the periodic table\")\n"
     ]
    },
    {
     "name": "stdout",
     "output_type": "stream",
     "text": [
      "remaining possible_contributions 44\r"
     ]
    },
    {
     "name": "stderr",
     "output_type": "stream",
     "text": [
      "C:\\Users\\Andrew Freiburger\\AppData\\Local\\Programs\\Python\\Python39\\lib\\site-packages\\cobra\\core\\reaction.py:761: DeprecationWarning: Please use reaction.flux instead.\n",
      "  warn(\"Please use reaction.flux instead.\", DeprecationWarning)\n",
      "C:\\Users\\Andrew Freiburger\\AppData\\Local\\Programs\\Python\\Python39\\lib\\site-packages\\cobra\\core\\reaction.py:779: DeprecationWarning: Please use reaction.reduced_cost instead.\n",
      "  warn(\"Please use reaction.reduced_cost instead.\", DeprecationWarning)\n",
      "C:\\Users\\Andrew Freiburger\\AppData\\Local\\Programs\\Python\\Python39\\lib\\site-packages\\cobra\\core\\metabolite.py:207: DeprecationWarning: Please use metabolite.shadow_price instead.\n",
      "  warn(\"Please use metabolite.shadow_price instead.\", DeprecationWarning)\n"
     ]
    },
    {
     "name": "stdout",
     "output_type": "stream",
     "text": [
      "remaining possible_contributions 43\r"
     ]
    },
    {
     "name": "stderr",
     "output_type": "stream",
     "text": [
      "C:\\Users\\Andrew Freiburger\\AppData\\Local\\Programs\\Python\\Python39\\lib\\site-packages\\cobra\\core\\reaction.py:761: DeprecationWarning: Please use reaction.flux instead.\n",
      "  warn(\"Please use reaction.flux instead.\", DeprecationWarning)\n",
      "C:\\Users\\Andrew Freiburger\\AppData\\Local\\Programs\\Python\\Python39\\lib\\site-packages\\cobra\\core\\reaction.py:779: DeprecationWarning: Please use reaction.reduced_cost instead.\n",
      "  warn(\"Please use reaction.reduced_cost instead.\", DeprecationWarning)\n",
      "C:\\Users\\Andrew Freiburger\\AppData\\Local\\Programs\\Python\\Python39\\lib\\site-packages\\cobra\\core\\metabolite.py:207: DeprecationWarning: Please use metabolite.shadow_price instead.\n",
      "  warn(\"Please use metabolite.shadow_price instead.\", DeprecationWarning)\n"
     ]
    },
    {
     "name": "stdout",
     "output_type": "stream",
     "text": [
      "remaining possible_contributions 42\n",
      "\n",
      "\n",
      "Standardize exchange reactions in Bacillus_sp._bc15.RAST.fbamodel \n",
      " ====================================================================\n",
      "The exchange  metabolite ID's of the model Bacillus_sp._bc15.RAST.fbamodel are completely standardized to ModelSEED.\n"
     ]
    },
    {
     "name": "stderr",
     "output_type": "stream",
     "text": [
      "ic| mssmetana.py:294 in mp()\n",
      "    org_possible_contributions: [<Reaction EX_cpd00116_e0 at 0x27b3a18ffa0>,\n",
      "                                 <Reaction EX_cpd00129_e0 at 0x27b3a18ff40>,\n",
      "                                 <Reaction EX_cpd00092_e0 at 0x27b3a198100>,\n",
      "                                 <Reaction EX_cpd00073_e0 at 0x27b3a198190>,\n",
      "                                 <Reaction EX_cpd00041_e0 at 0x27b3a198220>,\n",
      "                                 <Reaction EX_cpd00531_e0 at 0x27b3a198340>,\n",
      "                                 <Reaction EX_cpd00412_e0 at 0x27b3a1983d0>,\n",
      "                                 <Reaction EX_cpd00381_e0 at 0x27b3a198460>,\n",
      "                                 <Reaction EX_cpd00117_e0 at 0x27b3a1984f0>,\n",
      "                                 <Reaction EX_cpd00001_e0 at 0x27b3a198580>,\n",
      "                                 <Reaction EX_cpd00054_e0 at 0x27b3a198610>,\n",
      "                                 <Reaction EX_cpd00797_e0 at 0x27b3a1987c0>,\n",
      "                                 <Reaction EX_cpd00138_e0 at 0x27b3a198970>,\n",
      "                                 <Reaction EX_cpd00064_e0 at 0x27b3a198a00>,\n",
      "                                 <Reaction EX_cpd01914_e0 at 0x27b3a198a90>,\n",
      "                                 <Reaction EX_cpd09878_e0 at 0x27b3a198b20>,\n",
      "                                 <Reaction EX_cpd11579_e0 at 0x27b3a198bb0>,\n",
      "                                 <Reaction EX_cpd00122_e0 at 0x27b3a198cd0>,\n",
      "                                 <Reaction EX_cpd00184_e0 at 0x27b3a198e80>,\n",
      "                                 <Reaction EX_cpd00179_e0 at 0x27b3a198f10>,\n",
      "                                 <Reaction EX_cpd00314_e0 at 0x27b3a19a100>,\n",
      "                                 <Reaction EX_cpd11578_e0 at 0x27b3a19a190>,\n",
      "                                 <Reaction EX_cpd00971_e0 at 0x27b3a19a220>,\n",
      "                                 <Reaction EX_cpd00012_e0 at 0x27b3a19a3d0>,\n",
      "                                 <Reaction EX_cpd15603_e0 at 0x27b3a19a460>,\n",
      "                                 <Reaction EX_cpd00011_e0 at 0x27b3a19a4f0>,\n",
      "                                 <Reaction EX_cpd00635_e0 at 0x27b3a19a610>,\n",
      "                                 <Reaction EX_cpd11576_e0 at 0x27b3a19a6a0>,\n",
      "                                 <Reaction EX_cpd00080_e0 at 0x27b3a19a730>,\n",
      "                                 <Reaction EX_cpd10516_e0 at 0x27b3a19a7c0>,\n",
      "                                 <Reaction EX_cpd00222_e0 at 0x27b3a19a850>,\n",
      "                                 <Reaction EX_cpd03724_e0 at 0x27b3a19a8e0>,\n",
      "                                 <Reaction EX_cpd00309_e0 at 0x27b3a19a970>,\n",
      "                                 <Reaction EX_cpd00305_e0 at 0x27b3a19aa00>,\n",
      "                                 <Reaction EX_cpd00281_e0 at 0x27b3a19aa90>,\n",
      "                                 <Reaction EX_cpd00182_e0 at 0x27b3a19abb0>,\n",
      "                                 <Reaction EX_cpd03453_e0 at 0x27b3a19ac40>,\n",
      "                                 <Reaction EX_cpd00137_e0 at 0x27b3a19acd0>,\n",
      "                                 <Reaction EX_cpd00142_e0 at 0x27b3a19adf0>,\n",
      "                                 <Reaction EX_cpd03696_e0 at 0x27b3a19ae80>,\n",
      "                                 <Reaction EX_cpd00105_e0 at 0x27b3a19af10>,\n",
      "                                 <Reaction EX_cpd00027_e0 at 0x27b3a19afa0>,\n",
      "                                 <Reaction EX_cpd03048_e0 at 0x27b3a19a070>,\n",
      "                                 <Reaction EX_cpd00588_e0 at 0x27b3a1a7190>,\n",
      "                                 <Reaction EX_cpd00100_e0 at 0x27b3a1a7220>,\n",
      "                                 <Reaction EX_cpd01757_e0 at 0x27b3a1a72b0>,\n",
      "                                 <Reaction EX_cpd00438_e0 at 0x27b3a1a7340>,\n",
      "                                 <Reaction EX_cpd00266_e0 at 0x27b3a1a73d0>,\n",
      "                                 <Reaction EX_cpd00060_e0 at 0x27b3a1a7460>,\n",
      "                                 <Reaction EX_cpd00033_e0 at 0x27b3a1a74f0>,\n",
      "                                 <Reaction EX_cpd00159_e0 at 0x27b3a1a76a0>,\n",
      "                                 <Reaction EX_cpd00035_e0 at 0x27b3a1a77c0>,\n",
      "                                 <Reaction EX_cpd00076_e0 at 0x27b3a1a7850>,\n",
      "                                 <Reaction EX_cpd08306_e0 at 0x27b3a1a78e0>,\n",
      "                                 <Reaction EX_cpd00023_e0 at 0x27b3a1a7a00>,\n",
      "                                 <Reaction EX_cpd00276_e0 at 0x27b3a1a7b20>,\n",
      "                                 <Reaction EX_cpd00067_e0 at 0x27b3a1a7bb0>,\n",
      "                                 <Reaction EX_cpd08305_e0 at 0x27b3a1a7c40>,\n",
      "                                 <Reaction EX_cpd00249_e0 at 0x27b3a1a7cd0>,\n",
      "                                 <Reaction EX_cpd04099_e0 at 0x27b3a1a7d60>,\n",
      "                                 <Reaction EX_cpd11596_e0 at 0x27b3a1a7df0>,\n",
      "                                 <Reaction EX_cpd00268_e0 at 0x27b3a1a7e80>,\n",
      "                                 <Reaction EX_cpd00075_e0 at 0x27b3a1a7f10>,\n",
      "                                 <Reaction EX_cpd00246_e0 at 0x27b3a1a7fa0>,\n",
      "                                 <Reaction EX_cpd00637_e0 at 0x27b3a1a7070>,\n",
      "                                 <Reaction EX_cpd00211_e0 at 0x27b3a1ac190>,\n",
      "                                 <Reaction EX_cpd08023_e0 at 0x27b3a1ac220>,\n",
      "                                 <Reaction EX_cpd11597_e0 at 0x27b3a1ac340>,\n",
      "                                 <Reaction EX_cpd00226_e0 at 0x27b3a1ac3d0>,\n",
      "                                 <Reaction EX_cpd00053_e0 at 0x27b3a1ac460>,\n",
      "                                 <Reaction EX_cpd00047_e0 at 0x27b3a1ac4f0>,\n",
      "                                 <Reaction EX_cpd03279_e0 at 0x27b3a1ac580>,\n",
      "                                 <Reaction EX_cpd00180_e0 at 0x27b3a1ac6a0>,\n",
      "                                 <Reaction EX_cpd01171_e0 at 0x27b3a1ac730>,\n",
      "                                 <Reaction EX_cpd00013_e0 at 0x27b3a1ac7c0>,\n",
      "                                 <Reaction EX_cpd04097_e0 at 0x27b3a1ac8e0>,\n",
      "                                 <Reaction EX_cpd00084_e0 at 0x27b3a1aca00>,\n",
      "                                 <Reaction EX_cpd00039_e0 at 0x27b3a1aca90>,\n",
      "                                 <Reaction EX_cpd00009_e0 at 0x27b3a1acbb0>,\n",
      "                                 <Reaction EX_cpd02233_e0 at 0x27b3a1accd0>,\n",
      "                                 <Reaction EX_cpd03726_e0 at 0x27b3a1ace80>,\n",
      "                                 <Reaction EX_cpd00218_e0 at 0x27b3a1acf10>,\n",
      "                                 <Reaction EX_cpd01030_e0 at 0x27b3a1ac070>,\n",
      "                                 <Reaction EX_cpd01012_e0 at 0x27b3a1af100>,\n",
      "                                 <Reaction EX_cpd00244_e0 at 0x27b3a1af2b0>,\n",
      "                                 <Reaction EX_cpd00161_e0 at 0x27b3a1af340>,\n",
      "                                 <Reaction EX_cpd00082_e0 at 0x27b3a1af3d0>,\n",
      "                                 <Reaction EX_cpd00540_e0 at 0x27b3a1af460>,\n",
      "                                 <Reaction EX_cpd00098_e0 at 0x27b3a1af580>,\n",
      "                                 <Reaction EX_cpd00132_e0 at 0x27b3a1af610>,\n",
      "                                 <Reaction EX_cpd01329_e0 at 0x27b3a1af730>,\n",
      "                                 <Reaction EX_cpd01262_e0 at 0x27b3a1af7c0>,\n",
      "                                 <Reaction EX_cpd00130_e0 at 0x27b3a1af850>,\n",
      "                                 <Reaction EX_cpd03725_e0 at 0x27b3a1af970>]\n",
      "    len(model_util.exchange_list()): 131\n",
      "    len(community.medium): 40\n",
      "C:\\Users\\Andrew Freiburger\\AppData\\Local\\Programs\\Python\\Python39\\lib\\site-packages\\cobra\\core\\reaction.py:761: DeprecationWarning: Please use reaction.flux instead.\n",
      "  warn(\"Please use reaction.flux instead.\", DeprecationWarning)\n",
      "C:\\Users\\Andrew Freiburger\\AppData\\Local\\Programs\\Python\\Python39\\lib\\site-packages\\cobra\\core\\reaction.py:779: DeprecationWarning: Please use reaction.reduced_cost instead.\n",
      "  warn(\"Please use reaction.reduced_cost instead.\", DeprecationWarning)\n",
      "C:\\Users\\Andrew Freiburger\\AppData\\Local\\Programs\\Python\\Python39\\lib\\site-packages\\cobra\\core\\metabolite.py:207: DeprecationWarning: Please use metabolite.shadow_price instead.\n",
      "  warn(\"Please use metabolite.shadow_price instead.\", DeprecationWarning)\n"
     ]
    },
    {
     "name": "stdout",
     "output_type": "stream",
     "text": [
      "remaining possible_contributions 64\r"
     ]
    },
    {
     "name": "stderr",
     "output_type": "stream",
     "text": [
      "C:\\Users\\Andrew Freiburger\\AppData\\Local\\Programs\\Python\\Python39\\lib\\site-packages\\cobra\\core\\reaction.py:761: DeprecationWarning: Please use reaction.flux instead.\n",
      "  warn(\"Please use reaction.flux instead.\", DeprecationWarning)\n",
      "C:\\Users\\Andrew Freiburger\\AppData\\Local\\Programs\\Python\\Python39\\lib\\site-packages\\cobra\\core\\reaction.py:779: DeprecationWarning: Please use reaction.reduced_cost instead.\n",
      "  warn(\"Please use reaction.reduced_cost instead.\", DeprecationWarning)\n",
      "C:\\Users\\Andrew Freiburger\\AppData\\Local\\Programs\\Python\\Python39\\lib\\site-packages\\cobra\\core\\metabolite.py:207: DeprecationWarning: Please use metabolite.shadow_price instead.\n",
      "  warn(\"Please use metabolite.shadow_price instead.\", DeprecationWarning)\n"
     ]
    },
    {
     "name": "stdout",
     "output_type": "stream",
     "text": [
      "remaining possible_contributions 50\r"
     ]
    },
    {
     "name": "stderr",
     "output_type": "stream",
     "text": [
      "C:\\Users\\Andrew Freiburger\\AppData\\Local\\Programs\\Python\\Python39\\lib\\site-packages\\cobra\\core\\reaction.py:761: DeprecationWarning: Please use reaction.flux instead.\n",
      "  warn(\"Please use reaction.flux instead.\", DeprecationWarning)\n",
      "C:\\Users\\Andrew Freiburger\\AppData\\Local\\Programs\\Python\\Python39\\lib\\site-packages\\cobra\\core\\reaction.py:779: DeprecationWarning: Please use reaction.reduced_cost instead.\n",
      "  warn(\"Please use reaction.reduced_cost instead.\", DeprecationWarning)\n",
      "C:\\Users\\Andrew Freiburger\\AppData\\Local\\Programs\\Python\\Python39\\lib\\site-packages\\cobra\\core\\metabolite.py:207: DeprecationWarning: Please use metabolite.shadow_price instead.\n",
      "  warn(\"Please use metabolite.shadow_price instead.\", DeprecationWarning)\n"
     ]
    },
    {
     "name": "stdout",
     "output_type": "stream",
     "text": [
      "remaining possible_contributions 47\n",
      "MP score:\t\t\tEach member can possibly contribute the following to the community:\n",
      "\n",
      "Sphingobium_AP49_pacbio_v2.RAST.fbamodel \t 32\n",
      "Bacillus_sp._bc15.RAST.fbamodel \t 47\n"
     ]
    },
    {
     "data": {
      "text/plain": [
       "{'Sphingobium_AP49_pacbio_v2.RAST.fbamodel': {'cpd00001_e0',\n",
       "  'cpd00011_e0',\n",
       "  'cpd00013_e0',\n",
       "  'cpd00023_e0',\n",
       "  'cpd00033_e0',\n",
       "  'cpd00035_e0',\n",
       "  'cpd00036_e0',\n",
       "  'cpd00039_e0',\n",
       "  'cpd00041_e0',\n",
       "  'cpd00053_e0',\n",
       "  'cpd00054_e0',\n",
       "  'cpd00060_e0',\n",
       "  'cpd00067_e0',\n",
       "  'cpd00075_e0',\n",
       "  'cpd00084_e0',\n",
       "  'cpd00116_e0',\n",
       "  'cpd00122_e0',\n",
       "  'cpd00129_e0',\n",
       "  'cpd00132_e0',\n",
       "  'cpd00137_e0',\n",
       "  'cpd00138_e0',\n",
       "  'cpd00161_e0',\n",
       "  'cpd00182_e0',\n",
       "  'cpd00184_e0',\n",
       "  'cpd00246_e0',\n",
       "  'cpd00249_e0',\n",
       "  'cpd00276_e0',\n",
       "  'cpd00412_e0',\n",
       "  'cpd00438_e0',\n",
       "  'cpd00588_e0',\n",
       "  'cpd00797_e0',\n",
       "  'cpd03279_e0'},\n",
       " 'Bacillus_sp._bc15.RAST.fbamodel': {'cpd00001_e0',\n",
       "  'cpd00009_e0',\n",
       "  'cpd00011_e0',\n",
       "  'cpd00012_e0',\n",
       "  'cpd00013_e0',\n",
       "  'cpd00023_e0',\n",
       "  'cpd00033_e0',\n",
       "  'cpd00035_e0',\n",
       "  'cpd00039_e0',\n",
       "  'cpd00041_e0',\n",
       "  'cpd00047_e0',\n",
       "  'cpd00053_e0',\n",
       "  'cpd00054_e0',\n",
       "  'cpd00060_e0',\n",
       "  'cpd00064_e0',\n",
       "  'cpd00067_e0',\n",
       "  'cpd00073_e0',\n",
       "  'cpd00075_e0',\n",
       "  'cpd00080_e0',\n",
       "  'cpd00082_e0',\n",
       "  'cpd00084_e0',\n",
       "  'cpd00092_e0',\n",
       "  'cpd00100_e0',\n",
       "  'cpd00116_e0',\n",
       "  'cpd00117_e0',\n",
       "  'cpd00122_e0',\n",
       "  'cpd00129_e0',\n",
       "  'cpd00130_e0',\n",
       "  'cpd00132_e0',\n",
       "  'cpd00137_e0',\n",
       "  'cpd00138_e0',\n",
       "  'cpd00142_e0',\n",
       "  'cpd00159_e0',\n",
       "  'cpd00161_e0',\n",
       "  'cpd00180_e0',\n",
       "  'cpd00182_e0',\n",
       "  'cpd00184_e0',\n",
       "  'cpd00218_e0',\n",
       "  'cpd00226_e0',\n",
       "  'cpd00246_e0',\n",
       "  'cpd00249_e0',\n",
       "  'cpd00276_e0',\n",
       "  'cpd00309_e0',\n",
       "  'cpd00412_e0',\n",
       "  'cpd00438_e0',\n",
       "  'cpd00797_e0',\n",
       "  'cpd03279_e0'}}"
      ]
     },
     "execution_count": 4,
     "metadata": {},
     "output_type": "execute_result"
    }
   ],
   "source": [
    "comm.mp_score()"
   ]
  },
  {
   "cell_type": "code",
   "execution_count": 8,
   "id": "f791472f-4459-4fd3-ad28-66e33ef565e9",
   "metadata": {
    "scrolled": true,
    "tags": []
   },
   "outputs": [
    {
     "name": "stderr",
     "output_type": "stream",
     "text": [
      "ic| mssmetana.py:42 in _get_media()\n",
      "    media: None\n",
      "    com_model: <FBAModel AP49-BC15 at 0x20b4a58bf10>\n",
      "    model_s_: [<FBAModel Sphingobium_AP49_pacbio_v2.RAST.fbamodel at 0x20b606c20a0>,\n",
      "               <FBAModel Bacillus_sp._bc15.RAST.fbamodel at 0x20ba1af2cd0>]\n"
     ]
    },
    {
     "name": "stdout",
     "output_type": "stream",
     "text": [
      "The exchange  metabolite ID's of the model Sphingobium_AP49_pacbio_v2.RAST.fbamodel,Bacillus_sp._bc15.RAST.fbamodel are completely standardized to ModelSEED.\n"
     ]
    },
    {
     "name": "stderr",
     "output_type": "stream",
     "text": [
      "C:\\Users\\Andrew Freiburger\\AppData\\Local\\Programs\\Python\\Python39\\lib\\site-packages\\cobra\\medium\\minimal_medium.py:112: FutureWarning: The default dtype for empty Series will be 'object' instead of 'float64' in a future version. Specify a dtype explicitly to silence this warning.\n",
      "  medium = pd.Series()\n",
      "C:\\Users\\Andrew Freiburger\\AppData\\Local\\Programs\\Python\\Python39\\lib\\site-packages\\cobra\\medium\\minimal_medium.py:112: FutureWarning: The default dtype for empty Series will be 'object' instead of 'float64' in a future version. Specify a dtype explicitly to silence this warning.\n",
      "  medium = pd.Series()\n",
      "C:\\Users\\Andrew Freiburger\\AppData\\Local\\Programs\\Python\\Python39\\lib\\site-packages\\cobra\\medium\\minimal_medium.py:112: FutureWarning: The default dtype for empty Series will be 'object' instead of 'float64' in a future version. Specify a dtype explicitly to silence this warning.\n",
      "  medium = pd.Series()\n"
     ]
    },
    {
     "name": "stdout",
     "output_type": "stream",
     "text": [
      "test\n",
      "The exchange  metabolite ID's of the model AP49-BC15 are completely standardized to ModelSEED.\n",
      "The minimal flux media consists of 42 compounds and a 2387.7714268771674 total influx, with a growth value of 119.32287834971599\n",
      "\n",
      "\n",
      "\n",
      "Standardize exchange reactions in Sphingobium_AP49_pacbio_v2.RAST.fbamodel \n",
      " =============================================================================\n",
      "The exchange  metabolite ID's of the model Sphingobium_AP49_pacbio_v2.RAST.fbamodel are completely standardized to ModelSEED.\n"
     ]
    },
    {
     "name": "stderr",
     "output_type": "stream",
     "text": [
      "ic| mssmetana.py:299 in mp()\n",
      "    org_possible_contributions: [<Reaction EX_cpd00214_e0 at 0x20d774683a0>,\n",
      "                                 <Reaction EX_cpd00751_e0 at 0x20d774684f0>,\n",
      "                                 <Reaction EX_cpd00797_e0 at 0x20d77468580>,\n",
      "                                 <Reaction EX_cpd00116_e0 at 0x20d774686a0>,\n",
      "                                 <Reaction EX_cpd00166_e0 at 0x20d77468730>,\n",
      "                                 <Reaction EX_cpd00106_e0 at 0x20d774687c0>,\n",
      "                                 <Reaction EX_cpd00182_e0 at 0x20d77468970>,\n",
      "                                 <Reaction EX_cpd00122_e0 at 0x20d77468a00>,\n",
      "                                 <Reaction EX_cpd00179_e0 at 0x20d77468a90>,\n",
      "                                 <Reaction EX_cpd00540_e0 at 0x20d77468bb0>,\n",
      "                                 <Reaction EX_cpd00395_e0 at 0x20d77468c40>,\n",
      "                                 <Reaction EX_cpd01017_e0 at 0x20d77468cd0>,\n",
      "                                 <Reaction EX_cpd10516_e0 at 0x20d77468d60>,\n",
      "                                 <Reaction EX_cpd00084_e0 at 0x20d77468df0>,\n",
      "                                 <Reaction EX_cpd11575_e0 at 0x20d77468e80>,\n",
      "                                 <Reaction EX_cpd00305_e0 at 0x20d77468f10>,\n",
      "                                 <Reaction EX_cpd00033_e0 at 0x20d77468fa0>,\n",
      "                                 <Reaction EX_cpd00075_e0 at 0x20d77468490>,\n",
      "                                 <Reaction EX_cpd00731_e0 at 0x20d77477100>,\n",
      "                                 <Reaction EX_cpd00314_e0 at 0x20d77477190>,\n",
      "                                 <Reaction EX_cpd00041_e0 at 0x20d774772b0>,\n",
      "                                 <Reaction EX_cpd03724_e0 at 0x20d77477340>,\n",
      "                                 <Reaction EX_cpd01012_e0 at 0x20d77477460>,\n",
      "                                 <Reaction EX_cpd11596_e0 at 0x20d774774f0>,\n",
      "                                 <Reaction EX_cpd00635_e0 at 0x20d77477580>,\n",
      "                                 <Reaction EX_cpd00012_e0 at 0x20d77477610>,\n",
      "                                 <Reaction EX_cpd09878_e0 at 0x20d774776a0>,\n",
      "                                 <Reaction EX_cpd00023_e0 at 0x20d774778e0>,\n",
      "                                 <Reaction EX_cpd00184_e0 at 0x20d77477a00>,\n",
      "                                 <Reaction EX_cpd00249_e0 at 0x20d77477b20>,\n",
      "                                 <Reaction EX_cpd03696_e0 at 0x20d77477c40>,\n",
      "                                 <Reaction EX_cpd00067_e0 at 0x20d77477d60>,\n",
      "                                 <Reaction EX_cpd00011_e0 at 0x20d77477df0>,\n",
      "                                 <Reaction EX_cpd00588_e0 at 0x20d77477e80>,\n",
      "                                 <Reaction EX_cpd00129_e0 at 0x20d77400100>,\n",
      "                                 <Reaction EX_cpd00138_e0 at 0x20d77400190>,\n",
      "                                 <Reaction EX_cpd00218_e0 at 0x20d77400220>,\n",
      "                                 <Reaction EX_cpd00036_e0 at 0x20d774004f0>,\n",
      "                                 <Reaction EX_cpd03279_e0 at 0x20d77400580>,\n",
      "                                 <Reaction EX_cpd08023_e0 at 0x20d77400610>,\n",
      "                                 <Reaction EX_cpd00053_e0 at 0x20d774006a0>,\n",
      "                                 <Reaction EX_cpd11578_e0 at 0x20d77400730>,\n",
      "                                 <Reaction EX_cpd01030_e0 at 0x20d774007c0>,\n",
      "                                 <Reaction EX_cpd00412_e0 at 0x20d77400970>,\n",
      "                                 <Reaction EX_cpd03048_e0 at 0x20d77400a90>,\n",
      "                                 <Reaction EX_cpd00076_e0 at 0x20d77400b20>,\n",
      "                                 <Reaction EX_cpd00082_e0 at 0x20d77400c40>,\n",
      "                                 <Reaction EX_cpd00027_e0 at 0x20d77400cd0>,\n",
      "                                 <Reaction EX_cpd03453_e0 at 0x20d77400d60>,\n",
      "                                 <Reaction EX_cpd03726_e0 at 0x20d77400df0>,\n",
      "                                 <Reaction EX_cpd00137_e0 at 0x20d77400e80>,\n",
      "                                 <Reaction EX_cpd00280_e0 at 0x20d77400fa0>,\n",
      "                                 <Reaction EX_cpd00154_e0 at 0x20d7740b100>,\n",
      "                                 <Reaction EX_cpd11579_e0 at 0x20d7740b220>,\n",
      "                                 <Reaction EX_cpd00244_e0 at 0x20d7740b2b0>,\n",
      "                                 <Reaction EX_cpd01171_e0 at 0x20d7740b3d0>,\n",
      "                                 <Reaction EX_cpd00013_e0 at 0x20d7740b460>,\n",
      "                                 <Reaction EX_cpd03424_e0 at 0x20d7740b610>,\n",
      "                                 <Reaction EX_cpd00276_e0 at 0x20d7740b6a0>,\n",
      "                                 <Reaction EX_cpd00386_e0 at 0x20d7740b730>,\n",
      "                                 <Reaction EX_cpd00210_e0 at 0x20d7740b7c0>,\n",
      "                                 <Reaction EX_cpd00438_e0 at 0x20d7740b850>,\n",
      "                                 <Reaction EX_cpd00108_e0 at 0x20d7740b970>,\n",
      "                                 <Reaction EX_cpd00246_e0 at 0x20d7740ba90>,\n",
      "                                 <Reaction EX_cpd00060_e0 at 0x20d7740bbb0>,\n",
      "                                 <Reaction EX_cpd00039_e0 at 0x20d7740bc40>,\n",
      "                                 <Reaction EX_cpd01080_e0 at 0x20d7740be80>,\n",
      "                                 <Reaction EX_cpd00054_e0 at 0x20d7740bfa0>,\n",
      "                                 <Reaction EX_cpd00001_e0 at 0x20d7740b070>,\n",
      "                                 <Reaction EX_cpd00009_e0 at 0x20d77416100>,\n",
      "                                 <Reaction EX_cpd00161_e0 at 0x20d774162b0>,\n",
      "                                 <Reaction EX_cpd00132_e0 at 0x20d77416340>]\n",
      "    len(model_util.exchange_list()): 111\n",
      "    len(community.medium): 42\n",
      "C:\\Users\\Andrew Freiburger\\AppData\\Local\\Programs\\Python\\Python39\\lib\\site-packages\\cobra\\core\\reaction.py:761: DeprecationWarning: Please use reaction.flux instead.\n",
      "  warn(\"Please use reaction.flux instead.\", DeprecationWarning)\n",
      "C:\\Users\\Andrew Freiburger\\AppData\\Local\\Programs\\Python\\Python39\\lib\\site-packages\\cobra\\core\\reaction.py:779: DeprecationWarning: Please use reaction.reduced_cost instead.\n",
      "  warn(\"Please use reaction.reduced_cost instead.\", DeprecationWarning)\n",
      "C:\\Users\\Andrew Freiburger\\AppData\\Local\\Programs\\Python\\Python39\\lib\\site-packages\\cobra\\core\\metabolite.py:207: DeprecationWarning: Please use metabolite.shadow_price instead.\n",
      "  warn(\"Please use metabolite.shadow_price instead.\", DeprecationWarning)\n",
      "C:\\Users\\Andrew Freiburger\\AppData\\Local\\Programs\\Python\\Python39\\lib\\site-packages\\cobra\\core\\metabolite.py:191: UserWarning: The element 'R' does not appear in the periodic table\n",
      "  warn(f\"The element {e} does not appear in the periodic table\")\n"
     ]
    },
    {
     "name": "stdout",
     "output_type": "stream",
     "text": [
      "remaining possible_contributions 56\r"
     ]
    },
    {
     "name": "stderr",
     "output_type": "stream",
     "text": [
      "C:\\Users\\Andrew Freiburger\\AppData\\Local\\Programs\\Python\\Python39\\lib\\site-packages\\cobra\\core\\reaction.py:761: DeprecationWarning: Please use reaction.flux instead.\n",
      "  warn(\"Please use reaction.flux instead.\", DeprecationWarning)\n",
      "C:\\Users\\Andrew Freiburger\\AppData\\Local\\Programs\\Python\\Python39\\lib\\site-packages\\cobra\\core\\reaction.py:779: DeprecationWarning: Please use reaction.reduced_cost instead.\n",
      "  warn(\"Please use reaction.reduced_cost instead.\", DeprecationWarning)\n",
      "C:\\Users\\Andrew Freiburger\\AppData\\Local\\Programs\\Python\\Python39\\lib\\site-packages\\cobra\\core\\metabolite.py:207: DeprecationWarning: Please use metabolite.shadow_price instead.\n",
      "  warn(\"Please use metabolite.shadow_price instead.\", DeprecationWarning)\n",
      "C:\\Users\\Andrew Freiburger\\AppData\\Local\\Programs\\Python\\Python39\\lib\\site-packages\\cobra\\core\\metabolite.py:191: UserWarning: The element 'R' does not appear in the periodic table\n",
      "  warn(f\"The element {e} does not appear in the periodic table\")\n"
     ]
    },
    {
     "name": "stdout",
     "output_type": "stream",
     "text": [
      "remaining possible_contributions 50\r"
     ]
    },
    {
     "name": "stderr",
     "output_type": "stream",
     "text": [
      "C:\\Users\\Andrew Freiburger\\AppData\\Local\\Programs\\Python\\Python39\\lib\\site-packages\\cobra\\core\\reaction.py:761: DeprecationWarning: Please use reaction.flux instead.\n",
      "  warn(\"Please use reaction.flux instead.\", DeprecationWarning)\n",
      "C:\\Users\\Andrew Freiburger\\AppData\\Local\\Programs\\Python\\Python39\\lib\\site-packages\\cobra\\core\\reaction.py:779: DeprecationWarning: Please use reaction.reduced_cost instead.\n",
      "  warn(\"Please use reaction.reduced_cost instead.\", DeprecationWarning)\n",
      "C:\\Users\\Andrew Freiburger\\AppData\\Local\\Programs\\Python\\Python39\\lib\\site-packages\\cobra\\core\\metabolite.py:207: DeprecationWarning: Please use metabolite.shadow_price instead.\n",
      "  warn(\"Please use metabolite.shadow_price instead.\", DeprecationWarning)\n",
      "C:\\Users\\Andrew Freiburger\\AppData\\Local\\Programs\\Python\\Python39\\lib\\site-packages\\cobra\\core\\metabolite.py:191: UserWarning: The element 'R' does not appear in the periodic table\n",
      "  warn(f\"The element {e} does not appear in the periodic table\")\n"
     ]
    },
    {
     "name": "stdout",
     "output_type": "stream",
     "text": [
      "remaining possible_contributions 45\r"
     ]
    },
    {
     "name": "stderr",
     "output_type": "stream",
     "text": [
      "C:\\Users\\Andrew Freiburger\\AppData\\Local\\Programs\\Python\\Python39\\lib\\site-packages\\cobra\\core\\reaction.py:761: DeprecationWarning: Please use reaction.flux instead.\n",
      "  warn(\"Please use reaction.flux instead.\", DeprecationWarning)\n",
      "C:\\Users\\Andrew Freiburger\\AppData\\Local\\Programs\\Python\\Python39\\lib\\site-packages\\cobra\\core\\reaction.py:779: DeprecationWarning: Please use reaction.reduced_cost instead.\n",
      "  warn(\"Please use reaction.reduced_cost instead.\", DeprecationWarning)\n",
      "C:\\Users\\Andrew Freiburger\\AppData\\Local\\Programs\\Python\\Python39\\lib\\site-packages\\cobra\\core\\metabolite.py:207: DeprecationWarning: Please use metabolite.shadow_price instead.\n",
      "  warn(\"Please use metabolite.shadow_price instead.\", DeprecationWarning)\n",
      "C:\\Users\\Andrew Freiburger\\AppData\\Local\\Programs\\Python\\Python39\\lib\\site-packages\\cobra\\core\\metabolite.py:191: UserWarning: The element 'R' does not appear in the periodic table\n",
      "  warn(f\"The element {e} does not appear in the periodic table\")\n"
     ]
    },
    {
     "name": "stdout",
     "output_type": "stream",
     "text": [
      "remaining possible_contributions 42\r"
     ]
    },
    {
     "name": "stderr",
     "output_type": "stream",
     "text": [
      "C:\\Users\\Andrew Freiburger\\AppData\\Local\\Programs\\Python\\Python39\\lib\\site-packages\\cobra\\core\\reaction.py:761: DeprecationWarning: Please use reaction.flux instead.\n",
      "  warn(\"Please use reaction.flux instead.\", DeprecationWarning)\n",
      "C:\\Users\\Andrew Freiburger\\AppData\\Local\\Programs\\Python\\Python39\\lib\\site-packages\\cobra\\core\\reaction.py:779: DeprecationWarning: Please use reaction.reduced_cost instead.\n",
      "  warn(\"Please use reaction.reduced_cost instead.\", DeprecationWarning)\n",
      "C:\\Users\\Andrew Freiburger\\AppData\\Local\\Programs\\Python\\Python39\\lib\\site-packages\\cobra\\core\\metabolite.py:207: DeprecationWarning: Please use metabolite.shadow_price instead.\n",
      "  warn(\"Please use metabolite.shadow_price instead.\", DeprecationWarning)\n"
     ]
    },
    {
     "name": "stdout",
     "output_type": "stream",
     "text": [
      "remaining possible_contributions 41\n",
      "\n",
      "\n",
      "Standardize exchange reactions in Bacillus_sp._bc15.RAST.fbamodel \n",
      " ====================================================================\n",
      "The exchange  metabolite ID's of the model Bacillus_sp._bc15.RAST.fbamodel are completely standardized to ModelSEED.\n"
     ]
    },
    {
     "name": "stderr",
     "output_type": "stream",
     "text": [
      "ic| mssmetana.py:299 in mp()\n",
      "    org_possible_contributions: [<Reaction EX_cpd00064_e0 at 0x20cd0956f10>,\n",
      "                                 <Reaction EX_cpd01262_e0 at 0x20cd0956fd0>,\n",
      "                                 <Reaction EX_cpd00797_e0 at 0x20cd0963130>,\n",
      "                                 <Reaction EX_cpd00116_e0 at 0x20cd0963250>,\n",
      "                                 <Reaction EX_cpd00222_e0 at 0x20cd09632e0>,\n",
      "                                 <Reaction EX_cpd00130_e0 at 0x20cd0963370>,\n",
      "                                 <Reaction EX_cpd00309_e0 at 0x20cd0963490>,\n",
      "                                 <Reaction EX_cpd00182_e0 at 0x20cd0963520>,\n",
      "                                 <Reaction EX_cpd00122_e0 at 0x20cd09635b0>,\n",
      "                                 <Reaction EX_cpd00179_e0 at 0x20cd0963640>,\n",
      "                                 <Reaction EX_cpd11597_e0 at 0x20cd09636d0>,\n",
      "                                 <Reaction EX_cpd00540_e0 at 0x20cd09637f0>,\n",
      "                                 <Reaction EX_cpd10516_e0 at 0x20cd0963880>,\n",
      "                                 <Reaction EX_cpd00084_e0 at 0x20cd0963910>,\n",
      "                                 <Reaction EX_cpd00305_e0 at 0x20cd09639a0>,\n",
      "                                 <Reaction EX_cpd00266_e0 at 0x20cd0963a30>,\n",
      "                                 <Reaction EX_cpd00033_e0 at 0x20cd0963ac0>,\n",
      "                                 <Reaction EX_cpd00075_e0 at 0x20cd0963b50>,\n",
      "                                 <Reaction EX_cpd00047_e0 at 0x20cd0963be0>,\n",
      "                                 <Reaction EX_cpd15603_e0 at 0x20cd0963c70>,\n",
      "                                 <Reaction EX_cpd00117_e0 at 0x20cd0963d00>,\n",
      "                                 <Reaction EX_cpd01329_e0 at 0x20cd0963d90>,\n",
      "                                 <Reaction EX_cpd00314_e0 at 0x20cd0963e20>,\n",
      "                                 <Reaction EX_cpd04099_e0 at 0x20cd0963f40>,\n",
      "                                 <Reaction EX_cpd00041_e0 at 0x20cd0963fd0>,\n",
      "                                 <Reaction EX_cpd03724_e0 at 0x20cd09630a0>,\n",
      "                                 <Reaction EX_cpd01012_e0 at 0x20cd09691c0>,\n",
      "                                 <Reaction EX_cpd00268_e0 at 0x20cd0969250>,\n",
      "                                 <Reaction EX_cpd11596_e0 at 0x20cd09692e0>,\n",
      "                                 <Reaction EX_cpd00635_e0 at 0x20cd0969370>,\n",
      "                                 <Reaction EX_cpd00012_e0 at 0x20cd0969400>,\n",
      "                                 <Reaction EX_cpd09878_e0 at 0x20cd0969490>,\n",
      "                                 <Reaction EX_cpd00023_e0 at 0x20cd09696d0>,\n",
      "                                 <Reaction EX_cpd00142_e0 at 0x20cd09697f0>,\n",
      "                                 <Reaction EX_cpd00637_e0 at 0x20cd0969910>,\n",
      "                                 <Reaction EX_cpd00184_e0 at 0x20cd09699a0>,\n",
      "                                 <Reaction EX_cpd11576_e0 at 0x20cd0969a30>,\n",
      "                                 <Reaction EX_cpd00249_e0 at 0x20cd0969b50>,\n",
      "                                 <Reaction EX_cpd03696_e0 at 0x20cd0969c70>,\n",
      "                                 <Reaction EX_cpd02233_e0 at 0x20cd0969d90>,\n",
      "                                 <Reaction EX_cpd00067_e0 at 0x20cd0969e20>,\n",
      "                                 <Reaction EX_cpd00226_e0 at 0x20cd0969eb0>,\n",
      "                                 <Reaction EX_cpd00011_e0 at 0x20cd0969f40>,\n",
      "                                 <Reaction EX_cpd00100_e0 at 0x20cd0969fd0>,\n",
      "                                 <Reaction EX_cpd00588_e0 at 0x20cd0970130>,\n",
      "                                 <Reaction EX_cpd00073_e0 at 0x20cd09701c0>,\n",
      "                                 <Reaction EX_cpd00180_e0 at 0x20cd0970250>,\n",
      "                                 <Reaction EX_cpd00129_e0 at 0x20cd0970400>,\n",
      "                                 <Reaction EX_cpd00531_e0 at 0x20cd0970490>,\n",
      "                                 <Reaction EX_cpd00138_e0 at 0x20cd0970520>,\n",
      "                                 <Reaction EX_cpd00218_e0 at 0x20cd0970640>,\n",
      "                                 <Reaction EX_cpd00211_e0 at 0x20cd09707f0>,\n",
      "                                 <Reaction EX_cpd03279_e0 at 0x20cd0970880>,\n",
      "                                 <Reaction EX_cpd08023_e0 at 0x20cd0970910>,\n",
      "                                 <Reaction EX_cpd00053_e0 at 0x20cd09709a0>,\n",
      "                                 <Reaction EX_cpd00098_e0 at 0x20cd0970a30>,\n",
      "                                 <Reaction EX_cpd11578_e0 at 0x20cd0970ac0>,\n",
      "                                 <Reaction EX_cpd01030_e0 at 0x20cd0970b50>,\n",
      "                                 <Reaction EX_cpd00412_e0 at 0x20cd0970d00>,\n",
      "                                 <Reaction EX_cpd03048_e0 at 0x20cd0970e20>,\n",
      "                                 <Reaction EX_cpd00092_e0 at 0x20cd0970eb0>,\n",
      "                                 <Reaction EX_cpd00076_e0 at 0x20cd0970f40>,\n",
      "                                 <Reaction EX_cpd00159_e0 at 0x20cd0970fd0>,\n",
      "                                 <Reaction EX_cpd00082_e0 at 0x20cd0977130>,\n",
      "                                 <Reaction EX_cpd00027_e0 at 0x20cd09771c0>,\n",
      "                                 <Reaction EX_cpd03453_e0 at 0x20cd0977250>,\n",
      "                                 <Reaction EX_cpd03726_e0 at 0x20cd09772e0>,\n",
      "                                 <Reaction EX_cpd00137_e0 at 0x20cd0977370>,\n",
      "                                 <Reaction EX_cpd01914_e0 at 0x20cd0977490>,\n",
      "                                 <Reaction EX_cpd01757_e0 at 0x20cd0977520>,\n",
      "                                 <Reaction EX_cpd00105_e0 at 0x20cd09776d0>,\n",
      "                                 <Reaction EX_cpd11579_e0 at 0x20cd0977760>,\n",
      "                                 <Reaction EX_cpd00244_e0 at 0x20cd09777f0>,\n",
      "                                 <Reaction EX_cpd01171_e0 at 0x20cd0977910>,\n",
      "                                 <Reaction EX_cpd00381_e0 at 0x20cd09779a0>,\n",
      "                                 <Reaction EX_cpd00013_e0 at 0x20cd0977a30>,\n",
      "                                 <Reaction EX_cpd00276_e0 at 0x20cd0977be0>,\n",
      "                                 <Reaction EX_cpd00438_e0 at 0x20cd0977c70>,\n",
      "                                 <Reaction EX_cpd00246_e0 at 0x20cd0977eb0>,\n",
      "                                 <Reaction EX_cpd03725_e0 at 0x20cd0977f40>,\n",
      "                                 <Reaction EX_cpd00060_e0 at 0x20cd09770a0>,\n",
      "                                 <Reaction EX_cpd00039_e0 at 0x20cd097d130>,\n",
      "                                 <Reaction EX_cpd08306_e0 at 0x20cd097d1c0>,\n",
      "                                 <Reaction EX_cpd00281_e0 at 0x20cd097d2e0>,\n",
      "                                 <Reaction EX_cpd04097_e0 at 0x20cd097d370>,\n",
      "                                 <Reaction EX_cpd00080_e0 at 0x20cd097d490>,\n",
      "                                 <Reaction EX_cpd00054_e0 at 0x20cd097d640>,\n",
      "                                 <Reaction EX_cpd00001_e0 at 0x20cd097d6d0>,\n",
      "                                 <Reaction EX_cpd00009_e0 at 0x20cd097d760>,\n",
      "                                 <Reaction EX_cpd08305_e0 at 0x20cd097d7f0>,\n",
      "                                 <Reaction EX_cpd00161_e0 at 0x20cd097d9a0>,\n",
      "                                 <Reaction EX_cpd00132_e0 at 0x20cd097da30>]\n",
      "    len(model_util.exchange_list()): 131\n",
      "    len(community.medium): 42\n",
      "C:\\Users\\Andrew Freiburger\\AppData\\Local\\Programs\\Python\\Python39\\lib\\site-packages\\cobra\\core\\reaction.py:761: DeprecationWarning: Please use reaction.flux instead.\n",
      "  warn(\"Please use reaction.flux instead.\", DeprecationWarning)\n",
      "C:\\Users\\Andrew Freiburger\\AppData\\Local\\Programs\\Python\\Python39\\lib\\site-packages\\cobra\\core\\reaction.py:779: DeprecationWarning: Please use reaction.reduced_cost instead.\n",
      "  warn(\"Please use reaction.reduced_cost instead.\", DeprecationWarning)\n",
      "C:\\Users\\Andrew Freiburger\\AppData\\Local\\Programs\\Python\\Python39\\lib\\site-packages\\cobra\\core\\metabolite.py:207: DeprecationWarning: Please use metabolite.shadow_price instead.\n",
      "  warn(\"Please use metabolite.shadow_price instead.\", DeprecationWarning)\n"
     ]
    },
    {
     "name": "stdout",
     "output_type": "stream",
     "text": [
      "remaining possible_contributions 64\r"
     ]
    },
    {
     "name": "stderr",
     "output_type": "stream",
     "text": [
      "C:\\Users\\Andrew Freiburger\\AppData\\Local\\Programs\\Python\\Python39\\lib\\site-packages\\cobra\\core\\reaction.py:761: DeprecationWarning: Please use reaction.flux instead.\n",
      "  warn(\"Please use reaction.flux instead.\", DeprecationWarning)\n",
      "C:\\Users\\Andrew Freiburger\\AppData\\Local\\Programs\\Python\\Python39\\lib\\site-packages\\cobra\\core\\reaction.py:779: DeprecationWarning: Please use reaction.reduced_cost instead.\n",
      "  warn(\"Please use reaction.reduced_cost instead.\", DeprecationWarning)\n",
      "C:\\Users\\Andrew Freiburger\\AppData\\Local\\Programs\\Python\\Python39\\lib\\site-packages\\cobra\\core\\metabolite.py:207: DeprecationWarning: Please use metabolite.shadow_price instead.\n",
      "  warn(\"Please use metabolite.shadow_price instead.\", DeprecationWarning)\n"
     ]
    },
    {
     "name": "stdout",
     "output_type": "stream",
     "text": [
      "remaining possible_contributions 49\r"
     ]
    },
    {
     "name": "stderr",
     "output_type": "stream",
     "text": [
      "C:\\Users\\Andrew Freiburger\\AppData\\Local\\Programs\\Python\\Python39\\lib\\site-packages\\cobra\\core\\reaction.py:761: DeprecationWarning: Please use reaction.flux instead.\n",
      "  warn(\"Please use reaction.flux instead.\", DeprecationWarning)\n",
      "C:\\Users\\Andrew Freiburger\\AppData\\Local\\Programs\\Python\\Python39\\lib\\site-packages\\cobra\\core\\reaction.py:779: DeprecationWarning: Please use reaction.reduced_cost instead.\n",
      "  warn(\"Please use reaction.reduced_cost instead.\", DeprecationWarning)\n",
      "C:\\Users\\Andrew Freiburger\\AppData\\Local\\Programs\\Python\\Python39\\lib\\site-packages\\cobra\\core\\metabolite.py:207: DeprecationWarning: Please use metabolite.shadow_price instead.\n",
      "  warn(\"Please use metabolite.shadow_price instead.\", DeprecationWarning)\n"
     ]
    },
    {
     "name": "stdout",
     "output_type": "stream",
     "text": [
      "remaining possible_contributions 47\r"
     ]
    },
    {
     "name": "stderr",
     "output_type": "stream",
     "text": [
      "C:\\Users\\Andrew Freiburger\\AppData\\Local\\Programs\\Python\\Python39\\lib\\site-packages\\cobra\\core\\reaction.py:761: DeprecationWarning: Please use reaction.flux instead.\n",
      "  warn(\"Please use reaction.flux instead.\", DeprecationWarning)\n",
      "C:\\Users\\Andrew Freiburger\\AppData\\Local\\Programs\\Python\\Python39\\lib\\site-packages\\cobra\\core\\reaction.py:779: DeprecationWarning: Please use reaction.reduced_cost instead.\n",
      "  warn(\"Please use reaction.reduced_cost instead.\", DeprecationWarning)\n",
      "C:\\Users\\Andrew Freiburger\\AppData\\Local\\Programs\\Python\\Python39\\lib\\site-packages\\cobra\\core\\metabolite.py:207: DeprecationWarning: Please use metabolite.shadow_price instead.\n",
      "  warn(\"Please use metabolite.shadow_price instead.\", DeprecationWarning)\n"
     ]
    },
    {
     "name": "stdout",
     "output_type": "stream",
     "text": [
      "remaining possible_contributions 46\r"
     ]
    },
    {
     "name": "stderr",
     "output_type": "stream",
     "text": [
      "ic| mssmetana.py:332 in mu()\n",
      "    member_models: [<FBAModel Sphingobium_AP49_pacbio_v2.RAST.fbamodel at 0x20b606c20a0>,\n",
      "                    <FBAModel Bacillus_sp._bc15.RAST.fbamodel at 0x20ba1af2cd0>]\n",
      "ic| mssmetana.py:337 in mu()- environment: None\n",
      "C:\\Users\\Andrew Freiburger\\AppData\\Local\\Programs\\Python\\Python39\\lib\\site-packages\\cobra\\util\\solver.py:554: UserWarning: Solver status is 'infeasible'.\n",
      "  warn(f\"Solver status is '{status}'.\", UserWarning)\n",
      "ic"
     ]
    },
    {
     "name": "stdout",
     "output_type": "stream",
     "text": [
      "\n",
      "MP score:\t\t\tEach member can possibly contribute the following to the community:\n",
      "\n",
      "Sphingobium_AP49_pacbio_v2.RAST.fbamodel \t 31\n",
      "Bacillus_sp._bc15.RAST.fbamodel \t 46\n",
      "<class 'dict'> {'Sphingobium_AP49_pacbio_v2.RAST.fbamodel': {'cpd00797_e0', 'cpd00036_e0', 'cpd00116_e0', 'cpd03279_e0', 'cpd00053_e0', 'cpd00013_e0', 'cpd00412_e0', 'cpd00023_e0', 'cpd00276_e0', 'cpd00182_e0', 'cpd00438_e0', 'cpd00122_e0', 'cpd00184_e0', 'cpd00246_e0', 'cpd00084_e0', 'cpd00249_e0', 'cpd00033_e0', 'cpd00060_e0', 'cpd00075_e0', 'cpd00039_e0', 'cpd00067_e0', 'cpd00011_e0', 'cpd00137_e0', 'cpd00588_e0', 'cpd00054_e0', 'cpd00001_e0', 'cpd00041_e0', 'cpd00129_e0', 'cpd00161_e0', 'cpd00138_e0', 'cpd00132_e0'}, 'Bacillus_sp._bc15.RAST.fbamodel': {'cpd00064_e0', 'cpd00797_e0', 'cpd03279_e0', 'cpd00130_e0', 'cpd00116_e0', 'cpd00053_e0', 'cpd00013_e0', 'cpd00012_e0', 'cpd00412_e0', 'cpd00023_e0', 'cpd00276_e0', 'cpd00142_e0', 'cpd00309_e0', 'cpd00182_e0', 'cpd00438_e0', 'cpd00092_e0', 'cpd00122_e0', 'cpd00184_e0', 'cpd00246_e0', 'cpd00159_e0', 'cpd00084_e0', 'cpd00082_e0', 'cpd00249_e0', 'cpd00033_e0', 'cpd00060_e0', 'cpd00075_e0', 'cpd00039_e0', 'cpd00226_e0', 'cpd00047_e0', 'cpd00067_e0', 'cpd00080_e0', 'cpd00011_e0', 'cpd00137_e0', 'cpd00100_e0', 'cpd00073_e0', 'cpd00180_e0', 'cpd00117_e0', 'cpd00054_e0', 'cpd00001_e0', 'cpd00009_e0', 'cpd00041_e0', 'cpd00129_e0', 'cpd00161_e0', 'cpd00138_e0', 'cpd00218_e0', 'cpd00132_e0'}}\n"
     ]
    },
    {
     "name": "stderr",
     "output_type": "stream",
     "text": [
      "| mssmetana.py:337 in mu()- environment: None\n"
     ]
    },
    {
     "name": "stdout",
     "output_type": "stream",
     "text": [
      "\n",
      "MU score:\t\t\tThe fraction of solutions in which each member is the syntrophic receiver that contain a respective metabolite:\n",
      "\n",
      "{'Bacillus_sp._bc15.RAST.fbamodel': {},\n",
      " 'Sphingobium_AP49_pacbio_v2.RAST.fbamodel': {}}\n"
     ]
    },
    {
     "name": "stderr",
     "output_type": "stream",
     "text": [
      "C:\\Users\\Andrew Freiburger\\AppData\\Local\\Programs\\Python\\Python39\\lib\\site-packages\\cobra\\util\\solver.py:554: UserWarning: Solver status is 'infeasible'.\n",
      "  warn(f\"Solver status is '{status}'.\", UserWarning)\n"
     ]
    },
    {
     "data": {
      "text/plain": [
       "{'Sphingobium_AP49_pacbio_v2.RAST.fbamodel': {},\n",
       " 'Bacillus_sp._bc15.RAST.fbamodel': {}}"
      ]
     },
     "execution_count": 8,
     "metadata": {},
     "output_type": "execute_result"
    }
   ],
   "source": [
    "%run ../../../modelseedpy/community/mssmetana.py\n",
    "comm = MSSmetana([AP49, BC15], AP49_BC15_model)\n",
    "comm.mu_score()"
   ]
  },
  {
   "cell_type": "code",
   "execution_count": 7,
   "id": "dc962f01-7272-43ed-82c6-a70fd55a2fbb",
   "metadata": {
    "scrolled": true,
    "tags": []
   },
   "outputs": [
    {
     "name": "stdout",
     "output_type": "stream",
     "text": [
      "{'Sphingobium_AP49_pacbio_v2.RAST.fbamodel': {'cpd03279_e0', 'cpd00246_e0', 'cpd00053_e0', 'cpd00182_e0', 'cpd00033_e0', 'cpd00011_e0', 'cpd00122_e0', 'cpd00075_e0', 'cpd00276_e0', 'cpd00138_e0', 'cpd00054_e0', 'cpd00137_e0', 'cpd00129_e0', 'cpd00041_e0', 'cpd00249_e0', 'cpd00001_e0', 'cpd00023_e0', 'cpd00412_e0', 'cpd00067_e0', 'cpd00797_e0', 'cpd00132_e0', 'cpd00013_e0', 'cpd00084_e0', 'cpd00588_e0', 'cpd00116_e0', 'cpd00060_e0', 'cpd00161_e0', 'cpd00184_e0', 'cpd00036_e0', 'cpd00039_e0', 'cpd00438_e0'}, 'Bacillus_sp._bc15.RAST.fbamodel': {'cpd00082_e0', 'cpd00246_e0', 'cpd00182_e0', 'cpd00011_e0', 'cpd00047_e0', 'cpd00138_e0', 'cpd00129_e0', 'cpd00130_e0', 'cpd00023_e0', 'cpd00412_e0', 'cpd00132_e0', 'cpd00013_e0', 'cpd00226_e0', 'cpd00161_e0', 'cpd00218_e0', 'cpd00184_e0', 'cpd00100_e0', 'cpd00142_e0', 'cpd00438_e0', 'cpd00080_e0', 'cpd03279_e0', 'cpd00053_e0', 'cpd00033_e0', 'cpd00073_e0', 'cpd00122_e0', 'cpd00092_e0', 'cpd00075_e0', 'cpd00276_e0', 'cpd00137_e0', 'cpd00041_e0', 'cpd00012_e0', 'cpd00249_e0', 'cpd00001_e0', 'cpd00159_e0', 'cpd00309_e0', 'cpd00067_e0', 'cpd00797_e0', 'cpd00064_e0', 'cpd00117_e0', 'cpd00084_e0', 'cpd00116_e0', 'cpd00060_e0', 'cpd00054_e0', 'cpd00009_e0', 'cpd00180_e0', 'cpd00039_e0'}}\n",
      "\n",
      "Sphingobium_AP49_pacbio_v2.RAST.fbamodel\tOther Excreta {'cpd00082_e0', 'cpd00246_e0', 'cpd00182_e0', 'cpd00011_e0', 'cpd00054_e0', 'cpd00047_e0', 'cpd00138_e0', 'cpd00129_e0', 'cpd00130_e0', 'cpd00023_e0', 'cpd00412_e0', 'cpd00132_e0', 'cpd00013_e0', 'cpd00226_e0', 'cpd00218_e0', 'cpd00100_e0', 'cpd00184_e0', 'cpd00142_e0', 'cpd00438_e0', 'cpd00080_e0', 'cpd03279_e0', 'cpd00053_e0', 'cpd00033_e0', 'cpd00073_e0', 'cpd00122_e0', 'cpd00092_e0', 'cpd00075_e0', 'cpd00276_e0', 'cpd00137_e0', 'cpd00041_e0', 'cpd00012_e0', 'cpd00249_e0', 'cpd00001_e0', 'cpd00159_e0', 'cpd00309_e0', 'cpd00067_e0', 'cpd00797_e0', 'cpd00064_e0', 'cpd00117_e0', 'cpd00084_e0', 'cpd00116_e0', 'cpd00060_e0', 'cpd00161_e0', 'cpd00009_e0', 'cpd00180_e0', 'cpd00039_e0'}\n",
      "\n",
      "Sphingobium_AP49_pacbio_v2.RAST.fbamodel\tExtracellular reactions {<Reaction EX_cpd00082_e0 at 0x2517074a2e0>: <ModelCompound cpd00082_e0 at 0x2512e5a0550>, <Reaction EX_cpd10516_e0 at 0x2517074a430>: <ModelCompound cpd10516_e0 at 0x2512e636d90>, <Reaction EX_cpd00011_e0 at 0x2517074a4c0>: <ModelCompound cpd00011_e0 at 0x2512e681670>, <Reaction EX_cpd03847_e0 at 0x2517074a550>: <ModelCompound cpd03847_e0 at 0x2512e636eb0>, <Reaction EX_cpd00138_e0 at 0x2517074a5e0>: <ModelCompound cpd00138_e0 at 0x2512e61ec10>, <Reaction EX_cpd00156_e0 at 0x2517074a670>: <ModelCompound cpd00156_e0 at 0x2512e69a850>, <Reaction EX_cpd00035_e0 at 0x2517074a700>: <ModelCompound cpd00035_e0 at 0x2512e69a550>, <Reaction EX_cpd00028_e0 at 0x2517074a790>: <ModelCompound cpd00028_e0 at 0x2512e61e340>, <Reaction EX_cpd00280_e0 at 0x2517074a820>: <ModelCompound cpd00280_e0 at 0x2512e61e2e0>, <Reaction EX_cpd00254_e0 at 0x2517074a8b0>: <ModelCompound cpd00254_e0 at 0x2512e61eac0>, <Reaction EX_cpd00179_e0 at 0x2517074a940>: <ModelCompound cpd00179_e0 at 0x2512e5badf0>, <Reaction EX_cpd00654_e0 at 0x2517074a9d0>: <ModelCompound cpd00654_e0 at 0x2512e5eb460>, <Reaction EX_cpd00751_e0 at 0x2517074aa60>: <ModelCompound cpd00751_e0 at 0x2512e64fe20>, <Reaction EX_cpd03424_e0 at 0x2517074aaf0>: <ModelCompound cpd03424_e0 at 0x2512e669850>, <Reaction EX_cpd00132_e0 at 0x2517074ab80>: <ModelCompound cpd00132_e0 at 0x2512e69a640>, <Reaction EX_cpd00154_e0 at 0x2517074ac10>: <ModelCompound cpd00154_e0 at 0x2512e604040>, <Reaction EX_cpd00149_e0 at 0x2517074aca0>: <ModelCompound cpd00149_e0 at 0x2512e636fa0>, <Reaction EX_cpd00184_e0 at 0x2517074ad30>: <ModelCompound cpd00184_e0 at 0x2512e5ba220>, <Reaction EX_cpd00065_e0 at 0x2517074adc0>: <ModelCompound cpd00065_e0 at 0x2512e69a9a0>, <Reaction EX_cpd00438_e0 at 0x2517074ae50>: <ModelCompound cpd00438_e0 at 0x2512e5d3d30>, <Reaction EX_cpd00033_e0 at 0x2517074aee0>: <ModelCompound cpd00033_e0 at 0x2512e69a670>, <Reaction EX_cpd00209_e0 at 0x2517074af70>: <ModelCompound cpd00209_e0 at 0x2512e64faf0>, <Reaction EX_cpd01030_e0 at 0x2517074a3d0>: <ModelCompound cpd01030_e0 at 0x2512e5880d0>, <Reaction EX_cpd00012_e0 at 0x251707570d0>: <ModelCompound cpd00012_e0 at 0x24f82628910>, <Reaction EX_cpd11578_e0 at 0x25170757160>: <ModelCompound cpd11578_e0 at 0x2512e5bac10>, <Reaction EX_cpd00210_e0 at 0x251707571f0>: <ModelCompound cpd00210_e0 at 0x2512e5eb970>, <Reaction EX_cpd00084_e0 at 0x25170757280>: <ModelCompound cpd00084_e0 at 0x2512e69a610>, <Reaction EX_cpd00118_e0 at 0x25170757310>: <ModelCompound cpd00118_e0 at 0x2512e69a880>, <Reaction EX_cpd00060_e0 at 0x251707573a0>: <ModelCompound cpd00060_e0 at 0x2512e69a7c0>, <Reaction EX_cpd00054_e0 at 0x25170757430>: <ModelCompound cpd00054_e0 at 0x2512e69a6a0>, <Reaction EX_cpd00161_e0 at 0x251707574c0>: <ModelCompound cpd00161_e0 at 0x2512e69a730>, <Reaction EX_cpd00314_e0 at 0x25170757550>: <ModelCompound cpd00314_e0 at 0x2512e5ba460>, <Reaction EX_cpd00246_e0 at 0x251707575e0>: <ModelCompound cpd00246_e0 at 0x2512e588fd0>, <Reaction EX_cpd11575_e0 at 0x25170757670>: <ModelCompound cpd11575_e0 at 0x2512e64fb50>, <Reaction EX_cpd01171_e0 at 0x25170757700>: <ModelCompound cpd01171_e0 at 0x2512e5eb910>, <Reaction EX_cpd00182_e0 at 0x25170757790>: <ModelCompound cpd00182_e0 at 0x250e1d5bdc0>, <Reaction EX_cpd01080_e0 at 0x25170757820>: <ModelCompound cpd01080_e0 at 0x2512e669ee0>, <Reaction EX_cpd03048_e0 at 0x251707578b0>: <ModelCompound cpd03048_e0 at 0x2512e6367c0>, <Reaction EX_cpd00305_e0 at 0x25170757940>: <ModelCompound cpd00305_e0 at 0x2512e69a910>, <Reaction EX_cpd00215_e0 at 0x251707579d0>: <ModelCompound cpd00215_e0 at 0x2512e69a5b0>, <Reaction EX_cpd00129_e0 at 0x25170757a60>: <ModelCompound cpd00129_e0 at 0x2512e636d30>, <Reaction EX_cpd03453_e0 at 0x25170757af0>: <ModelCompound cpd03453_e0 at 0x2512e69a3d0>, <Reaction EX_cpd09878_e0 at 0x25170757b80>: <ModelCompound cpd09878_e0 at 0x2512e64fdc0>, <Reaction EX_cpd00058_e0 at 0x25170757c10>: <ModelCompound cpd00058_e0 at 0x2512e69abb0>, <Reaction EX_cpd00793_e0 at 0x25170757ca0>: <ModelCompound cpd00793_e0 at 0x2512e69ae80>, <Reaction EX_cpd00023_e0 at 0x25170757d30>: <ModelCompound cpd00023_e0 at 0x2512e5a0730>, <Reaction EX_cpd00412_e0 at 0x25170757dc0>: <ModelCompound cpd00412_e0 at 0x24f82628ac0>, <Reaction EX_cpd00395_e0 at 0x25170757e50>: <ModelCompound cpd00395_e0 at 0x2512e64f5e0>, <Reaction EX_cpd00367_e0 at 0x25170757ee0>: <ModelCompound cpd00367_e0 at 0x2512e5a0970>, <Reaction EX_cpd00017_e0 at 0x25170757f70>: <ModelCompound cpd00017_e0 at 0x2512e69aa60>, <Reaction EX_cpd00386_e0 at 0x25170757040>: <ModelCompound cpd00386_e0 at 0x2512e64f580>, <Reaction EX_cpd00013_e0 at 0x25170bc80d0>: <ModelCompound cpd00013_e0 at 0x2512e5ba970>, <Reaction EX_cpd00164_e0 at 0x25170bc8160>: <ModelCompound cpd00164_e0 at 0x2512e604b50>, <Reaction EX_cpd00136_e0 at 0x25170bc81f0>: <ModelCompound cpd00136_e0 at 0x24e83ff4d90>, <Reaction EX_cpd00053_e0 at 0x25170bc8280>: <ModelCompound cpd00053_e0 at 0x2512e69aa00>, <Reaction EX_cpd08023_e0 at 0x25170bc8310>: <ModelCompound cpd08023_e0 at 0x2512e669b80>, <Reaction EX_cpd00276_e0 at 0x25170bc83a0>: <ModelCompound cpd00276_e0 at 0x2512e5a02e0>, <Reaction EX_cpd00137_e0 at 0x25170bc8430>: <ModelCompound cpd00137_e0 at 0x2512e5d3cd0>, <Reaction EX_cpd00069_e0 at 0x25170bc84c0>: <ModelCompound cpd00069_e0 at 0x2512e69a700>, <Reaction EX_cpd00249_e0 at 0x25170bc8550>: <ModelCompound cpd00249_e0 at 0x2512e5eb340>, <Reaction EX_cpd00001_e0 at 0x25170bc85e0>: <ModelCompound cpd00001_e0 at 0x2512e5a06a0>, <Reaction EX_cpd00277_e0 at 0x25170bc8670>: <ModelCompound cpd00277_e0 at 0x2512e604a90>, <Reaction EX_cpd00971_e0 at 0x25170bc8700>: <ModelCompound cpd00971_e0 at 0x2512e5a0760>, <Reaction EX_cpd00067_e0 at 0x25170bc8790>: <ModelCompound cpd00067_e0 at 0x250e1d5bd90>, <Reaction EX_cpd00797_e0 at 0x25170bc8820>: <ModelCompound cpd00797_e0 at 0x2512e5ba820>, <Reaction EX_cpd00051_e0 at 0x25170bc88b0>: <ModelCompound cpd00051_e0 at 0x2512e69a790>, <Reaction EX_cpd00116_e0 at 0x25170bc8940>: <ModelCompound cpd00116_e0 at 0x2512e669f70>, <Reaction EX_cpd00036_e0 at 0x25170bc89d0>: <ModelCompound cpd00036_e0 at 0x24e83ff4e20>, <Reaction EX_cpd00731_e0 at 0x25170bc8a60>: <ModelCompound cpd00731_e0 at 0x2512e69a220>, <Reaction EX_cpd00039_e0 at 0x25170bc8af0>: <ModelCompound cpd00039_e0 at 0x2512e6815b0>, <Reaction EX_cpd01017_e0 at 0x25170bc8b80>: <ModelCompound cpd01017_e0 at 0x2512e5ba700>, <Reaction EX_cpd00063_e0 at 0x25170bc8c10>: <ModelCompound cpd00063_e0 at 0x2512e69ad90>, <Reaction EX_cpd00393_e0 at 0x25170bc8ca0>: <ModelCompound cpd00393_e0 at 0x2512e69a9d0>, <Reaction EX_cpd00104_e0 at 0x25170bc8d30>: <ModelCompound cpd00104_e0 at 0x2512e69a7f0>, <Reaction EX_cpd03279_e0 at 0x25170bc8dc0>: <ModelCompound cpd03279_e0 at 0x2512e61e100>, <Reaction EX_cpd00122_e0 at 0x25170bc8e50>: <ModelCompound cpd00122_e0 at 0x2512e6046d0>, <Reaction EX_cpd00106_e0 at 0x25170bc8ee0>: <ModelCompound cpd00106_e0 at 0x250e1d5bf40>, <Reaction EX_cpd00205_e0 at 0x25170bc8f70>: <ModelCompound cpd00205_e0 at 0x2512e5bae50>, <Reaction EX_cpd00034_e0 at 0x25170bc8040>: <ModelCompound cpd00034_e0 at 0x2512e636c10>, <Reaction EX_cpd00041_e0 at 0x25170bd20d0>: <ModelCompound cpd00041_e0 at 0x2512e6043a0>, <Reaction EX_cpd11596_e0 at 0x25170bd2160>: <ModelCompound cpd11596_e0 at 0x2512e636850>, <Reaction EX_cpd00099_e0 at 0x25170bd21f0>: <ModelCompound cpd00099_e0 at 0x2512e64f070>, <Reaction EX_cpd00322_e0 at 0x25170bd2280>: <ModelCompound cpd00322_e0 at 0x2512e69a8b0>, <Reaction EX_cpd00076_e0 at 0x25170bd2310>: <ModelCompound cpd00076_e0 at 0x2512e5eb520>, <Reaction EX_cpd11579_e0 at 0x25170bd23a0>: <ModelCompound cpd11579_e0 at 0x2512e5eb8b0>, <Reaction EX_cpd00264_e0 at 0x25170bd2430>: <ModelCompound cpd00264_e0 at 0x2512e69a6d0>, <Reaction EX_cpd00107_e0 at 0x25170bd24c0>: <ModelCompound cpd00107_e0 at 0x2512e69a760>, <Reaction EX_cpd00588_e0 at 0x25170bd2550>: <ModelCompound cpd00588_e0 at 0x2512e61e250>, <Reaction EX_cpd00048_e0 at 0x25170bd25e0>: <ModelCompound cpd00048_e0 at 0x2512e64feb0>, <Reaction EX_cpd03696_e0 at 0x25170bd2670>: <ModelCompound cpd03696_e0 at 0x2512e6049a0>, <Reaction EX_cpd00066_e0 at 0x25170bd2700>: <ModelCompound cpd00066_e0 at 0x2512e69a580>, <Reaction EX_cpd00220_e0 at 0x25170bd2790>: <ModelCompound cpd00220_e0 at 0x2512e69a820>, <Reaction EX_cpd00027_e0 at 0x25170bd2820>: <ModelCompound cpd00027_e0 at 0x2512e5eb400>, <Reaction EX_cpd00030_e0 at 0x25170bd28b0>: <ModelCompound cpd00030_e0 at 0x2512e636f40>, <Reaction EX_cpd00540_e0 at 0x25170bd2940>: <ModelCompound cpd00540_e0 at 0x2512e636e50>, <Reaction EX_cpd00244_e0 at 0x25170bd29d0>: <ModelCompound cpd00244_e0 at 0x2512e5babb0>, <Reaction EX_cpd00635_e0 at 0x25170bd2a60>: <ModelCompound cpd00635_e0 at 0x2512e5889d0>, <Reaction EX_cpd00794_e0 at 0x25170bd2af0>: <ModelCompound cpd00794_e0 at 0x2512e64fc70>, <Reaction EX_cpd00218_e0 at 0x25170bd2b80>: <ModelCompound cpd00218_e0 at 0x2512e69a970>, <Reaction EX_cpd00214_e0 at 0x25170bd2c10>: <ModelCompound cpd00214_e0 at 0x2512e5eb370>, <Reaction EX_cpd10515_e0 at 0x25170bd2ca0>: <ModelCompound cpd10515_e0 at 0x2512e61efd0>, <Reaction EX_cpd00007_e0 at 0x25170bd2d30>: <ModelCompound cpd00007_e0 at 0x2512e669790>, <Reaction EX_cpd03724_e0 at 0x25170bd2dc0>: <ModelCompound cpd03724_e0 at 0x2512e604190>, <Reaction EX_cpd03726_e0 at 0x25170bd2e50>: <ModelCompound cpd03726_e0 at 0x2512e69a400>, <Reaction EX_cpd00075_e0 at 0x25170bd2ee0>: <ModelCompound cpd00075_e0 at 0x250e1d5b6d0>, <Reaction EX_cpd00166_e0 at 0x25170bd2f70>: <ModelCompound cpd00166_e0 at 0x2512e69a1f0>, <Reaction EX_cpd00108_e0 at 0x25170bd2040>: <ModelCompound cpd00108_e0 at 0x2512e61e580>, <Reaction EX_cpd00119_e0 at 0x25170bde0d0>: <ModelCompound cpd00119_e0 at 0x2512e69aa30>, <Reaction EX_cpd01012_e0 at 0x25170bde160>: <ModelCompound cpd01012_e0 at 0x2512e64f4f0>, <Reaction EX_cpd00644_e0 at 0x25170bde1f0>: <ModelCompound cpd00644_e0 at 0x2512e69a8e0>, <Reaction EX_cpd00009_e0 at 0x25170bde280>: <ModelCompound cpd00009_e0 at 0x2512e5d3640>}\n",
      "\n",
      "Bacillus_sp._bc15.RAST.fbamodel\tOther Excreta {'cpd00246_e0', 'cpd00182_e0', 'cpd00011_e0', 'cpd00138_e0', 'cpd00129_e0', 'cpd00023_e0', 'cpd00412_e0', 'cpd00132_e0', 'cpd00013_e0', 'cpd00161_e0', 'cpd00184_e0', 'cpd00438_e0', 'cpd03279_e0', 'cpd00053_e0', 'cpd00033_e0', 'cpd00122_e0', 'cpd00075_e0', 'cpd00276_e0', 'cpd00137_e0', 'cpd00041_e0', 'cpd00249_e0', 'cpd00001_e0', 'cpd00067_e0', 'cpd00797_e0', 'cpd00084_e0', 'cpd00588_e0', 'cpd00116_e0', 'cpd00060_e0', 'cpd00054_e0', 'cpd00036_e0', 'cpd00039_e0'}\n"
     ]
    },
    {
     "name": "stderr",
     "output_type": "stream",
     "text": [
      "C:\\Users\\Andrew Freiburger\\AppData\\Local\\Programs\\Python\\Python39\\lib\\site-packages\\cobra\\util\\solver.py:554: UserWarning: Solver status is 'infeasible'.\n",
      "  warn(f\"Solver status is '{status}'.\", UserWarning)\n"
     ]
    },
    {
     "name": "stdout",
     "output_type": "stream",
     "text": [
      "\n",
      "Bacillus_sp._bc15.RAST.fbamodel\tExtracellular reactions {<Reaction EX_cpd00082_e0 at 0x251bd682310>: <ModelCompound cpd00082_e0 at 0x25170a38520>, <Reaction EX_cpd10516_e0 at 0x251bd682460>: <ModelCompound cpd10516_e0 at 0x25170ab5a30>, <Reaction EX_cpd00011_e0 at 0x251bd6824f0>: <ModelCompound cpd00011_e0 at 0x25170b323d0>, <Reaction EX_cpd00105_e0 at 0x251bd682580>: <ModelCompound cpd00105_e0 at 0x25170b00970>, <Reaction EX_cpd00156_e0 at 0x251bd682610>: <ModelCompound cpd00156_e0 at 0x25170b19b80>, <Reaction EX_cpd00138_e0 at 0x251bd6826a0>: <ModelCompound cpd00138_e0 at 0x25170ace550>, <Reaction EX_cpd00035_e0 at 0x251bd682730>: <ModelCompound cpd00035_e0 at 0x25170a9cd30>, <Reaction EX_cpd00130_e0 at 0x251bd6827c0>: <ModelCompound cpd00130_e0 at 0x25170b32190>, <Reaction EX_cpd00028_e0 at 0x251bd682850>: <ModelCompound cpd00028_e0 at 0x25170b4b2e0>, <Reaction EX_cpd00254_e0 at 0x251bd6828e0>: <ModelCompound cpd00254_e0 at 0x25170ace400>, <Reaction EX_cpd00179_e0 at 0x251bd682970>: <ModelCompound cpd00179_e0 at 0x25170a51e50>, <Reaction EX_cpd00654_e0 at 0x251bd682a00>: <ModelCompound cpd00654_e0 at 0x25170a83610>, <Reaction EX_cpd01757_e0 at 0x251bd682a90>: <ModelCompound cpd01757_e0 at 0x25170b32eb0>, <Reaction EX_cpd00132_e0 at 0x251bd682b20>: <ModelCompound cpd00132_e0 at 0x25170b4b1c0>, <Reaction EX_cpd00149_e0 at 0x251bd682bb0>: <ModelCompound cpd00149_e0 at 0x25170ae79a0>, <Reaction EX_cpd00184_e0 at 0x251bd682c40>: <ModelCompound cpd00184_e0 at 0x25170a511c0>, <Reaction EX_cpd00065_e0 at 0x251bd682cd0>: <ModelCompound cpd00065_e0 at 0x25170b4b3a0>, <Reaction EX_cpd00438_e0 at 0x251bd682d60>: <ModelCompound cpd00438_e0 at 0x25170a6aee0>, <Reaction EX_cpd00033_e0 at 0x251bd682df0>: <ModelCompound cpd00033_e0 at 0x25170b4b190>, <Reaction EX_cpd00637_e0 at 0x251bd682e80>: <ModelCompound cpd00637_e0 at 0x25170a9c880>, <Reaction EX_cpd00209_e0 at 0x251bd682f10>: <ModelCompound cpd00209_e0 at 0x25170b006d0>, <Reaction EX_cpd00024_e0 at 0x251bd682fa0>: <ModelCompound cpd00024_e0 at 0x25170ae7d00>, <Reaction EX_cpd01030_e0 at 0x251bd682400>: <ModelCompound cpd01030_e0 at 0x25170d57f70>, <Reaction EX_cpd00012_e0 at 0x251bd690100>: <ModelCompound cpd00012_e0 at 0x25170d57b20>, <Reaction EX_cpd11578_e0 at 0x251bd690190>: <ModelCompound cpd11578_e0 at 0x25170a51a90>, <Reaction EX_cpd11576_e0 at 0x251bd690220>: <ModelCompound cpd11576_e0 at 0x250e199afa0>, <Reaction EX_cpd01914_e0 at 0x251bd6902b0>: <ModelCompound cpd01914_e0 at 0x25170ae7a00>, <Reaction EX_cpd00084_e0 at 0x251bd690340>: <ModelCompound cpd00084_e0 at 0x25170b4b1f0>, <Reaction EX_cpd00118_e0 at 0x251bd6903d0>: <ModelCompound cpd00118_e0 at 0x25170ab5190>, <Reaction EX_cpd00060_e0 at 0x251bd690460>: <ModelCompound cpd00060_e0 at 0x25170a6ab80>, <Reaction EX_cpd00054_e0 at 0x251bd6904f0>: <ModelCompound cpd00054_e0 at 0x25170a9c310>, <Reaction EX_cpd00161_e0 at 0x251bd690580>: <ModelCompound cpd00161_e0 at 0x25170b4b280>, <Reaction EX_cpd00314_e0 at 0x251bd690610>: <ModelCompound cpd00314_e0 at 0x25170a51310>, <Reaction EX_cpd08305_e0 at 0x251bd6906a0>: <ModelCompound cpd08305_e0 at 0x25170b00a90>, <Reaction EX_cpd00246_e0 at 0x251bd690730>: <ModelCompound cpd00246_e0 at 0x25170d6ff40>, <Reaction EX_cpd15603_e0 at 0x251bd6907c0>: <ModelCompound cpd15603_e0 at 0x25170a9cdf0>, <Reaction EX_cpd01171_e0 at 0x251bd690850>: <ModelCompound cpd01171_e0 at 0x25170a83d90>, <Reaction EX_cpd00182_e0 at 0x251bd6908e0>: <ModelCompound cpd00182_e0 at 0x250e1932a90>, <Reaction EX_cpd03048_e0 at 0x251bd690970>: <ModelCompound cpd03048_e0 at 0x25170ae70a0>, <Reaction EX_cpd00047_e0 at 0x251bd690a00>: <ModelCompound cpd00047_e0 at 0x25170ae7610>, <Reaction EX_cpd00305_e0 at 0x251bd690a90>: <ModelCompound cpd00305_e0 at 0x25170b4b400>, <Reaction EX_cpd00215_e0 at 0x251bd690b20>: <ModelCompound cpd00215_e0 at 0x25170b4b220>, <Reaction EX_cpd00129_e0 at 0x251bd690bb0>: <ModelCompound cpd00129_e0 at 0x25170d6f310>, <Reaction EX_cpd00058_e0 at 0x251bd690c40>: <ModelCompound cpd00058_e0 at 0x25170a38bb0>, <Reaction EX_cpd09878_e0 at 0x251bd690cd0>: <ModelCompound cpd09878_e0 at 0x25170b00af0>, <Reaction EX_cpd03453_e0 at 0x251bd690d60>: <ModelCompound cpd03453_e0 at 0x25170b4b040>, <Reaction EX_cpd00793_e0 at 0x251bd690df0>: <ModelCompound cpd00793_e0 at 0x25170b4ba60>, <Reaction EX_cpd02233_e0 at 0x251bd690e80>: <ModelCompound cpd02233_e0 at 0x25170b32e80>, <Reaction EX_cpd00023_e0 at 0x251bd690f10>: <ModelCompound cpd00023_e0 at 0x25170a38790>, <Reaction EX_cpd00412_e0 at 0x251bd690fa0>: <ModelCompound cpd00412_e0 at 0x25170d57a00>, <Reaction EX_cpd00367_e0 at 0x251bd690070>: <ModelCompound cpd00367_e0 at 0x25170a38910>, <Reaction EX_cpd00017_e0 at 0x251bd69a100>: <ModelCompound cpd00017_e0 at 0x25170b4b310>, <Reaction EX_cpd00355_e0 at 0x251bd69a190>: <ModelCompound cpd00355_e0 at 0x25170a51f10>, <Reaction EX_cpd00158_e0 at 0x251bd69a220>: <ModelCompound cpd00158_e0 at 0x25170b321c0>, <Reaction EX_cpd00381_e0 at 0x251bd69a2b0>: <ModelCompound cpd00381_e0 at 0x25170b32e20>, <Reaction EX_cpd00013_e0 at 0x251bd69a340>: <ModelCompound cpd00013_e0 at 0x25170a51790>, <Reaction EX_cpd00053_e0 at 0x251bd69a3d0>: <ModelCompound cpd00053_e0 at 0x25170ace160>, <Reaction EX_cpd00211_e0 at 0x251bd69a460>: <ModelCompound cpd00211_e0 at 0x25170aced60>, <Reaction EX_cpd08023_e0 at 0x251bd69a4f0>: <ModelCompound cpd08023_e0 at 0x25170b19910>, <Reaction EX_cpd00276_e0 at 0x251bd69a580>: <ModelCompound cpd00276_e0 at 0x25170a38340>, <Reaction EX_cpd00531_e0 at 0x251bd69a610>: <ModelCompound cpd00531_e0 at 0x25170ae7d60>, <Reaction EX_cpd00092_e0 at 0x251bd69a6a0>: <ModelCompound cpd00092_e0 at 0x25170b199a0>, <Reaction EX_cpd00137_e0 at 0x251bd69a730>: <ModelCompound cpd00137_e0 at 0x25170a6ae80>, <Reaction EX_cpd00069_e0 at 0x251bd69a7c0>: <ModelCompound cpd00069_e0 at 0x25170b4b2b0>, <Reaction EX_cpd00281_e0 at 0x251bd69a850>: <ModelCompound cpd00281_e0 at 0x25170a6a970>, <Reaction EX_cpd00249_e0 at 0x251bd69a8e0>: <ModelCompound cpd00249_e0 at 0x25170a834c0>, <Reaction EX_cpd00001_e0 at 0x251bd69a970>: <ModelCompound cpd00001_e0 at 0x25170a38700>, <Reaction EX_cpd00277_e0 at 0x251bd69aa00>: <ModelCompound cpd00277_e0 at 0x25170ab5100>, <Reaction EX_cpd00159_e0 at 0x251bd69aa90>: <ModelCompound cpd00159_e0 at 0x25170aced90>, <Reaction EX_cpd00971_e0 at 0x251bd69ab20>: <ModelCompound cpd00971_e0 at 0x25170d6f340>, <Reaction EX_cpd00067_e0 at 0x251bd69abb0>: <ModelCompound cpd00067_e0 at 0x250e1932a60>, <Reaction EX_cpd00797_e0 at 0x251bd69ac40>: <ModelCompound cpd00797_e0 at 0x25170a51640>, <Reaction EX_cpd01262_e0 at 0x251bd69acd0>: <ModelCompound cpd01262_e0 at 0x25170ab5910>, <Reaction EX_cpd00051_e0 at 0x251bd69ad60>: <ModelCompound cpd00051_e0 at 0x25170a519a0>, <Reaction EX_cpd00116_e0 at 0x251bd69adf0>: <ModelCompound cpd00116_e0 at 0x25170b19ca0>, <Reaction EX_cpd00039_e0 at 0x251bd69ae80>: <ModelCompound cpd00039_e0 at 0x25170ae72e0>, <Reaction EX_cpd08306_e0 at 0x251bd69af10>: <ModelCompound cpd08306_e0 at 0x25170a9cd90>, <Reaction EX_cpd00063_e0 at 0x251bd69afa0>: <ModelCompound cpd00063_e0 at 0x25170a38a60>, <Reaction EX_cpd00393_e0 at 0x251bd69a070>: <ModelCompound cpd00393_e0 at 0x25170b4b370>, <Reaction EX_cpd11597_e0 at 0x251bd6a4100>: <ModelCompound cpd11597_e0 at 0x25170d57700>, <Reaction EX_cpd00226_e0 at 0x251bd6a4190>: <ModelCompound cpd00226_e0 at 0x25170b00a30>, <Reaction EX_cpd01329_e0 at 0x251bd6a4220>: <ModelCompound cpd01329_e0 at 0x25170b19100>, <Reaction EX_cpd00104_e0 at 0x251bd6a42b0>: <ModelCompound cpd00104_e0 at 0x25170b193a0>, <Reaction EX_cpd00142_e0 at 0x251bd6a4340>: <ModelCompound cpd00142_e0 at 0x25170acec40>, <Reaction EX_cpd00080_e0 at 0x251bd6a43d0>: <ModelCompound cpd00080_e0 at 0x25170a385e0>, <Reaction EX_cpd03279_e0 at 0x251bd6a4460>: <ModelCompound cpd03279_e0 at 0x25170ab5730>, <Reaction EX_cpd00122_e0 at 0x251bd6a44f0>: <ModelCompound cpd00122_e0 at 0x25170a9ccd0>, <Reaction EX_cpd00205_e0 at 0x251bd6a4580>: <ModelCompound cpd00205_e0 at 0x25170ace4f0>, <Reaction EX_cpd00034_e0 at 0x251bd6a4610>: <ModelCompound cpd00034_e0 at 0x25170a83160>, <Reaction EX_cpd00041_e0 at 0x251bd6a46a0>: <ModelCompound cpd00041_e0 at 0x25170a9ca90>, <Reaction EX_cpd11596_e0 at 0x251bd6a4730>: <ModelCompound cpd11596_e0 at 0x25170ae7130>, <Reaction EX_cpd00099_e0 at 0x251bd6a47c0>: <ModelCompound cpd00099_e0 at 0x25170ae7a60>, <Reaction EX_cpd00266_e0 at 0x251bd6a4850>: <ModelCompound cpd00266_e0 at 0x25170a9c460>, <Reaction EX_cpd00322_e0 at 0x251bd6a48e0>: <ModelCompound cpd00322_e0 at 0x25170b192b0>, <Reaction EX_cpd00076_e0 at 0x251bd6a4970>: <ModelCompound cpd00076_e0 at 0x25170a83700>, <Reaction EX_cpd00309_e0 at 0x251bd6a4a00>: <ModelCompound cpd00309_e0 at 0x25170ab5220>, <Reaction EX_cpd11579_e0 at 0x251bd6a4a90>: <ModelCompound cpd11579_e0 at 0x25170a83cd0>, <Reaction EX_cpd00064_e0 at 0x251bd6a4b20>: <ModelCompound cpd00064_e0 at 0x25170a519d0>, <Reaction EX_cpd00264_e0 at 0x251bd6a4bb0>: <ModelCompound cpd00264_e0 at 0x25170a9c100>, <Reaction EX_cpd00107_e0 at 0x251bd6a4c40>: <ModelCompound cpd00107_e0 at 0x25170a51160>, <Reaction EX_cpd00588_e0 at 0x251bd6a4cd0>: <ModelCompound cpd00588_e0 at 0x25170ab5a90>, <Reaction EX_cpd00180_e0 at 0x251bd6a4d60>: <ModelCompound cpd00180_e0 at 0x25170b32fa0>, <Reaction EX_cpd04099_e0 at 0x251bd6a4df0>: <ModelCompound cpd04099_e0 at 0x25170ae78b0>, <Reaction EX_cpd00048_e0 at 0x251bd6a4e80>: <ModelCompound cpd00048_e0 at 0x25170ae7790>, <Reaction EX_cpd03696_e0 at 0x251bd6a4f10>: <ModelCompound cpd03696_e0 at 0x25170a9cfa0>, <Reaction EX_cpd00066_e0 at 0x251bd6a4fa0>: <ModelCompound cpd00066_e0 at 0x25170b4b250>, <Reaction EX_cpd00220_e0 at 0x251bd6a4070>: <ModelCompound cpd00220_e0 at 0x25170ab5430>, <Reaction EX_cpd00027_e0 at 0x251bd1a1100>: <ModelCompound cpd00027_e0 at 0x25170a835b0>, <Reaction EX_cpd00030_e0 at 0x251bd1a1190>: <ModelCompound cpd00030_e0 at 0x25170ae7910>, <Reaction EX_cpd00540_e0 at 0x251bd1a1220>: <ModelCompound cpd00540_e0 at 0x25170ae7310>, <Reaction EX_cpd00244_e0 at 0x251bd1a12b0>: <ModelCompound cpd00244_e0 at 0x25170a51a00>, <Reaction EX_cpd00268_e0 at 0x251bd1a1340>: <ModelCompound cpd00268_e0 at 0x25170b19040>, <Reaction EX_cpd00635_e0 at 0x251bd1a13d0>: <ModelCompound cpd00635_e0 at 0x25170b4b430>, <Reaction EX_cpd00794_e0 at 0x251bd1a1460>: <ModelCompound cpd00794_e0 at 0x25170b008b0>, <Reaction EX_cpd00218_e0 at 0x251bd1a14f0>: <ModelCompound cpd00218_e0 at 0x25170b4b3d0>, <Reaction EX_cpd00100_e0 at 0x251bd1a1580>: <ModelCompound cpd00100_e0 at 0x25170a6a2e0>, <Reaction EX_cpd10515_e0 at 0x251bd1a1610>: <ModelCompound cpd10515_e0 at 0x25170ace8e0>, <Reaction EX_cpd00007_e0 at 0x251bd1a16a0>: <ModelCompound cpd00007_e0 at 0x25170b195b0>, <Reaction EX_cpd00098_e0 at 0x251bd1a1730>: <ModelCompound cpd00098_e0 at 0x25170b196d0>, <Reaction EX_cpd00073_e0 at 0x251bd1a17c0>: <ModelCompound cpd00073_e0 at 0x250e199a400>, <Reaction EX_cpd03724_e0 at 0x251bd1a1850>: <ModelCompound cpd03724_e0 at 0x25170a9c760>, <Reaction EX_cpd03725_e0 at 0x251bd1a18e0>: <ModelCompound cpd03725_e0 at 0x25170b005b0>, <Reaction EX_cpd03726_e0 at 0x251bd1a1970>: <ModelCompound cpd03726_e0 at 0x25170b4b070>, <Reaction EX_cpd00075_e0 at 0x251bd1a1a00>: <ModelCompound cpd00075_e0 at 0x250e199a1c0>, <Reaction EX_cpd00119_e0 at 0x251bd1a1a90>: <ModelCompound cpd00119_e0 at 0x25170b4b340>, <Reaction EX_cpd04097_e0 at 0x251bd1a1b20>: <ModelCompound cpd04097_e0 at 0x25170d570a0>, <Reaction EX_cpd00117_e0 at 0x251bd1a1bb0>: <ModelCompound cpd00117_e0 at 0x25170ab5be0>, <Reaction EX_cpd01012_e0 at 0x251bd1a1c40>: <ModelCompound cpd01012_e0 at 0x25170d6f760>, <Reaction EX_cpd00644_e0 at 0x251bd1a1cd0>: <ModelCompound cpd00644_e0 at 0x25170a9c3d0>, <Reaction EX_cpd00009_e0 at 0x251bd1a1d60>: <ModelCompound cpd00009_e0 at 0x25170a6a700>, <Reaction EX_cpd00222_e0 at 0x251bd1a1df0>: <ModelCompound cpd00222_e0 at 0x25170a516d0>}\n",
      "\n",
      "MU score:\t\t\tThe fraction of solutions in which each member is the syntrophic receiver that contain a respective metabolite:\n",
      "\n",
      "{'Bacillus_sp._bc15.RAST.fbamodel': {},\n",
      " 'Sphingobium_AP49_pacbio_v2.RAST.fbamodel': {}}\n"
     ]
    },
    {
     "name": "stderr",
     "output_type": "stream",
     "text": [
      "C:\\Users\\Andrew Freiburger\\AppData\\Local\\Programs\\Python\\Python39\\lib\\site-packages\\cobra\\util\\solver.py:554: UserWarning: Solver status is 'infeasible'.\n",
      "  warn(f\"Solver status is '{status}'.\", UserWarning)\n"
     ]
    },
    {
     "data": {
      "text/plain": [
       "{'Sphingobium_AP49_pacbio_v2.RAST.fbamodel': {},\n",
       " 'Bacillus_sp._bc15.RAST.fbamodel': {}}"
      ]
     },
     "execution_count": 7,
     "metadata": {},
     "output_type": "execute_result"
    }
   ],
   "source": [
    "%run ../../../modelseedpy/community/mssmetana.py\n",
    "comm.mp = {'Sphingobium_AP49_pacbio_v2.RAST.fbamodel': {'cpd00797_e0', 'cpd00036_e0', 'cpd00116_e0', 'cpd03279_e0', 'cpd00053_e0', 'cpd00013_e0', 'cpd00412_e0', 'cpd00023_e0', 'cpd00276_e0', 'cpd00182_e0', 'cpd00438_e0', 'cpd00122_e0', 'cpd00184_e0', \n",
    "                                                        'cpd00246_e0', 'cpd00084_e0', 'cpd00249_e0', 'cpd00033_e0', 'cpd00060_e0', 'cpd00075_e0', 'cpd00039_e0', 'cpd00067_e0', 'cpd00011_e0', 'cpd00137_e0', 'cpd00588_e0', 'cpd00054_e0', 'cpd00001_e0', \n",
    "                                                        'cpd00041_e0', 'cpd00129_e0', 'cpd00161_e0', 'cpd00138_e0', 'cpd00132_e0'}, \n",
    "           'Bacillus_sp._bc15.RAST.fbamodel': {'cpd00064_e0', 'cpd00797_e0', 'cpd03279_e0', 'cpd00130_e0', 'cpd00116_e0', 'cpd00053_e0', 'cpd00013_e0', 'cpd00012_e0', 'cpd00412_e0', 'cpd00023_e0', 'cpd00276_e0', 'cpd00142_e0', 'cpd00309_e0', 'cpd00182_e0', \n",
    "                                               'cpd00438_e0', 'cpd00092_e0', 'cpd00122_e0', 'cpd00184_e0', 'cpd00246_e0', 'cpd00159_e0', 'cpd00084_e0', 'cpd00082_e0', 'cpd00249_e0', 'cpd00033_e0', 'cpd00060_e0', 'cpd00075_e0', 'cpd00039_e0', 'cpd00226_e0', \n",
    "                                               'cpd00047_e0', 'cpd00067_e0', 'cpd00080_e0', 'cpd00011_e0', 'cpd00137_e0', 'cpd00100_e0', 'cpd00073_e0', 'cpd00180_e0', 'cpd00117_e0', 'cpd00054_e0', 'cpd00001_e0', 'cpd00009_e0', 'cpd00041_e0', 'cpd00129_e0', \n",
    "                                               'cpd00161_e0', 'cpd00138_e0', 'cpd00218_e0', 'cpd00132_e0'}}\n",
    "comm.mu_score()"
   ]
  },
  {
   "cell_type": "code",
   "execution_count": 10,
   "id": "e895f00d-9595-420d-a43e-ddb7d27ff446",
   "metadata": {},
   "outputs": [
    {
     "name": "stdout",
     "output_type": "stream",
     "text": [
      "\n",
      "The Sphingobium_AP49_pacbio_v2.RAST.fbamodel on Bacillus_sp._bc15.RAST.fbamodel) MRO score: 0.8095238095238095 (80.95%). This is the percent of nutritional requirements in Sphingobium_AP49_pacbio_v2.RAST.fbamodel that overlap with Bacillus_sp._bc15.RAST.fbamodel) (17/21).\n",
      "\n",
      "The Bacillus_sp._bc15.RAST.fbamodel on Sphingobium_AP49_pacbio_v2.RAST.fbamodel) MRO score: 0.85 (85.00%). This is the percent of nutritional requirements in Bacillus_sp._bc15.RAST.fbamodel that overlap with Sphingobium_AP49_pacbio_v2.RAST.fbamodel) (17/20).\n",
      "CPU times: total: 0 ns\n",
      "Wall time: 1 ms\n"
     ]
    },
    {
     "data": {
      "text/plain": [
       "{'Sphingobium_AP49_pacbio_v2.RAST.fbamodel---Bacillus_sp._bc15.RAST.fbamodel)': (0.8095238095238095,\n",
       "  17,\n",
       "  21),\n",
       " 'Bacillus_sp._bc15.RAST.fbamodel---Sphingobium_AP49_pacbio_v2.RAST.fbamodel)': (0.85,\n",
       "  17,\n",
       "  20)}"
      ]
     },
     "execution_count": 10,
     "metadata": {},
     "output_type": "execute_result"
    }
   ],
   "source": [
    "%time comm.mro_score()"
   ]
  },
  {
   "cell_type": "code",
   "execution_count": 11,
   "id": "6181fa52-d67b-4604-9a7a-d9326268f64d",
   "metadata": {},
   "outputs": [
    {
     "name": "stderr",
     "output_type": "stream",
     "text": [
      "ic| mssmetana.py:30 in _load_models()\n",
      "    member_models: [<FBAModel Sphingobium_AP49_pacbio_v2.RAST.fbamodel at 0x24e83476370>,\n",
      "                    <FBAModel Bacillus_sp._bc15.RAST.fbamodel at 0x24f35e3fa60>]\n",
      "    com_model: <FBAModel AP49-BC15 at 0x24e81b8af10>\n",
      "    compatibilize: False\n",
      "ic| mssmetana.py:42 in _get_media()\n",
      "    media: None\n",
      "    com_model: <FBAModel AP49-BC15 at 0x24e81b8af10>\n",
      "    model_s_: None\n",
      "C:\\Users\\Andrew Freiburger\\AppData\\Local\\Programs\\Python\\Python39\\lib\\site-packages\\cobra\\medium\\minimal_medium.py:112: FutureWarning: The default dtype for empty Series will be 'object' instead of 'float64' in a future version. Specify a dtype explicitly to silence this warning.\n",
      "  medium = pd.Series()\n",
      "ic| mssmetana.py:42 in _get_media()\n",
      "    media: None\n",
      "    com_model: <FBAModel AP49-BC15 at 0x24e81b8af10>\n",
      "    model_s_: None\n"
     ]
    },
    {
     "name": "stdout",
     "output_type": "stream",
     "text": [
      "\n",
      "MIP score: 0\t\t\t0 required compound(s) can be sourced via syntrophy:\n",
      "CPU times: total: 11.6 s\n",
      "Wall time: 11.5 s\n"
     ]
    },
    {
     "name": "stderr",
     "output_type": "stream",
     "text": [
      "C:\\Users\\Andrew Freiburger\\AppData\\Local\\Programs\\Python\\Python39\\lib\\site-packages\\cobra\\medium\\minimal_medium.py:112: FutureWarning: The default dtype for empty Series will be 'object' instead of 'float64' in a future version. Specify a dtype explicitly to silence this warning.\n",
      "  medium = pd.Series()\n"
     ]
    },
    {
     "data": {
      "text/plain": [
       "0"
      ]
     },
     "execution_count": 11,
     "metadata": {},
     "output_type": "execute_result"
    }
   ],
   "source": [
    "%time comm.mip_score()"
   ]
  },
  {
   "cell_type": "code",
   "execution_count": null,
   "id": "e65947a8-5daf-4c5e-a324-12e737ede57b",
   "metadata": {},
   "outputs": [],
   "source": [
    "# %run ../../../modelseedpy/community/mssmetana.py\n",
    "# comm = MSSmetana([AP49, BC15], AP49_BC15_model)\n",
    "%time comm.sc_score()"
   ]
  },
  {
   "cell_type": "code",
   "execution_count": null,
   "id": "50c765dd-fd77-41ed-ab78-7e8d76661577",
   "metadata": {},
   "outputs": [],
   "source": [
    "from modelseedpy.core.exceptions import ModelError\n",
    "def test_pair(member1, member2, community):\n",
    "    try:\n",
    "        start_time = process_time()\n",
    "        comm = MSSmetana([member1, member2], community)\n",
    "        comm.all_scores()\n",
    "        end_time = process_time()\n",
    "\n",
    "        print(f\"The {member1.id}_{member2.id} pair has been examined after {(end_time-start_time)/60} minutes.\")\n",
    "    except (ObjectiveError, ModelError, NameError) as e:\n",
    "        print(f\"\\n\\nERROR:{e}\")"
   ]
  },
  {
   "cell_type": "markdown",
   "id": "e6fe1266-fc52-4456-8ba7-4a11946f7d93",
   "metadata": {},
   "source": [
    "# test community pairs"
   ]
  },
  {
   "cell_type": "markdown",
   "id": "8360ebf9-06bc-4e89-92ee-e959abf06e5e",
   "metadata": {},
   "source": [
    "# \"+\" interactions"
   ]
  },
  {
   "cell_type": "markdown",
   "id": "8ab7c386-e429-4e48-9b0a-c245398d0298",
   "metadata": {},
   "source": [
    "## YR343 on CF142"
   ]
  },
  {
   "cell_type": "code",
   "execution_count": null,
   "id": "64338cc5-8d9e-4de0-a7e8-f50b6b0697b0",
   "metadata": {
    "tags": []
   },
   "outputs": [],
   "source": [
    "# from cobra.medium import minimal_medium\n",
    "# media = minimal_medium(YR343, minimize_components=True).to_dict()"
   ]
  },
  {
   "cell_type": "code",
   "execution_count": null,
   "id": "e89faf27-d147-489e-b76a-29c12aced5d1",
   "metadata": {
    "tags": []
   },
   "outputs": [],
   "source": [
    "# print(media)\n",
    "# for cpd in media:\n",
    "#     print(cpd)"
   ]
  },
  {
   "cell_type": "code",
   "execution_count": null,
   "id": "0799cf60-f276-49d9-bd4e-c966bc1d4464",
   "metadata": {},
   "outputs": [],
   "source": [
    "%%time\n",
    "\n",
    "# load the pair\n",
    "YR343 = kbase_api.get_from_ws(\"Pantoea_YR343_pacbio_v2.RAST.fbamodel\", 114731)\n",
    "print(YR343.optimize())\n",
    "CF142 = kbase_api.get_from_ws(\"Rhizobium_CF142_pacbio_v2.RAST.fbamodel\", 114731)\n",
    "YR343_CF142_model = kbase_api.get_from_ws(\"YR343-CF142\", 114731)\n",
    "test_pair(YR343, CF142, YR343_CF142_model)"
   ]
  },
  {
   "cell_type": "markdown",
   "id": "faf8cc78-5a42-4de5-94d3-19f9197099f9",
   "metadata": {},
   "source": [
    "## YR343 on CF313"
   ]
  },
  {
   "cell_type": "code",
   "execution_count": null,
   "id": "6134aeb7-da5b-4f63-9db6-905594ed016d",
   "metadata": {
    "tags": []
   },
   "outputs": [],
   "source": [
    "# load the pair\n",
    "CF313 = kbase_api.get_from_ws(\"Variovorax_CF313_pacbio_v2.RAST.fbamodel\",114731)\n",
    "YR343_CF313_model = kbase_api.get_from_ws(\"YR343-CF313\",114731)"
   ]
  },
  {
   "cell_type": "code",
   "execution_count": null,
   "id": "000a750d-e228-4a54-b5b1-8183ccc85cfd",
   "metadata": {},
   "outputs": [],
   "source": [
    "%%time\n",
    "\n",
    "# %run ../../../modelseedpy/core/msminimalmedia.py\n",
    "# %time media = MSMinimalMedia.minimize_components(CF313)\n",
    "# print(len(media), media)\n",
    "test_pair(YR343, CF313, YR343_CF313_model)"
   ]
  },
  {
   "cell_type": "markdown",
   "id": "bec52dc1-3813-4dd2-b44e-b9ad1aab157b",
   "metadata": {},
   "source": [
    "## AP49 on BC15"
   ]
  },
  {
   "cell_type": "code",
   "execution_count": null,
   "id": "1d88e69f-0cc8-4499-bae9-fbe79a0a639d",
   "metadata": {
    "tags": []
   },
   "outputs": [],
   "source": [
    "AP49 = kbase_api.get_from_ws(\"Sphingobium_AP49_pacbio_v2.RAST.fbamodel\", 114731)\n",
    "BC15 = kbase_api.get_from_ws(\"Bacillus_sp._bc15.RAST.fbamodel\", 114731)\n",
    "AP49_BC15_model = kbase_api.get_from_ws(\"AP49-BC15\", 114731)\n",
    "test_pair(AP49, BC15, AP49_BC15_model)"
   ]
  },
  {
   "cell_type": "markdown",
   "id": "0f3bda29-76c0-41f3-889c-e2ed5bc5649b",
   "metadata": {},
   "source": [
    "## CF142 on BC15"
   ]
  },
  {
   "cell_type": "code",
   "execution_count": null,
   "id": "6dfbe8da-b8b8-404d-9669-48684ce56d6a",
   "metadata": {},
   "outputs": [],
   "source": [
    "CF142_BC15_model = kbase_api.get_from_ws(\"CF142-BC15\", 114731)\n",
    "test_pair(CF142, BC15, CF142_BC15_model)"
   ]
  },
  {
   "cell_type": "markdown",
   "id": "fa76d8df-8a9d-489f-95be-23a69c726e28",
   "metadata": {},
   "source": [
    "## CF402 on CF313"
   ]
  },
  {
   "cell_type": "code",
   "execution_count": null,
   "id": "cd6716bb-17d2-43cf-883c-a98346c6a97d",
   "metadata": {
    "tags": []
   },
   "outputs": [],
   "source": [
    "CF402 = kbase_api.get_from_ws(\"Duagnella_sp_CF402.RAST.fbamodel\", 114731)\n",
    "CF313 = kbase_api.get_from_ws(\"Variovorax_CF313_pacbio_v2.RAST.fbamodel\",114731)\n",
    "CF402_CF313_model = kbase_api.get_from_ws(\"CF402-CF313\", 114731)\n",
    "test_pair(CF402, CF313, CF402_CF313_model)"
   ]
  },
  {
   "cell_type": "markdown",
   "id": "0fa7156a-425e-4a79-9332-7836ee1fe0c4",
   "metadata": {},
   "source": [
    "## CF402 on BC15"
   ]
  },
  {
   "cell_type": "code",
   "execution_count": null,
   "id": "c0295b09-5487-41b2-a0e5-8a8183121c58",
   "metadata": {
    "tags": []
   },
   "outputs": [],
   "source": [
    "CF402 = kbase_api.get_from_ws(\"Duagnella_sp_CF402.RAST.fbamodel\", 114731)\n",
    "BC15 = kbase_api.get_from_ws(\"Bacillus_sp._bc15.RAST.fbamodel\", 114731)\n",
    "CF402_BC15_model = kbase_api.get_from_ws(\"CF402-BC15\", 114731)\n",
    "test_pair(CF402, BC15, CF402_BC15_model)"
   ]
  },
  {
   "cell_type": "code",
   "execution_count": null,
   "id": "5021d15b-a50d-40bd-8495-5a9b895e602e",
   "metadata": {
    "tags": []
   },
   "outputs": [],
   "source": [
    "from cobra.medium import minimal_medium\n",
    "display(sorted(list(minimal_medium(CF402, minimize_components=True).keys())))\n",
    "display(sorted(list(minimal_medium(BC15, minimize_components=True).keys())))\n",
    "display(set(list(minimal_medium(BC15, minimize_components=True).keys())) & set(list(minimal_medium(CF402, minimize_components=True).keys())))"
   ]
  },
  {
   "cell_type": "markdown",
   "id": "eaa471cb-ff01-4d27-acca-304dbbd51128",
   "metadata": {},
   "source": [
    "# \"-\" interactions"
   ]
  },
  {
   "cell_type": "markdown",
   "id": "1f84be73-f08d-4625-9c47-b6f0c96abc60",
   "metadata": {},
   "source": [
    "## GM17 on CF142"
   ]
  },
  {
   "cell_type": "code",
   "execution_count": null,
   "id": "d100cb74-4f4c-40b7-aea9-2a3c970b330f",
   "metadata": {
    "tags": []
   },
   "outputs": [],
   "source": [
    "GM17 = kbase_api.get_from_ws(\"Pseudomonas_GM17_pacbio_v2.RAST.fbamodel\", 114731)\n",
    "CF142 = kbase_api.get_from_ws(\"Rhizobium_CF142_pacbio_v2.RAST.fbamodel\", 114731)\n",
    "GM17_CF142_model = kbase_api.get_from_ws(\"GM17-CF142\", 114731)\n",
    "test_pair(GM17, CF142, GM17_CF142_model)"
   ]
  },
  {
   "cell_type": "markdown",
   "id": "565310a6-13c3-40ed-b5dd-d3183e987f3b",
   "metadata": {},
   "source": [
    "## GM17 on BC15"
   ]
  },
  {
   "cell_type": "code",
   "execution_count": null,
   "id": "34b9018e-43f6-43f6-9912-e248e84a52cf",
   "metadata": {
    "tags": []
   },
   "outputs": [],
   "source": [
    "GM17 = kbase_api.get_from_ws(\"Pseudomonas_GM17_pacbio_v2.RAST.fbamodel\", 114731)\n",
    "BC15 = kbase_api.get_from_ws(\"Bacillus_sp._bc15.RAST.fbamodel\", 114731)\n",
    "GM17_BC15_model = kbase_api.get_from_ws(\"GM17-BC15\", 114731)\n",
    "test_pair(GM17, BC15, GM17_BC15_model)"
   ]
  },
  {
   "cell_type": "markdown",
   "id": "e85748b6-7c01-4318-adb9-8ae1a70c5b35",
   "metadata": {},
   "source": [
    "## CF313 on CF142 "
   ]
  },
  {
   "cell_type": "code",
   "execution_count": null,
   "id": "4c9693e5-fe5a-439b-b6a7-d1b32e289142",
   "metadata": {},
   "outputs": [],
   "source": [
    "CF313_CF142_model = kbase_api.get_from_ws(\"CF313-CF142\", 114731)\n",
    "test_pair(CF313, CF142, CF313_CF142_model)"
   ]
  },
  {
   "cell_type": "markdown",
   "id": "b5d4bbf5-a383-486b-aa65-a8b34685f599",
   "metadata": {},
   "source": [
    "## AP07 on AP49"
   ]
  },
  {
   "cell_type": "code",
   "execution_count": null,
   "id": "65b961d3-97af-4b19-8d18-259fe28f3782",
   "metadata": {
    "tags": []
   },
   "outputs": [],
   "source": [
    "AP07 = kbase_api.get_from_ws(\"Caulobacter_AP07_pacbio_v2.RAST.fbamodel\", 114731)\n",
    "AP49 = kbase_api.get_from_ws(\"Sphingobium_AP49_pacbio_v2.RAST.fbamodel\", 114731)\n",
    "AP07_AP49_model = kbase_api.get_from_ws(\"AP07-AP49\", 114731)\n",
    "test_pair(AP07, AP49, AP07_AP49_model)"
   ]
  },
  {
   "cell_type": "markdown",
   "id": "8d3c5529-c99d-4dbf-bac9-340fdfa58471",
   "metadata": {},
   "source": [
    "## CF313 on BT03"
   ]
  },
  {
   "cell_type": "code",
   "execution_count": null,
   "id": "ee85ee54-d40e-4caf-9618-55f3531e600a",
   "metadata": {
    "tags": []
   },
   "outputs": [],
   "source": [
    "BT03 = kbase_api.get_from_ws(\"Burkholderia_sp._BT03.RAST.fbamodel\", 114731)\n",
    "CF313 = kbase_api.get_from_ws(\"Variovorax_CF313_pacbio_v2.RAST.fbamodel\",114731)\n",
    "CF313_BT03_model = kbase_api.get_from_ws(\"CF313-BT03\", 114731)\n",
    "test_pair(CF313, BT03, CF313_BT03_model)"
   ]
  },
  {
   "cell_type": "markdown",
   "id": "8edc8690-81eb-4463-b9ec-babfffbd0ded",
   "metadata": {},
   "source": [
    "## YR139 on CF142"
   ]
  },
  {
   "cell_type": "code",
   "execution_count": null,
   "id": "765f864b-469d-4d4c-a2a3-b7f8ad63276a",
   "metadata": {},
   "outputs": [],
   "source": [
    "YR139 = kbase_api.get_from_ws(\"Streptomyces_YR139_pacbio_v2.RAST.fbamodel\", 114731)\n",
    "YR139_CF142_model = kbase_api.get_from_ws(\"YR139-CF142\", 114731)\n",
    "test_pair(YR139, CF142, YR139_CF142_model)"
   ]
  },
  {
   "cell_type": "markdown",
   "id": "f3527c8d-f068-47b9-a27f-72619a3e9baa",
   "metadata": {},
   "source": [
    "## GM17 on AP49"
   ]
  },
  {
   "cell_type": "code",
   "execution_count": null,
   "id": "88e080a4-06ee-4c4a-85ff-7310f56182c2",
   "metadata": {
    "tags": []
   },
   "outputs": [],
   "source": [
    "GM17_AP49_model = kbase_api.get_from_ws(\"GM17-AP49\", 114731)\n",
    "test_pair(GM17, AP49, GM17_AP49_model)"
   ]
  },
  {
   "cell_type": "markdown",
   "id": "130448d1-0a89-4e32-84d4-9e64a03e46f6",
   "metadata": {},
   "source": [
    "## GM17 on CF313"
   ]
  },
  {
   "cell_type": "code",
   "execution_count": null,
   "id": "2840df27-3843-4d3c-beb9-662bf5c17d3d",
   "metadata": {
    "tags": []
   },
   "outputs": [],
   "source": [
    "GM17_CF313_model = kbase_api.get_from_ws(\"GM17-CF313\", 114731)\n",
    "test_pair(GM17, CF313, GM17_CF313_model)"
   ]
  },
  {
   "cell_type": "markdown",
   "id": "6a8831df-314e-40de-a1cf-d9ec4cf21278",
   "metadata": {},
   "source": [
    "## GM17 on AP07"
   ]
  },
  {
   "cell_type": "code",
   "execution_count": null,
   "id": "f27b805f-2f70-4eea-b352-4d5446e2320b",
   "metadata": {
    "tags": []
   },
   "outputs": [],
   "source": [
    "GM17_AP07_model = kbase_api.get_from_ws(\"GM17-AP07\", 114731)\n",
    "test_pair(GM17, AP07, GM17_AP07_model)"
   ]
  },
  {
   "cell_type": "markdown",
   "id": "09cfc12c-d84c-4a87-836c-5829809c45b4",
   "metadata": {},
   "source": [
    "## GM17 on CF402"
   ]
  },
  {
   "cell_type": "code",
   "execution_count": null,
   "id": "d918a46f-0136-49cd-b72d-5e9f024f977c",
   "metadata": {
    "tags": []
   },
   "outputs": [],
   "source": [
    "GM17_CF402_model = kbase_api.get_from_ws(\"GM17-CF402\", 114731)\n",
    "test_pair(GM17, CF402, GM17_CF402_model)"
   ]
  },
  {
   "cell_type": "markdown",
   "id": "bcfa9f2a-5365-4385-9146-7e0ff4e21c81",
   "metadata": {},
   "source": [
    "## GM17 on BT03"
   ]
  },
  {
   "cell_type": "code",
   "execution_count": null,
   "id": "0bd97df7-4d65-4db8-bd45-969b3c36baab",
   "metadata": {
    "tags": []
   },
   "outputs": [],
   "source": [
    "GM17_BT03_model = kbase_api.get_from_ws(\"GM17-BT03\", 114731)\n",
    "test_pair(GM17, BT03, GM17_BT03_model)"
   ]
  },
  {
   "cell_type": "code",
   "execution_count": null,
   "id": "d9f37d33-045f-4139-bf4c-5bea69b5015a",
   "metadata": {},
   "outputs": [],
   "source": [
    "from cobra.medium import minimal_medium\n",
    "len(minimal_medium(CF402, minimize_components=True))"
   ]
  },
  {
   "cell_type": "markdown",
   "id": "40fbe40e-4209-4052-9e38-27d7678c3cf2",
   "metadata": {},
   "source": [
    "# Statistically process the above results"
   ]
  },
  {
   "cell_type": "markdown",
   "id": "4aafb7df-6069-42e6-a679-8a7ef2f9bd74",
   "metadata": {},
   "source": [
    "## MRO scores"
   ]
  },
  {
   "cell_type": "markdown",
   "id": "ccf0667e-f707-464c-a06c-740e75f15c39",
   "metadata": {},
   "source": [
    "### Parsed MRO values"
   ]
  },
  {
   "cell_type": "code",
   "execution_count": null,
   "id": "2ae27ca9-933c-49e6-a9cb-4199adcf712f",
   "metadata": {},
   "outputs": [],
   "source": [
    "# from scipy import stats\n",
    "# posInteractions = [YR343_CF313.mro[0], AP49_BC15.mro[0], YR343_CF313.mro[0], YR343_CF313.mro[0]]\n",
    "# negInteractions = [0.8636363636363636, 0.9, 0.9473684210526315, 0.7727272727272727, 0.8636363636363636, 0.8181818181818182, 0.8181818181818182, 0.8181818181818182, 0.8]\n",
    "\n",
    "# ttest = stats.ttest_ind(posInteractions, negInteractions)\n",
    "# print(ttest.pvalue)"
   ]
  },
  {
   "cell_type": "code",
   "execution_count": null,
   "id": "421fddba-1c26-4f2c-b806-ed798cb02782",
   "metadata": {},
   "outputs": [],
   "source": [
    "from scipy import stats\n",
    "posInteractions = [1, 0.7619047619047619, 0.38636363636363635, 0.36363636363636365]\n",
    "negInteractions = [0.8636363636363636, 0.9, 0.9473684210526315, 0.7727272727272727, 0.8636363636363636, 0.8181818181818182, 0.8181818181818182, 0.8181818181818182, 0.8]\n",
    "\n",
    "ttest = stats.ttest_ind(posInteractions, negInteractions)\n",
    "print(ttest.pvalue)"
   ]
  },
  {
   "cell_type": "code",
   "execution_count": null,
   "id": "d1007e54-cefd-4d00-984a-ed572c7646fb",
   "metadata": {},
   "outputs": [],
   "source": [
    "from matplotlib import pyplot\n",
    "import sigfig\n",
    "\n",
    "pyplot.rc('axes', titlesize=20, labelsize=20)\n",
    "pyplot.rc('xtick', labelsize=20)\n",
    "pyplot.rc('ytick', labelsize=20)\n",
    "pyplot.rc('legend', fontsize=18)\n",
    "fig = pyplot.figure(figsize=(7,10))\n",
    "\n",
    "pyplot.boxplot([posInteractions, negInteractions], labels=[\"'+'\", \"'--'\"])\n",
    "pyplot.scatter([1]*len(posInteractions), posInteractions)\n",
    "pyplot.scatter([2]*len(negInteractions), negInteractions)\n",
    "pyplot.xlabel(\"Interaction type\")\n",
    "pyplot.ylabel(\"MRO score (overlap)\")\n",
    "pyplot.text(1.6,.7, f\"p-value: {sigfig.round(ttest.pvalue, sigfigs=3)}\", fontsize=\"x-large\")\n",
    "fig.savefig(\"parsed MRO comparion.jpg\")\n",
    "# display(fig)\n",
    "# pyplot.show()"
   ]
  },
  {
   "cell_type": "markdown",
   "id": "adad8cf4-d78d-4a1a-a505-258df73edf87",
   "metadata": {},
   "source": [
    "### Averaged MRO values"
   ]
  },
  {
   "cell_type": "code",
   "execution_count": null,
   "id": "b669ba31-e86c-4ed0-a742-c114a4510eaf",
   "metadata": {
    "tags": []
   },
   "outputs": [],
   "source": [
    "from scipy import stats\n",
    "posInteractions = [0.9444444444444444, 0.7804878048780488, 0.5396825396825397, 0.53125]\n",
    "negInteractions = [0.9047619047619048, 0.8780487804878049, 0.9473684210526315]\n",
    "negInteractions2 = [0.8095238095238095, 0.926829268292683, 0.9473684210526315, 0.926829268292683, 0.8095238095238095, 0.5757575757575758, 0.8780487804878049]\n",
    "posInteractions2 = [0.9444444444444444, 0.7804878048780488, 0.5396825396825397, 0.53125]\n",
    "\n",
    "ttest = stats.ttest_ind(posInteractions2, negInteractions2)\n",
    "print(ttest.pvalue)"
   ]
  },
  {
   "cell_type": "code",
   "execution_count": null,
   "id": "057d0fa1-c9b1-45b4-a976-5bbf9278dcec",
   "metadata": {
    "tags": []
   },
   "outputs": [],
   "source": [
    "from matplotlib import pyplot\n",
    "import sigfig\n",
    "\n",
    "pyplot.rc('axes', titlesize=20, labelsize=20)\n",
    "pyplot.rc('xtick', labelsize=20)\n",
    "pyplot.rc('ytick', labelsize=20)\n",
    "pyplot.rc('legend', fontsize=18)\n",
    "fig = pyplot.figure(figsize=(7,10))\n",
    "\n",
    "pyplot.boxplot([posInteractions2, negInteractions2], labels=[\"'+'\", \"'--'\"])\n",
    "pyplot.scatter([1]*len(posInteractions2), posInteractions2)\n",
    "pyplot.scatter([2]*len(negInteractions2), negInteractions2)\n",
    "pyplot.xlabel(\"Interaction type\")\n",
    "pyplot.ylabel(\"MRO score (overlap)\")\n",
    "pyplot.text(1.6,.7, f\"p-value: {sigfig.round(ttest.pvalue, sigfigs=3)}\", fontsize=\"x-large\")\n",
    "fig.savefig(\"MRO comparion.jpg\")\n",
    "# display(fig)\n",
    "# pyplot.show()"
   ]
  },
  {
   "cell_type": "markdown",
   "id": "9216f60c-71e5-4123-a026-415ad9a255f8",
   "metadata": {},
   "source": [
    "## MIP scores"
   ]
  },
  {
   "cell_type": "code",
   "execution_count": null,
   "id": "940c5d87-184a-4c71-a58a-f88277fc481b",
   "metadata": {},
   "outputs": [],
   "source": [
    "from scipy import stats\n",
    "# posInteractions =[YR343_CF313.mip, AP49_BC15.mip, CF402_CF313.mip, CF402_BC15.mip]\n",
    "# negInteractions = [GM17_BC15.mip, AP07_AP49.mip, CF313_BT03.mip, GM17_AP49.mip, GM17_CF313.mip, GM17_AP07.mip, GM17_CF402.mip, GM17_BT03.mip, CF402_BC15.mip]\n",
    "negInteractions = [0, 0, 0, 0, 1, 4, 0]\n",
    "posInteractions = [0, 1, 6, 7]\n",
    "\n",
    "ttest = stats.ttest_ind(posInteractions, negInteractions)\n",
    "print(ttest.pvalue)"
   ]
  },
  {
   "cell_type": "code",
   "execution_count": null,
   "id": "a68f5f50-ea3d-4d1a-b16b-9b0412c16e6c",
   "metadata": {},
   "outputs": [],
   "source": [
    "from matplotlib import pyplot\n",
    "import sigfig\n",
    "\n",
    "pyplot.rc('axes', titlesize=20, labelsize=20)\n",
    "pyplot.rc('xtick', labelsize=20)\n",
    "pyplot.rc('ytick', labelsize=20)\n",
    "pyplot.rc('legend', fontsize=18)\n",
    "fig = pyplot.figure(figsize=(7,10))\n",
    "\n",
    "pyplot.boxplot([posInteractions, negInteractions], labels=[\"'+'\", \"'--'\"])\n",
    "pyplot.scatter([1]*len(posInteractions), posInteractions)\n",
    "pyplot.scatter([2]*len(negInteractions), negInteractions)\n",
    "pyplot.xlabel(\"Interaction type\")\n",
    "pyplot.ylabel(\"MIP score (syntrophy)\")\n",
    "pyplot.text(1.6,2, f\"p-value: {sigfig.round(ttest.pvalue, sigfigs=3)}\", fontsize=\"x-large\")\n",
    "fig.savefig(\"MIP comparion.jpg\")\n",
    "# display(fig)\n",
    "# pyplot.show()"
   ]
  },
  {
   "cell_type": "markdown",
   "id": "a3f98436-281c-4672-b31b-ef5c72ba0876",
   "metadata": {},
   "source": [
    "## smetana score"
   ]
  },
  {
   "cell_type": "code",
   "execution_count": null,
   "id": "68c1c46f-8ae5-4cd6-b408-9d231207c3b3",
   "metadata": {},
   "outputs": [],
   "source": [
    "from scipy import stats\n",
    "posInteractions = [63.57, 47.18, 52.63, 46, 32, 38, 0, 0]\n",
    "negInteractions = [53, 48.1, 44.76, 45, 0, 0]\n",
    "\n",
    "ttest = stats.ttest_ind(posInteractions, negInteractions)\n",
    "print(ttest.pvalue)"
   ]
  },
  {
   "cell_type": "code",
   "execution_count": null,
   "id": "eefd1a1c-2193-4e88-a9e1-fc58d98cdec0",
   "metadata": {},
   "outputs": [],
   "source": [
    "from matplotlib import pyplot\n",
    "import sigfig\n",
    "\n",
    "pyplot.rc('axes', titlesize=20, labelsize=20)\n",
    "pyplot.rc('xtick', labelsize=20)\n",
    "pyplot.rc('ytick', labelsize=20)\n",
    "pyplot.rc('legend', fontsize=18)\n",
    "fig = pyplot.figure(figsize=(7,10))\n",
    "\n",
    "pyplot.boxplot([posInteractions, negInteractions], labels=[\"'+'\", \"'--'\"])\n",
    "pyplot.scatter([1]*len(posInteractions), posInteractions)\n",
    "pyplot.scatter([2]*len(negInteractions), negInteractions)\n",
    "pyplot.xlabel(\"Interaction type\")\n",
    "pyplot.ylabel(\"smetana score (syntrophy potential)\")\n",
    "pyplot.text(1.6,62, f\"p-value: {sigfig.round(ttest.pvalue, sigfigs=3)}\", fontsize=\"x-large\")\n",
    "fig.savefig(\"smetana comparion.jpg\")\n",
    "# display(fig)\n",
    "# pyplot.show()"
   ]
  },
  {
   "cell_type": "code",
   "execution_count": null,
   "id": "6f8c0fad-439e-410d-a2ba-8089b73fbc1d",
   "metadata": {},
   "outputs": [],
   "source": []
  }
 ],
 "metadata": {
  "kernelspec": {
   "display_name": "Python 3 (ipykernel)",
   "language": "python",
   "name": "python3"
  },
  "language_info": {
   "codemirror_mode": {
    "name": "ipython",
    "version": 3
   },
   "file_extension": ".py",
   "mimetype": "text/x-python",
   "name": "python",
   "nbconvert_exporter": "python",
   "pygments_lexer": "ipython3",
   "version": "3.9.12"
  }
 },
 "nbformat": 4,
 "nbformat_minor": 5
}
