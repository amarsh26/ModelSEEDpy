{
 "cells": [
  {
   "cell_type": "code",
   "execution_count": 1,
   "id": "3690fff0-2b0c-4df5-99c3-0cfcd1a65342",
   "metadata": {},
   "outputs": [
    {
     "name": "stdout",
     "output_type": "stream",
     "text": [
      "   test  test2\n",
      "1     2      2\n"
     ]
    }
   ],
   "source": [
    "from pandas import DataFrame\n",
    "\n",
    "df = DataFrame({\"test\":[1,2,3,4,5], \"test2\":[3,2,1,2,3]})\n",
    "print(df[df[\"test\"] == df[\"test2\"]])"
   ]
  },
  {
   "cell_type": "code",
   "execution_count": 4,
   "id": "5443f463-e812-4282-8b29-df6f84a02d9b",
   "metadata": {},
   "outputs": [
    {
     "data": {
      "text/plain": [
       "5"
      ]
     },
     "execution_count": 4,
     "metadata": {},
     "output_type": "execute_result"
    }
   ],
   "source": [
    "df[\"test\"].iloc[-1]"
   ]
  },
  {
   "cell_type": "code",
   "execution_count": 1,
   "id": "a94fe19d-1869-471e-be0a-6449c7098f30",
   "metadata": {},
   "outputs": [
    {
     "name": "stdout",
     "output_type": "stream",
     "text": [
      "17 {'EX_cpd00215_e0', 'EX_cpd00355_e0', 'EX_cpd00793_e0', 'EX_cpd00156_e0', 'EX_cpd00030_e0', 'EX_cpd00058_e0', 'EX_cpd10515_e0', 'EX_cpd00322_e0', 'EX_cpd00099_e0', 'EX_cpd00254_e0', 'EX_cpd00393_e0', 'EX_cpd00149_e0', 'EX_cpd00034_e0', 'EX_cpd00007_e0', 'EX_cpd00048_e0', 'EX_cpd00205_e0', 'EX_cpd00063_e0'}\n"
     ]
    }
   ],
   "source": [
    "set1 = {'EX_cpd00254_e0', 'EX_cpd00007_e0', 'EX_cpd00393_e0', 'EX_cpd00205_e0', 'EX_cpd00149_e0', 'EX_cpd00355_e0', 'EX_cpd00099_e0', 'EX_cpd10515_e0', \n",
    "        'EX_cpd00156_e0', 'EX_cpd00215_e0', 'EX_cpd00058_e0', 'EX_cpd00322_e0', 'EX_cpd00793_e0', 'EX_cpd00030_e0', 'EX_cpd00034_e0', 'EX_cpd00048_e0', 'EX_cpd00063_e0'} \n",
    "\n",
    "set2 = {'EX_cpd00215_e0', 'EX_cpd00048_e0', 'EX_cpd00063_e0', 'EX_cpd00220_e0', 'EX_cpd00254_e0', 'EX_cpd00793_e0', 'EX_cpd00007_e0', 'EX_cpd00205_e0', 'EX_cpd00149_e0', \n",
    "'EX_cpd00355_e0', 'EX_cpd00099_e0', 'EX_cpd00156_e0', 'EX_cpd00322_e0', 'EX_cpd00034_e0', 'EX_cpd00393_e0', 'EX_cpd10515_e0', 'EX_cpd00028_e0', 'EX_cpd00058_e0', 'EX_cpd00030_e0'}\n",
    "\n",
    "intersection = set1 & set2\n",
    "\n",
    "print(len(intersection), intersection)"
   ]
  }
 ],
 "metadata": {
  "kernelspec": {
   "display_name": "Python 3 (ipykernel)",
   "language": "python",
   "name": "python3"
  },
  "language_info": {
   "codemirror_mode": {
    "name": "ipython",
    "version": 3
   },
   "file_extension": ".py",
   "mimetype": "text/x-python",
   "name": "python",
   "nbconvert_exporter": "python",
   "pygments_lexer": "ipython3",
   "version": "3.9.12"
  }
 },
 "nbformat": 4,
 "nbformat_minor": 5
}
